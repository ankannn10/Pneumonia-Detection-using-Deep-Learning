{
 "cells": [
  {
   "cell_type": "code",
   "execution_count": 1,
   "id": "945440ac",
   "metadata": {},
   "outputs": [],
   "source": [
    "# basics\n",
    "import numpy as np \n",
    "import matplotlib.pyplot as plt\n",
    "import pandas as pd\n",
    "import seaborn as sns\n",
    "from sklearn.metrics import classification_report, confusion_matrix\n",
    "from sklearn.metrics import roc_curve\n",
    "from sklearn.metrics import roc_auc_score\n",
    "from sklearn.metrics import auc\n",
    "\n",
    "import pickle \n",
    "\n",
    "# Keras Libraries\n",
    "import keras\n",
    "import tensorflow as tf\n",
    "from keras import backend as K\n",
    "from keras import metrics\n",
    "from tensorflow.keras.preprocessing.image import load_img, img_to_array\n",
    "from keras.regularizers import l2\n",
    "from keras.models import Sequential\n",
    "from keras.layers import Conv2D, MaxPooling2D, Flatten, Dense, Dropout, BatchNormalization, InputLayer, Activation\n",
    "from tensorflow.keras.preprocessing.image import ImageDataGenerator, load_img\n",
    "from keras.metrics import AUC\n",
    "from keras.optimizers import Adam\n",
    "from keras.callbacks import EarlyStopping\n",
    "from sklearn.metrics import classification_report, confusion_matrix\n",
    "import keras.backend"
   ]
  },
  {
   "cell_type": "code",
   "execution_count": 2,
   "id": "9d4aad0f",
   "metadata": {},
   "outputs": [],
   "source": [
    "# Set a seed value\n",
    "seed_value= 42\n",
    "\n",
    "# 1. Set `PYTHONHASHSEED` environment variable at a fixed value\n",
    "import os\n",
    "os.environ['PYTHONHASHSEED']=str(seed_value)\n",
    "\n",
    "# 2. Set `python` built-in pseudo-random generator at a fixed value\n",
    "import random\n",
    "random.seed(seed_value)\n",
    "\n",
    "# 3. Set `numpy` pseudo-random generator at a fixed value\n",
    "np.random.seed(seed_value)\n",
    "\n",
    "# 4. Set `tensorflow` pseudo-random generator at a fixed value\n",
    "tf.random.set_seed(seed_value)\n",
    "\n",
    "# 5. For layers that introduce randomness like dropout, make sure to set seed values \n",
    "#model.add(Dropout(0.25, seed=seed_value))"
   ]
  },
  {
   "cell_type": "code",
   "execution_count": 3,
   "id": "48c9244c",
   "metadata": {},
   "outputs": [],
   "source": [
    "project_path = \"/Users/freazx/Documents/ONE TAB/CODING\"\n",
    "train_path = project_path + \"/chest_xray/setB/train/\"\n",
    "val_path = project_path + \"/chest_xray/setB/val/\"\n",
    "test_path = project_path + \"/chest_xray/setB/test/\""
   ]
  },
  {
   "cell_type": "code",
   "execution_count": 4,
   "id": "45df1923",
   "metadata": {},
   "outputs": [],
   "source": [
    "hyper_dimension = 64\n",
    "hyper_batch_size = 32\n",
    "hyper_epochs = 100\n",
    "\n",
    "## Training in grayscale instead of RGB\n",
    "hyper_channels = 1\n",
    "hyper_mode = 'grayscale'"
   ]
  },
  {
   "cell_type": "code",
   "execution_count": 5,
   "id": "a3c3e284",
   "metadata": {},
   "outputs": [
    {
     "name": "stdout",
     "output_type": "stream",
     "text": [
      "Found 4104 images belonging to 2 classes.\n",
      "Found 871 images belonging to 2 classes.\n",
      "Found 876 images belonging to 2 classes.\n"
     ]
    }
   ],
   "source": [
    "train_datagen = ImageDataGenerator(rescale=1.0/255.0, \n",
    "                                   shear_range = 0.2,\n",
    "                                   zoom_range = 0.2, \n",
    "                                   horizontal_flip = True)\n",
    "val_datagen = ImageDataGenerator(rescale=1.0/255.0) \n",
    "test_datagen = ImageDataGenerator(rescale=1.0/255.0) \n",
    "\n",
    "train_generator = train_datagen.flow_from_directory(directory = train_path, \n",
    "                                                    target_size = (hyper_dimension, hyper_dimension),\n",
    "                                                    batch_size = hyper_batch_size, \n",
    "                                                    color_mode = hyper_mode,\n",
    "                                                    class_mode = 'binary', \n",
    "                                                    seed = 42)\n",
    "val_generator = val_datagen.flow_from_directory(directory = val_path, \n",
    "                                                 target_size = (hyper_dimension, hyper_dimension),\n",
    "                                                 batch_size = hyper_batch_size, \n",
    "                                                 class_mode = 'binary',\n",
    "                                                 color_mode = hyper_mode,\n",
    "                                                 shuffle=False,\n",
    "                                                 seed = 42)\n",
    "test_generator = test_datagen.flow_from_directory(directory = test_path, \n",
    "                                                 target_size = (hyper_dimension, hyper_dimension),\n",
    "                                                 batch_size = hyper_batch_size, \n",
    "                                                 class_mode = 'binary',\n",
    "                                                 color_mode = hyper_mode,\n",
    "                                                 shuffle=False,\n",
    "                                                 seed = 42)\n",
    "\n",
    "test_generator.reset()"
   ]
  },
  {
   "cell_type": "code",
   "execution_count": 6,
   "id": "a6ede553",
   "metadata": {},
   "outputs": [],
   "source": [
    "def create_charts(cnn, cnn_model):\n",
    "    ## Define train & validation loss\n",
    "    train_loss = cnn_model.history['loss']\n",
    "    val_loss = cnn_model.history['val_loss']\n",
    "    \n",
    "    ## Define train & validation AUC\n",
    "    train_auc_name = list(cnn_model.history.keys())[3]\n",
    "    val_auc_name = list(cnn_model.history.keys())[1]\n",
    "    train_auc = cnn_model.history[train_auc_name]\n",
    "    val_auc = cnn_model.history[val_auc_name]\n",
    "    \n",
    "    ## Define y_pred & y_true\n",
    "    y_true = test_generator.classes\n",
    "    Y_pred = cnn.predict(test_generator, steps=len(test_generator))\n",
    "    y_pred = (Y_pred > 0.5).T[0]\n",
    "    y_pred_prob = Y_pred.T[0]\n",
    "    \n",
    "    ## PLOT ##\n",
    "    fig = plt.figure(figsize=(13, 10))\n",
    "    \n",
    "    ## PLOT 1: TRAIN VS. VALIDATION LOSS \n",
    "    plt.subplot(2,2,1)\n",
    "    plt.title(\"Training vs. Validation Loss\")\n",
    "    plt.plot(train_loss, label='training loss')\n",
    "    plt.plot(val_loss, label='validation loss')\n",
    "    plt.xlabel(\"Number of Epochs\", size=14)\n",
    "    plt.legend()\n",
    "\n",
    "    ## PLOT 2: TRAIN VS. VALIDATION AUC\n",
    "    plt.subplot(2,2,2)\n",
    "    plt.title(\"Training vs. Validation AUC Score\")\n",
    "    plt.plot(train_auc, label='training auc')\n",
    "    plt.plot(val_auc, label='validation auc')\n",
    "    plt.xlabel(\"Number of Epochs\", size=14)\n",
    "    plt.legend()\n",
    "    \n",
    "    ## PLOT 3: CONFUSION MATRIX\n",
    "    plt.subplot(2,2,3)\n",
    "    # Set up the labels for in the confusion matrix\n",
    "    cm = confusion_matrix(y_true, y_pred)\n",
    "    names = ['True Negatives', 'False Positives', 'False Negatives', 'True Positives']\n",
    "    counts = ['{0:0.0f}'.format(value) for value in cm.flatten()]\n",
    "    percentages = ['{0:.2%}'.format(value) for value in cm.flatten()/np.sum(cm)]\n",
    "    labels = [f'{v1}\\n{v2}' for v1, v2 in zip(names, percentages)]\n",
    "    labels = np.asarray(labels).reshape(2,2)\n",
    "    ticklabels = ['Normal', 'Pneumonia']\n",
    "\n",
    "    # Create confusion matrix as heatmap\n",
    "    sns.set(font_scale = 1.4)\n",
    "    ax = sns.heatmap(cm, annot=labels, fmt='', cmap='Oranges', xticklabels=ticklabels, yticklabels=ticklabels )\n",
    "    plt.xticks(size=12)\n",
    "    plt.yticks(size=12)\n",
    "    plt.title(\"Confusion Matrix\") #plt.title(\"Confusion Matrix\\n\", fontsize=10)\n",
    "    plt.xlabel(\"Predicted\", size=14)\n",
    "    plt.ylabel(\"Actual\", size=14) \n",
    "    #plt.savefig('cm.png', transparent=True) \n",
    "    \n",
    "     ## PLOT 4: ROC CURVE\n",
    "    plt.subplot(2,2,4)\n",
    "    fpr, tpr, thresholds = roc_curve(y_true, y_pred_prob)\n",
    "    auc = roc_auc_score(y_true, y_pred_prob)\n",
    "    plt.title('ROC Curve')\n",
    "    plt.plot([0, 1], [0, 1], 'k--', label = \"Random (AUC = 50%)\")\n",
    "    plt.plot(fpr, tpr, label='CNN (AUC = {:.2f}%)'.format(auc*100))\n",
    "    plt.xlabel('False Positive Rate', size=14)\n",
    "    plt.ylabel('True Positive Rate', size=14)\n",
    "    plt.legend(loc='best')\n",
    "    #plt.savefig('roc.png', bbox_inches='tight', pad_inches=1)\n",
    "    \n",
    "    ## END PLOTS\n",
    "    plt.tight_layout()\n",
    "    ;\n",
    "    \n",
    "    ## Summary Statistics\n",
    "    TN, FP, FN, TP = cm.ravel() # cm[0,0], cm[0, 1], cm[1, 0], cm[1, 1]\n",
    "    accuracy = (TP + TN) / np.sum(cm) # % positive out of all predicted positives\n",
    "    precision = TP / (TP+FP) # % positive out of all predicted positives\n",
    "    recall =  TP / (TP+FN) # % positive out of all supposed to be positives\n",
    "    specificity = TN / (TN+FP) # % negative out of all supposed to be negatives\n",
    "    f1 = 2*precision*recall / (precision + recall)\n",
    "    stats_summary = '[Summary Statistics]\\nAccuracy = {:.2%} | Precision = {:.2%} | Recall = {:.2%} | Specificity = {:.2%} | F1 Score = {:.2%}'.format(accuracy, precision, recall, specificity, f1)\n",
    "    print(stats_summary)"
   ]
  },
  {
   "cell_type": "code",
   "execution_count": 7,
   "id": "bc9c7779",
   "metadata": {},
   "outputs": [
    {
     "name": "stdout",
     "output_type": "stream",
     "text": [
      "Epoch 1/200\n"
     ]
    },
    {
     "name": "stderr",
     "output_type": "stream",
     "text": [
      "/Users/freazx/anaconda3/lib/python3.11/site-packages/keras/src/trainers/data_adapters/py_dataset_adapter.py:120: UserWarning: Your `PyDataset` class should call `super().__init__(**kwargs)` in its constructor. `**kwargs` can include `workers`, `use_multiprocessing`, `max_queue_size`. Do not pass these arguments to `fit()`, as they will be ignored.\n",
      "  self._warn_if_super_not_called()\n"
     ]
    },
    {
     "name": "stdout",
     "output_type": "stream",
     "text": [
      "129/129 - 27s - 212ms/step - auc: 0.6412 - loss: 0.5557 - val_auc: 0.9184 - val_loss: 0.4438\n",
      "Epoch 2/200\n",
      "129/129 - 0s - 104us/step - auc: 0.0000e+00 - loss: 0.0000e+00 - val_auc: 0.0000e+00 - val_loss: 0.0000e+00\n",
      "Epoch 3/200\n"
     ]
    },
    {
     "name": "stderr",
     "output_type": "stream",
     "text": [
      "2024-03-31 18:05:16.544451: W tensorflow/core/framework/local_rendezvous.cc:404] Local rendezvous is aborting with status: OUT_OF_RANGE: End of sequence\n",
      "\t [[{{node IteratorGetNext}}]]\n",
      "/Users/freazx/anaconda3/lib/python3.11/contextlib.py:155: UserWarning: Your input ran out of data; interrupting training. Make sure that your dataset or generator can generate at least `steps_per_epoch * epochs` batches. You may need to use the `.repeat()` function when building your dataset.\n",
      "  self.gen.throw(typ, value, traceback)\n",
      "2024-03-31 18:05:16.549287: W tensorflow/core/framework/local_rendezvous.cc:404] Local rendezvous is aborting with status: OUT_OF_RANGE: End of sequence\n",
      "\t [[{{node IteratorGetNext}}]]\n"
     ]
    },
    {
     "name": "stdout",
     "output_type": "stream",
     "text": [
      "129/129 - 26s - 204ms/step - auc: 0.9315 - loss: 0.2909 - val_auc: 0.9631 - val_loss: 0.2278\n",
      "Epoch 4/200\n",
      "129/129 - 0s - 62us/step - auc: 0.0000e+00 - loss: 0.0000e+00 - val_auc: 0.0000e+00 - val_loss: 0.0000e+00\n",
      "Epoch 5/200\n"
     ]
    },
    {
     "name": "stderr",
     "output_type": "stream",
     "text": [
      "2024-03-31 18:05:42.889282: W tensorflow/core/framework/local_rendezvous.cc:404] Local rendezvous is aborting with status: OUT_OF_RANGE: End of sequence\n",
      "\t [[{{node IteratorGetNext}}]]\n",
      "2024-03-31 18:05:42.892112: W tensorflow/core/framework/local_rendezvous.cc:404] Local rendezvous is aborting with status: OUT_OF_RANGE: End of sequence\n",
      "\t [[{{node IteratorGetNext}}]]\n"
     ]
    },
    {
     "name": "stdout",
     "output_type": "stream",
     "text": [
      "129/129 - 26s - 202ms/step - auc: 0.9606 - loss: 0.2267 - val_auc: 0.9738 - val_loss: 0.1901\n",
      "Epoch 6/200\n",
      "129/129 - 0s - 57us/step - auc: 0.0000e+00 - loss: 0.0000e+00 - val_auc: 0.0000e+00 - val_loss: 0.0000e+00\n",
      "Epoch 7/200\n"
     ]
    },
    {
     "name": "stderr",
     "output_type": "stream",
     "text": [
      "2024-03-31 18:06:08.984841: W tensorflow/core/framework/local_rendezvous.cc:404] Local rendezvous is aborting with status: OUT_OF_RANGE: End of sequence\n",
      "\t [[{{node IteratorGetNext}}]]\n",
      "2024-03-31 18:06:08.987537: W tensorflow/core/framework/local_rendezvous.cc:404] Local rendezvous is aborting with status: OUT_OF_RANGE: End of sequence\n",
      "\t [[{{node IteratorGetNext}}]]\n"
     ]
    },
    {
     "name": "stdout",
     "output_type": "stream",
     "text": [
      "129/129 - 26s - 204ms/step - auc: 0.9632 - loss: 0.2164 - val_auc: 0.9713 - val_loss: 0.3980\n",
      "Epoch 8/200\n",
      "129/129 - 0s - 55us/step - auc: 0.0000e+00 - loss: 0.0000e+00 - val_auc: 0.0000e+00 - val_loss: 0.0000e+00\n",
      "Epoch 9/200\n"
     ]
    },
    {
     "name": "stderr",
     "output_type": "stream",
     "text": [
      "2024-03-31 18:06:35.298171: W tensorflow/core/framework/local_rendezvous.cc:404] Local rendezvous is aborting with status: OUT_OF_RANGE: End of sequence\n",
      "\t [[{{node IteratorGetNext}}]]\n",
      "2024-03-31 18:06:35.300705: W tensorflow/core/framework/local_rendezvous.cc:404] Local rendezvous is aborting with status: OUT_OF_RANGE: End of sequence\n",
      "\t [[{{node IteratorGetNext}}]]\n"
     ]
    },
    {
     "name": "stdout",
     "output_type": "stream",
     "text": [
      "129/129 - 27s - 213ms/step - auc: 0.9669 - loss: 0.2054 - val_auc: 0.9815 - val_loss: 0.1838\n",
      "Epoch 10/200\n",
      "129/129 - 0s - 55us/step - auc: 0.0000e+00 - loss: 0.0000e+00 - val_auc: 0.0000e+00 - val_loss: 0.0000e+00\n",
      "Epoch 11/200\n"
     ]
    },
    {
     "name": "stderr",
     "output_type": "stream",
     "text": [
      "2024-03-31 18:07:02.745580: W tensorflow/core/framework/local_rendezvous.cc:404] Local rendezvous is aborting with status: OUT_OF_RANGE: End of sequence\n",
      "\t [[{{node IteratorGetNext}}]]\n",
      "2024-03-31 18:07:02.748150: W tensorflow/core/framework/local_rendezvous.cc:404] Local rendezvous is aborting with status: OUT_OF_RANGE: End of sequence\n",
      "\t [[{{node IteratorGetNext}}]]\n"
     ]
    },
    {
     "name": "stdout",
     "output_type": "stream",
     "text": [
      "129/129 - 28s - 216ms/step - auc: 0.9738 - loss: 0.1818 - val_auc: 0.9850 - val_loss: 0.2605\n",
      "Epoch 12/200\n",
      "129/129 - 0s - 53us/step - auc: 0.0000e+00 - loss: 0.0000e+00 - val_auc: 0.0000e+00 - val_loss: 0.0000e+00\n",
      "Epoch 13/200\n"
     ]
    },
    {
     "name": "stderr",
     "output_type": "stream",
     "text": [
      "2024-03-31 18:07:30.649695: W tensorflow/core/framework/local_rendezvous.cc:404] Local rendezvous is aborting with status: OUT_OF_RANGE: End of sequence\n",
      "\t [[{{node IteratorGetNext}}]]\n",
      "2024-03-31 18:07:30.652123: W tensorflow/core/framework/local_rendezvous.cc:404] Local rendezvous is aborting with status: OUT_OF_RANGE: End of sequence\n",
      "\t [[{{node IteratorGetNext}}]]\n"
     ]
    },
    {
     "name": "stdout",
     "output_type": "stream",
     "text": [
      "129/129 - 28s - 220ms/step - auc: 0.9734 - loss: 0.1798 - val_auc: 0.9838 - val_loss: 0.1576\n",
      "Epoch 14/200\n",
      "129/129 - 0s - 57us/step - auc: 0.0000e+00 - loss: 0.0000e+00 - val_auc: 0.0000e+00 - val_loss: 0.0000e+00\n",
      "Epoch 15/200\n"
     ]
    },
    {
     "name": "stderr",
     "output_type": "stream",
     "text": [
      "2024-03-31 18:07:59.017532: W tensorflow/core/framework/local_rendezvous.cc:404] Local rendezvous is aborting with status: OUT_OF_RANGE: End of sequence\n",
      "\t [[{{node IteratorGetNext}}]]\n",
      "2024-03-31 18:07:59.020334: W tensorflow/core/framework/local_rendezvous.cc:404] Local rendezvous is aborting with status: OUT_OF_RANGE: End of sequence\n",
      "\t [[{{node IteratorGetNext}}]]\n"
     ]
    },
    {
     "name": "stdout",
     "output_type": "stream",
     "text": [
      "129/129 - 28s - 219ms/step - auc: 0.9768 - loss: 0.1715 - val_auc: 0.9839 - val_loss: 0.2467\n",
      "Epoch 16/200\n",
      "129/129 - 0s - 55us/step - auc: 0.0000e+00 - loss: 0.0000e+00 - val_auc: 0.0000e+00 - val_loss: 0.0000e+00\n",
      "Epoch 17/200\n"
     ]
    },
    {
     "name": "stderr",
     "output_type": "stream",
     "text": [
      "2024-03-31 18:08:27.306930: W tensorflow/core/framework/local_rendezvous.cc:404] Local rendezvous is aborting with status: OUT_OF_RANGE: End of sequence\n",
      "\t [[{{node IteratorGetNext}}]]\n",
      "2024-03-31 18:08:27.309593: W tensorflow/core/framework/local_rendezvous.cc:404] Local rendezvous is aborting with status: OUT_OF_RANGE: End of sequence\n",
      "\t [[{{node IteratorGetNext}}]]\n"
     ]
    },
    {
     "name": "stdout",
     "output_type": "stream",
     "text": [
      "129/129 - 29s - 223ms/step - auc: 0.9789 - loss: 0.1644 - val_auc: 0.9861 - val_loss: 0.1572\n",
      "Epoch 18/200\n",
      "129/129 - 0s - 57us/step - auc: 0.0000e+00 - loss: 0.0000e+00 - val_auc: 0.0000e+00 - val_loss: 0.0000e+00\n",
      "Epoch 19/200\n"
     ]
    },
    {
     "name": "stderr",
     "output_type": "stream",
     "text": [
      "2024-03-31 18:08:56.124228: W tensorflow/core/framework/local_rendezvous.cc:404] Local rendezvous is aborting with status: OUT_OF_RANGE: End of sequence\n",
      "\t [[{{node IteratorGetNext}}]]\n",
      "2024-03-31 18:08:56.126841: W tensorflow/core/framework/local_rendezvous.cc:404] Local rendezvous is aborting with status: OUT_OF_RANGE: End of sequence\n",
      "\t [[{{node IteratorGetNext}}]]\n"
     ]
    },
    {
     "name": "stdout",
     "output_type": "stream",
     "text": [
      "129/129 - 29s - 222ms/step - auc: 0.9793 - loss: 0.1600 - val_auc: 0.9855 - val_loss: 0.1619\n",
      "Epoch 20/200\n",
      "129/129 - 0s - 57us/step - auc: 0.0000e+00 - loss: 0.0000e+00 - val_auc: 0.0000e+00 - val_loss: 0.0000e+00\n",
      "Epoch 21/200\n"
     ]
    },
    {
     "name": "stderr",
     "output_type": "stream",
     "text": [
      "2024-03-31 18:09:24.808620: W tensorflow/core/framework/local_rendezvous.cc:404] Local rendezvous is aborting with status: OUT_OF_RANGE: End of sequence\n",
      "\t [[{{node IteratorGetNext}}]]\n",
      "2024-03-31 18:09:24.811073: W tensorflow/core/framework/local_rendezvous.cc:404] Local rendezvous is aborting with status: OUT_OF_RANGE: End of sequence\n",
      "\t [[{{node IteratorGetNext}}]]\n"
     ]
    },
    {
     "name": "stdout",
     "output_type": "stream",
     "text": [
      "129/129 - 29s - 223ms/step - auc: 0.9787 - loss: 0.1619 - val_auc: 0.9809 - val_loss: 0.1811\n",
      "Epoch 22/200\n",
      "129/129 - 0s - 54us/step - auc: 0.0000e+00 - loss: 0.0000e+00 - val_auc: 0.0000e+00 - val_loss: 0.0000e+00\n",
      "Epoch 23/200\n"
     ]
    },
    {
     "name": "stderr",
     "output_type": "stream",
     "text": [
      "2024-03-31 18:09:53.570281: W tensorflow/core/framework/local_rendezvous.cc:404] Local rendezvous is aborting with status: OUT_OF_RANGE: End of sequence\n",
      "\t [[{{node IteratorGetNext}}]]\n",
      "2024-03-31 18:09:53.572868: W tensorflow/core/framework/local_rendezvous.cc:404] Local rendezvous is aborting with status: OUT_OF_RANGE: End of sequence\n",
      "\t [[{{node IteratorGetNext}}]]\n"
     ]
    },
    {
     "name": "stdout",
     "output_type": "stream",
     "text": [
      "129/129 - 28s - 221ms/step - auc: 0.9831 - loss: 0.1453 - val_auc: 0.9855 - val_loss: 0.1440\n",
      "Epoch 24/200\n",
      "129/129 - 0s - 60us/step - auc: 0.0000e+00 - loss: 0.0000e+00 - val_auc: 0.0000e+00 - val_loss: 0.0000e+00\n",
      "Epoch 25/200\n"
     ]
    },
    {
     "name": "stderr",
     "output_type": "stream",
     "text": [
      "2024-03-31 18:10:22.042533: W tensorflow/core/framework/local_rendezvous.cc:404] Local rendezvous is aborting with status: OUT_OF_RANGE: End of sequence\n",
      "\t [[{{node IteratorGetNext}}]]\n",
      "2024-03-31 18:10:22.045029: W tensorflow/core/framework/local_rendezvous.cc:404] Local rendezvous is aborting with status: OUT_OF_RANGE: End of sequence\n",
      "\t [[{{node IteratorGetNext}}]]\n"
     ]
    },
    {
     "name": "stdout",
     "output_type": "stream",
     "text": [
      "129/129 - 29s - 224ms/step - auc: 0.9822 - loss: 0.1476 - val_auc: 0.9867 - val_loss: 0.1394\n",
      "Epoch 26/200\n",
      "129/129 - 0s - 56us/step - auc: 0.0000e+00 - loss: 0.0000e+00 - val_auc: 0.0000e+00 - val_loss: 0.0000e+00\n",
      "Epoch 27/200\n"
     ]
    },
    {
     "name": "stderr",
     "output_type": "stream",
     "text": [
      "2024-03-31 18:10:50.923948: W tensorflow/core/framework/local_rendezvous.cc:404] Local rendezvous is aborting with status: OUT_OF_RANGE: End of sequence\n",
      "\t [[{{node IteratorGetNext}}]]\n",
      "2024-03-31 18:10:50.926520: W tensorflow/core/framework/local_rendezvous.cc:404] Local rendezvous is aborting with status: OUT_OF_RANGE: End of sequence\n",
      "\t [[{{node IteratorGetNext}}]]\n"
     ]
    },
    {
     "name": "stdout",
     "output_type": "stream",
     "text": [
      "129/129 - 29s - 223ms/step - auc: 0.9832 - loss: 0.1421 - val_auc: 0.9878 - val_loss: 0.1372\n",
      "Epoch 28/200\n",
      "129/129 - 0s - 57us/step - auc: 0.0000e+00 - loss: 0.0000e+00 - val_auc: 0.0000e+00 - val_loss: 0.0000e+00\n",
      "Epoch 29/200\n"
     ]
    },
    {
     "name": "stderr",
     "output_type": "stream",
     "text": [
      "2024-03-31 18:11:19.725314: W tensorflow/core/framework/local_rendezvous.cc:404] Local rendezvous is aborting with status: OUT_OF_RANGE: End of sequence\n",
      "\t [[{{node IteratorGetNext}}]]\n",
      "2024-03-31 18:11:19.727836: W tensorflow/core/framework/local_rendezvous.cc:404] Local rendezvous is aborting with status: OUT_OF_RANGE: End of sequence\n",
      "\t [[{{node IteratorGetNext}}]]\n"
     ]
    },
    {
     "name": "stdout",
     "output_type": "stream",
     "text": [
      "129/129 - 29s - 225ms/step - auc: 0.9842 - loss: 0.1363 - val_auc: 0.9845 - val_loss: 0.1409\n",
      "Epoch 30/200\n",
      "129/129 - 0s - 55us/step - auc: 0.0000e+00 - loss: 0.0000e+00 - val_auc: 0.0000e+00 - val_loss: 0.0000e+00\n",
      "Epoch 31/200\n"
     ]
    },
    {
     "name": "stderr",
     "output_type": "stream",
     "text": [
      "2024-03-31 18:11:48.726836: W tensorflow/core/framework/local_rendezvous.cc:404] Local rendezvous is aborting with status: OUT_OF_RANGE: End of sequence\n",
      "\t [[{{node IteratorGetNext}}]]\n",
      "2024-03-31 18:11:48.729400: W tensorflow/core/framework/local_rendezvous.cc:404] Local rendezvous is aborting with status: OUT_OF_RANGE: End of sequence\n",
      "\t [[{{node IteratorGetNext}}]]\n"
     ]
    },
    {
     "name": "stdout",
     "output_type": "stream",
     "text": [
      "129/129 - 29s - 224ms/step - auc: 0.9861 - loss: 0.1304 - val_auc: 0.9886 - val_loss: 0.1214\n",
      "Epoch 32/200\n",
      "129/129 - 0s - 55us/step - auc: 0.0000e+00 - loss: 0.0000e+00 - val_auc: 0.0000e+00 - val_loss: 0.0000e+00\n",
      "Epoch 33/200\n"
     ]
    },
    {
     "name": "stderr",
     "output_type": "stream",
     "text": [
      "2024-03-31 18:12:17.606893: W tensorflow/core/framework/local_rendezvous.cc:404] Local rendezvous is aborting with status: OUT_OF_RANGE: End of sequence\n",
      "\t [[{{node IteratorGetNext}}]]\n",
      "2024-03-31 18:12:17.609528: W tensorflow/core/framework/local_rendezvous.cc:404] Local rendezvous is aborting with status: OUT_OF_RANGE: End of sequence\n",
      "\t [[{{node IteratorGetNext}}]]\n"
     ]
    },
    {
     "name": "stdout",
     "output_type": "stream",
     "text": [
      "129/129 - 29s - 225ms/step - auc: 0.9861 - loss: 0.1285 - val_auc: 0.9850 - val_loss: 0.1396\n",
      "Epoch 34/200\n",
      "129/129 - 0s - 52us/step - auc: 0.0000e+00 - loss: 0.0000e+00 - val_auc: 0.0000e+00 - val_loss: 0.0000e+00\n",
      "Epoch 35/200\n"
     ]
    },
    {
     "name": "stderr",
     "output_type": "stream",
     "text": [
      "2024-03-31 18:12:46.635974: W tensorflow/core/framework/local_rendezvous.cc:404] Local rendezvous is aborting with status: OUT_OF_RANGE: End of sequence\n",
      "\t [[{{node IteratorGetNext}}]]\n",
      "2024-03-31 18:12:46.638283: W tensorflow/core/framework/local_rendezvous.cc:404] Local rendezvous is aborting with status: OUT_OF_RANGE: End of sequence\n",
      "\t [[{{node IteratorGetNext}}]]\n"
     ]
    },
    {
     "name": "stdout",
     "output_type": "stream",
     "text": [
      "129/129 - 29s - 227ms/step - auc: 0.9872 - loss: 0.1230 - val_auc: 0.9884 - val_loss: 0.1275\n",
      "Epoch 36/200\n",
      "129/129 - 0s - 55us/step - auc: 0.0000e+00 - loss: 0.0000e+00 - val_auc: 0.0000e+00 - val_loss: 0.0000e+00\n",
      "Epoch 37/200\n"
     ]
    },
    {
     "name": "stderr",
     "output_type": "stream",
     "text": [
      "2024-03-31 18:13:15.872466: W tensorflow/core/framework/local_rendezvous.cc:404] Local rendezvous is aborting with status: OUT_OF_RANGE: End of sequence\n",
      "\t [[{{node IteratorGetNext}}]]\n",
      "2024-03-31 18:13:15.875018: W tensorflow/core/framework/local_rendezvous.cc:404] Local rendezvous is aborting with status: OUT_OF_RANGE: End of sequence\n",
      "\t [[{{node IteratorGetNext}}]]\n"
     ]
    },
    {
     "name": "stdout",
     "output_type": "stream",
     "text": [
      "129/129 - 29s - 228ms/step - auc: 0.9852 - loss: 0.1314 - val_auc: 0.9867 - val_loss: 0.1279\n",
      "Epoch 38/200\n",
      "129/129 - 0s - 57us/step - auc: 0.0000e+00 - loss: 0.0000e+00 - val_auc: 0.0000e+00 - val_loss: 0.0000e+00\n",
      "Epoch 39/200\n"
     ]
    },
    {
     "name": "stderr",
     "output_type": "stream",
     "text": [
      "2024-03-31 18:13:45.286138: W tensorflow/core/framework/local_rendezvous.cc:404] Local rendezvous is aborting with status: OUT_OF_RANGE: End of sequence\n",
      "\t [[{{node IteratorGetNext}}]]\n",
      "2024-03-31 18:13:45.288766: W tensorflow/core/framework/local_rendezvous.cc:404] Local rendezvous is aborting with status: OUT_OF_RANGE: End of sequence\n",
      "\t [[{{node IteratorGetNext}}]]\n"
     ]
    },
    {
     "name": "stdout",
     "output_type": "stream",
     "text": [
      "129/129 - 29s - 228ms/step - auc: 0.9893 - loss: 0.1144 - val_auc: 0.9889 - val_loss: 0.1220\n",
      "Epoch 40/200\n",
      "129/129 - 0s - 59us/step - auc: 0.0000e+00 - loss: 0.0000e+00 - val_auc: 0.0000e+00 - val_loss: 0.0000e+00\n",
      "Epoch 41/200\n"
     ]
    },
    {
     "name": "stderr",
     "output_type": "stream",
     "text": [
      "2024-03-31 18:14:14.717160: W tensorflow/core/framework/local_rendezvous.cc:404] Local rendezvous is aborting with status: OUT_OF_RANGE: End of sequence\n",
      "\t [[{{node IteratorGetNext}}]]\n",
      "2024-03-31 18:14:14.719911: W tensorflow/core/framework/local_rendezvous.cc:404] Local rendezvous is aborting with status: OUT_OF_RANGE: End of sequence\n",
      "\t [[{{node IteratorGetNext}}]]\n"
     ]
    },
    {
     "name": "stdout",
     "output_type": "stream",
     "text": [
      "129/129 - 29s - 228ms/step - auc: 0.9879 - loss: 0.1208 - val_auc: 0.9865 - val_loss: 0.1440\n",
      "Epoch 42/200\n",
      "129/129 - 0s - 62us/step - auc: 0.0000e+00 - loss: 0.0000e+00 - val_auc: 0.0000e+00 - val_loss: 0.0000e+00\n",
      "Epoch 43/200\n"
     ]
    },
    {
     "name": "stderr",
     "output_type": "stream",
     "text": [
      "2024-03-31 18:14:44.100356: W tensorflow/core/framework/local_rendezvous.cc:404] Local rendezvous is aborting with status: OUT_OF_RANGE: End of sequence\n",
      "\t [[{{node IteratorGetNext}}]]\n",
      "2024-03-31 18:14:44.103229: W tensorflow/core/framework/local_rendezvous.cc:404] Local rendezvous is aborting with status: OUT_OF_RANGE: End of sequence\n",
      "\t [[{{node IteratorGetNext}}]]\n"
     ]
    },
    {
     "name": "stdout",
     "output_type": "stream",
     "text": [
      "129/129 - 30s - 231ms/step - auc: 0.9859 - loss: 0.1271 - val_auc: 0.9886 - val_loss: 0.1325\n",
      "Epoch 44/200\n",
      "129/129 - 0s - 55us/step - auc: 0.0000e+00 - loss: 0.0000e+00 - val_auc: 0.0000e+00 - val_loss: 0.0000e+00\n",
      "Epoch 45/200\n"
     ]
    },
    {
     "name": "stderr",
     "output_type": "stream",
     "text": [
      "2024-03-31 18:15:13.967650: W tensorflow/core/framework/local_rendezvous.cc:404] Local rendezvous is aborting with status: OUT_OF_RANGE: End of sequence\n",
      "\t [[{{node IteratorGetNext}}]]\n",
      "2024-03-31 18:15:13.970116: W tensorflow/core/framework/local_rendezvous.cc:404] Local rendezvous is aborting with status: OUT_OF_RANGE: End of sequence\n",
      "\t [[{{node IteratorGetNext}}]]\n"
     ]
    },
    {
     "name": "stdout",
     "output_type": "stream",
     "text": [
      "129/129 - 29s - 227ms/step - auc: 0.9891 - loss: 0.1166 - val_auc: 0.9875 - val_loss: 0.1296\n",
      "Epoch 46/200\n",
      "129/129 - 0s - 58us/step - auc: 0.0000e+00 - loss: 0.0000e+00 - val_auc: 0.0000e+00 - val_loss: 0.0000e+00\n",
      "Epoch 47/200\n"
     ]
    },
    {
     "name": "stderr",
     "output_type": "stream",
     "text": [
      "2024-03-31 18:15:43.249801: W tensorflow/core/framework/local_rendezvous.cc:404] Local rendezvous is aborting with status: OUT_OF_RANGE: End of sequence\n",
      "\t [[{{node IteratorGetNext}}]]\n",
      "2024-03-31 18:15:43.252494: W tensorflow/core/framework/local_rendezvous.cc:404] Local rendezvous is aborting with status: OUT_OF_RANGE: End of sequence\n",
      "\t [[{{node IteratorGetNext}}]]\n"
     ]
    },
    {
     "name": "stdout",
     "output_type": "stream",
     "text": [
      "129/129 - 30s - 230ms/step - auc: 0.9871 - loss: 0.1254 - val_auc: 0.9916 - val_loss: 0.1271\n",
      "Epoch 48/200\n",
      "129/129 - 0s - 55us/step - auc: 0.0000e+00 - loss: 0.0000e+00 - val_auc: 0.0000e+00 - val_loss: 0.0000e+00\n",
      "Epoch 49/200\n"
     ]
    },
    {
     "name": "stderr",
     "output_type": "stream",
     "text": [
      "2024-03-31 18:16:12.905512: W tensorflow/core/framework/local_rendezvous.cc:404] Local rendezvous is aborting with status: OUT_OF_RANGE: End of sequence\n",
      "\t [[{{node IteratorGetNext}}]]\n",
      "2024-03-31 18:16:12.908186: W tensorflow/core/framework/local_rendezvous.cc:404] Local rendezvous is aborting with status: OUT_OF_RANGE: End of sequence\n",
      "\t [[{{node IteratorGetNext}}]]\n"
     ]
    },
    {
     "name": "stdout",
     "output_type": "stream",
     "text": [
      "129/129 - 30s - 229ms/step - auc: 0.9892 - loss: 0.1129 - val_auc: 0.9895 - val_loss: 0.1298\n",
      "Epoch 50/200\n",
      "129/129 - 0s - 57us/step - auc: 0.0000e+00 - loss: 0.0000e+00 - val_auc: 0.0000e+00 - val_loss: 0.0000e+00\n",
      "Epoch 51/200\n"
     ]
    },
    {
     "name": "stderr",
     "output_type": "stream",
     "text": [
      "2024-03-31 18:16:42.441330: W tensorflow/core/framework/local_rendezvous.cc:404] Local rendezvous is aborting with status: OUT_OF_RANGE: End of sequence\n",
      "\t [[{{node IteratorGetNext}}]]\n",
      "2024-03-31 18:16:42.443960: W tensorflow/core/framework/local_rendezvous.cc:404] Local rendezvous is aborting with status: OUT_OF_RANGE: End of sequence\n",
      "\t [[{{node IteratorGetNext}}]]\n"
     ]
    },
    {
     "name": "stdout",
     "output_type": "stream",
     "text": [
      "129/129 - 30s - 230ms/step - auc: 0.9886 - loss: 0.1195 - val_auc: 0.9898 - val_loss: 0.1227\n",
      "Epoch 52/200\n",
      "129/129 - 0s - 57us/step - auc: 0.0000e+00 - loss: 0.0000e+00 - val_auc: 0.0000e+00 - val_loss: 0.0000e+00\n",
      "Epoch 53/200\n"
     ]
    },
    {
     "name": "stderr",
     "output_type": "stream",
     "text": [
      "2024-03-31 18:17:12.117320: W tensorflow/core/framework/local_rendezvous.cc:404] Local rendezvous is aborting with status: OUT_OF_RANGE: End of sequence\n",
      "\t [[{{node IteratorGetNext}}]]\n",
      "2024-03-31 18:17:12.119880: W tensorflow/core/framework/local_rendezvous.cc:404] Local rendezvous is aborting with status: OUT_OF_RANGE: End of sequence\n",
      "\t [[{{node IteratorGetNext}}]]\n"
     ]
    },
    {
     "name": "stdout",
     "output_type": "stream",
     "text": [
      "129/129 - 29s - 226ms/step - auc: 0.9884 - loss: 0.1191 - val_auc: 0.9826 - val_loss: 0.1609\n",
      "Epoch 54/200\n",
      "129/129 - 0s - 55us/step - auc: 0.0000e+00 - loss: 0.0000e+00 - val_auc: 0.0000e+00 - val_loss: 0.0000e+00\n",
      "Epoch 55/200\n"
     ]
    },
    {
     "name": "stderr",
     "output_type": "stream",
     "text": [
      "2024-03-31 18:17:41.218474: W tensorflow/core/framework/local_rendezvous.cc:404] Local rendezvous is aborting with status: OUT_OF_RANGE: End of sequence\n",
      "\t [[{{node IteratorGetNext}}]]\n",
      "2024-03-31 18:17:41.220996: W tensorflow/core/framework/local_rendezvous.cc:404] Local rendezvous is aborting with status: OUT_OF_RANGE: End of sequence\n",
      "\t [[{{node IteratorGetNext}}]]\n"
     ]
    },
    {
     "name": "stdout",
     "output_type": "stream",
     "text": [
      "129/129 - 30s - 230ms/step - auc: 0.9901 - loss: 0.1126 - val_auc: 0.9862 - val_loss: 0.1241\n",
      "Epoch 56/200\n",
      "129/129 - 0s - 59us/step - auc: 0.0000e+00 - loss: 0.0000e+00 - val_auc: 0.0000e+00 - val_loss: 0.0000e+00\n",
      "Epoch 57/200\n"
     ]
    },
    {
     "name": "stderr",
     "output_type": "stream",
     "text": [
      "2024-03-31 18:18:10.910984: W tensorflow/core/framework/local_rendezvous.cc:404] Local rendezvous is aborting with status: OUT_OF_RANGE: End of sequence\n",
      "\t [[{{node IteratorGetNext}}]]\n",
      "2024-03-31 18:18:10.913883: W tensorflow/core/framework/local_rendezvous.cc:404] Local rendezvous is aborting with status: OUT_OF_RANGE: End of sequence\n",
      "\t [[{{node IteratorGetNext}}]]\n"
     ]
    },
    {
     "name": "stdout",
     "output_type": "stream",
     "text": [
      "129/129 - 30s - 231ms/step - auc: 0.9916 - loss: 0.1018 - val_auc: 0.9795 - val_loss: 0.1692\n",
      "Epoch 58/200\n",
      "129/129 - 0s - 65us/step - auc: 0.0000e+00 - loss: 0.0000e+00 - val_auc: 0.0000e+00 - val_loss: 0.0000e+00\n",
      "Epoch 59/200\n"
     ]
    },
    {
     "name": "stderr",
     "output_type": "stream",
     "text": [
      "2024-03-31 18:18:40.668317: W tensorflow/core/framework/local_rendezvous.cc:404] Local rendezvous is aborting with status: OUT_OF_RANGE: End of sequence\n",
      "\t [[{{node IteratorGetNext}}]]\n",
      "2024-03-31 18:18:40.671552: W tensorflow/core/framework/local_rendezvous.cc:404] Local rendezvous is aborting with status: OUT_OF_RANGE: End of sequence\n",
      "\t [[{{node IteratorGetNext}}]]\n"
     ]
    },
    {
     "name": "stdout",
     "output_type": "stream",
     "text": [
      "129/129 - 30s - 229ms/step - auc: 0.9887 - loss: 0.1141 - val_auc: 0.9870 - val_loss: 0.1349\n",
      "Epoch 60/200\n",
      "129/129 - 0s - 68us/step - auc: 0.0000e+00 - loss: 0.0000e+00 - val_auc: 0.0000e+00 - val_loss: 0.0000e+00\n",
      "Epoch 61/200\n"
     ]
    },
    {
     "name": "stderr",
     "output_type": "stream",
     "text": [
      "2024-03-31 18:19:10.280674: W tensorflow/core/framework/local_rendezvous.cc:404] Local rendezvous is aborting with status: OUT_OF_RANGE: End of sequence\n",
      "\t [[{{node IteratorGetNext}}]]\n",
      "2024-03-31 18:19:10.283388: W tensorflow/core/framework/local_rendezvous.cc:404] Local rendezvous is aborting with status: OUT_OF_RANGE: End of sequence\n",
      "\t [[{{node IteratorGetNext}}]]\n"
     ]
    },
    {
     "name": "stdout",
     "output_type": "stream",
     "text": [
      "129/129 - 30s - 233ms/step - auc: 0.9913 - loss: 0.1043 - val_auc: 0.9883 - val_loss: 0.1214\n",
      "Epoch 62/200\n",
      "129/129 - 0s - 63us/step - auc: 0.0000e+00 - loss: 0.0000e+00 - val_auc: 0.0000e+00 - val_loss: 0.0000e+00\n",
      "Epoch 63/200\n"
     ]
    },
    {
     "name": "stderr",
     "output_type": "stream",
     "text": [
      "2024-03-31 18:19:40.295348: W tensorflow/core/framework/local_rendezvous.cc:404] Local rendezvous is aborting with status: OUT_OF_RANGE: End of sequence\n",
      "\t [[{{node IteratorGetNext}}]]\n",
      "2024-03-31 18:19:40.297944: W tensorflow/core/framework/local_rendezvous.cc:404] Local rendezvous is aborting with status: OUT_OF_RANGE: End of sequence\n",
      "\t [[{{node IteratorGetNext}}]]\n"
     ]
    },
    {
     "name": "stdout",
     "output_type": "stream",
     "text": [
      "129/129 - 30s - 231ms/step - auc: 0.9924 - loss: 0.1007 - val_auc: 0.9869 - val_loss: 0.1403\n",
      "Epoch 64/200\n",
      "129/129 - 0s - 54us/step - auc: 0.0000e+00 - loss: 0.0000e+00 - val_auc: 0.0000e+00 - val_loss: 0.0000e+00\n",
      "Epoch 65/200\n"
     ]
    },
    {
     "name": "stderr",
     "output_type": "stream",
     "text": [
      "2024-03-31 18:20:10.071241: W tensorflow/core/framework/local_rendezvous.cc:404] Local rendezvous is aborting with status: OUT_OF_RANGE: End of sequence\n",
      "\t [[{{node IteratorGetNext}}]]\n",
      "2024-03-31 18:20:10.073760: W tensorflow/core/framework/local_rendezvous.cc:404] Local rendezvous is aborting with status: OUT_OF_RANGE: End of sequence\n",
      "\t [[{{node IteratorGetNext}}]]\n"
     ]
    },
    {
     "name": "stdout",
     "output_type": "stream",
     "text": [
      "129/129 - 30s - 232ms/step - auc: 0.9889 - loss: 0.1109 - val_auc: 0.9897 - val_loss: 0.1257\n",
      "Epoch 66/200\n",
      "129/129 - 0s - 61us/step - auc: 0.0000e+00 - loss: 0.0000e+00 - val_auc: 0.0000e+00 - val_loss: 0.0000e+00\n",
      "Epoch 67/200\n"
     ]
    },
    {
     "name": "stderr",
     "output_type": "stream",
     "text": [
      "2024-03-31 18:20:40.053185: W tensorflow/core/framework/local_rendezvous.cc:404] Local rendezvous is aborting with status: OUT_OF_RANGE: End of sequence\n",
      "\t [[{{node IteratorGetNext}}]]\n",
      "2024-03-31 18:20:40.055902: W tensorflow/core/framework/local_rendezvous.cc:404] Local rendezvous is aborting with status: OUT_OF_RANGE: End of sequence\n",
      "\t [[{{node IteratorGetNext}}]]\n"
     ]
    },
    {
     "name": "stdout",
     "output_type": "stream",
     "text": [
      "129/129 - 30s - 231ms/step - auc: 0.9908 - loss: 0.1038 - val_auc: 0.9848 - val_loss: 0.1385\n",
      "Epoch 68/200\n",
      "129/129 - 0s - 55us/step - auc: 0.0000e+00 - loss: 0.0000e+00 - val_auc: 0.0000e+00 - val_loss: 0.0000e+00\n",
      "Epoch 69/200\n"
     ]
    },
    {
     "name": "stderr",
     "output_type": "stream",
     "text": [
      "2024-03-31 18:21:09.901503: W tensorflow/core/framework/local_rendezvous.cc:404] Local rendezvous is aborting with status: OUT_OF_RANGE: End of sequence\n",
      "\t [[{{node IteratorGetNext}}]]\n",
      "2024-03-31 18:21:09.904194: W tensorflow/core/framework/local_rendezvous.cc:404] Local rendezvous is aborting with status: OUT_OF_RANGE: End of sequence\n",
      "\t [[{{node IteratorGetNext}}]]\n"
     ]
    },
    {
     "name": "stdout",
     "output_type": "stream",
     "text": [
      "129/129 - 30s - 232ms/step - auc: 0.9927 - loss: 0.0948 - val_auc: 0.9874 - val_loss: 0.1410\n",
      "Epoch 70/200\n",
      "129/129 - 0s - 64us/step - auc: 0.0000e+00 - loss: 0.0000e+00 - val_auc: 0.0000e+00 - val_loss: 0.0000e+00\n",
      "Epoch 71/200\n"
     ]
    },
    {
     "name": "stderr",
     "output_type": "stream",
     "text": [
      "2024-03-31 18:21:39.874594: W tensorflow/core/framework/local_rendezvous.cc:404] Local rendezvous is aborting with status: OUT_OF_RANGE: End of sequence\n",
      "\t [[{{node IteratorGetNext}}]]\n",
      "2024-03-31 18:21:39.877743: W tensorflow/core/framework/local_rendezvous.cc:404] Local rendezvous is aborting with status: OUT_OF_RANGE: End of sequence\n",
      "\t [[{{node IteratorGetNext}}]]\n"
     ]
    },
    {
     "name": "stdout",
     "output_type": "stream",
     "text": [
      "129/129 - 30s - 231ms/step - auc: 0.9919 - loss: 0.1008 - val_auc: 0.9865 - val_loss: 0.1441\n",
      "Epoch 72/200\n",
      "129/129 - 0s - 58us/step - auc: 0.0000e+00 - loss: 0.0000e+00 - val_auc: 0.0000e+00 - val_loss: 0.0000e+00\n",
      "Epoch 73/200\n"
     ]
    },
    {
     "name": "stderr",
     "output_type": "stream",
     "text": [
      "2024-03-31 18:22:09.663746: W tensorflow/core/framework/local_rendezvous.cc:404] Local rendezvous is aborting with status: OUT_OF_RANGE: End of sequence\n",
      "\t [[{{node IteratorGetNext}}]]\n",
      "2024-03-31 18:22:09.666438: W tensorflow/core/framework/local_rendezvous.cc:404] Local rendezvous is aborting with status: OUT_OF_RANGE: End of sequence\n",
      "\t [[{{node IteratorGetNext}}]]\n"
     ]
    },
    {
     "name": "stdout",
     "output_type": "stream",
     "text": [
      "129/129 - 30s - 232ms/step - auc: 0.9901 - loss: 0.1056 - val_auc: 0.9887 - val_loss: 0.1252\n",
      "Epoch 74/200\n",
      "129/129 - 0s - 56us/step - auc: 0.0000e+00 - loss: 0.0000e+00 - val_auc: 0.0000e+00 - val_loss: 0.0000e+00\n",
      "Epoch 75/200\n"
     ]
    },
    {
     "name": "stderr",
     "output_type": "stream",
     "text": [
      "2024-03-31 18:22:39.660915: W tensorflow/core/framework/local_rendezvous.cc:404] Local rendezvous is aborting with status: OUT_OF_RANGE: End of sequence\n",
      "\t [[{{node IteratorGetNext}}]]\n",
      "2024-03-31 18:22:39.663482: W tensorflow/core/framework/local_rendezvous.cc:404] Local rendezvous is aborting with status: OUT_OF_RANGE: End of sequence\n",
      "\t [[{{node IteratorGetNext}}]]\n"
     ]
    },
    {
     "name": "stdout",
     "output_type": "stream",
     "text": [
      "129/129 - 30s - 234ms/step - auc: 0.9918 - loss: 0.0972 - val_auc: 0.9880 - val_loss: 0.1276\n",
      "Epoch 76/200\n",
      "129/129 - 0s - 59us/step - auc: 0.0000e+00 - loss: 0.0000e+00 - val_auc: 0.0000e+00 - val_loss: 0.0000e+00\n",
      "Epoch 77/200\n"
     ]
    },
    {
     "name": "stderr",
     "output_type": "stream",
     "text": [
      "2024-03-31 18:23:09.874808: W tensorflow/core/framework/local_rendezvous.cc:404] Local rendezvous is aborting with status: OUT_OF_RANGE: End of sequence\n",
      "\t [[{{node IteratorGetNext}}]]\n",
      "2024-03-31 18:23:09.877383: W tensorflow/core/framework/local_rendezvous.cc:404] Local rendezvous is aborting with status: OUT_OF_RANGE: End of sequence\n",
      "\t [[{{node IteratorGetNext}}]]\n"
     ]
    },
    {
     "name": "stdout",
     "output_type": "stream",
     "text": [
      "129/129 - 30s - 232ms/step - auc: 0.9907 - loss: 0.1047 - val_auc: 0.9895 - val_loss: 0.1157\n",
      "Epoch 78/200\n",
      "129/129 - 0s - 55us/step - auc: 0.0000e+00 - loss: 0.0000e+00 - val_auc: 0.0000e+00 - val_loss: 0.0000e+00\n",
      "Epoch 79/200\n"
     ]
    },
    {
     "name": "stderr",
     "output_type": "stream",
     "text": [
      "2024-03-31 18:23:39.810098: W tensorflow/core/framework/local_rendezvous.cc:404] Local rendezvous is aborting with status: OUT_OF_RANGE: End of sequence\n",
      "\t [[{{node IteratorGetNext}}]]\n",
      "2024-03-31 18:23:39.812808: W tensorflow/core/framework/local_rendezvous.cc:404] Local rendezvous is aborting with status: OUT_OF_RANGE: End of sequence\n",
      "\t [[{{node IteratorGetNext}}]]\n"
     ]
    },
    {
     "name": "stdout",
     "output_type": "stream",
     "text": [
      "129/129 - 30s - 231ms/step - auc: 0.9913 - loss: 0.1006 - val_auc: 0.9876 - val_loss: 0.1214\n",
      "Epoch 80/200\n",
      "129/129 - 0s - 60us/step - auc: 0.0000e+00 - loss: 0.0000e+00 - val_auc: 0.0000e+00 - val_loss: 0.0000e+00\n",
      "Epoch 81/200\n"
     ]
    },
    {
     "name": "stderr",
     "output_type": "stream",
     "text": [
      "2024-03-31 18:24:09.557683: W tensorflow/core/framework/local_rendezvous.cc:404] Local rendezvous is aborting with status: OUT_OF_RANGE: End of sequence\n",
      "\t [[{{node IteratorGetNext}}]]\n",
      "2024-03-31 18:24:09.560138: W tensorflow/core/framework/local_rendezvous.cc:404] Local rendezvous is aborting with status: OUT_OF_RANGE: End of sequence\n",
      "\t [[{{node IteratorGetNext}}]]\n"
     ]
    },
    {
     "name": "stdout",
     "output_type": "stream",
     "text": [
      "129/129 - 30s - 234ms/step - auc: 0.9923 - loss: 0.0951 - val_auc: 0.9904 - val_loss: 0.1257\n",
      "Epoch 82/200\n",
      "129/129 - 0s - 59us/step - auc: 0.0000e+00 - loss: 0.0000e+00 - val_auc: 0.0000e+00 - val_loss: 0.0000e+00\n",
      "Epoch 83/200\n"
     ]
    },
    {
     "name": "stderr",
     "output_type": "stream",
     "text": [
      "2024-03-31 18:24:39.700007: W tensorflow/core/framework/local_rendezvous.cc:404] Local rendezvous is aborting with status: OUT_OF_RANGE: End of sequence\n",
      "\t [[{{node IteratorGetNext}}]]\n",
      "2024-03-31 18:24:39.702873: W tensorflow/core/framework/local_rendezvous.cc:404] Local rendezvous is aborting with status: OUT_OF_RANGE: End of sequence\n",
      "\t [[{{node IteratorGetNext}}]]\n"
     ]
    },
    {
     "name": "stdout",
     "output_type": "stream",
     "text": [
      "129/129 - 30s - 233ms/step - auc: 0.9918 - loss: 0.0965 - val_auc: 0.9882 - val_loss: 0.1546\n",
      "Epoch 84/200\n",
      "129/129 - 0s - 56us/step - auc: 0.0000e+00 - loss: 0.0000e+00 - val_auc: 0.0000e+00 - val_loss: 0.0000e+00\n",
      "Epoch 85/200\n"
     ]
    },
    {
     "name": "stderr",
     "output_type": "stream",
     "text": [
      "2024-03-31 18:25:09.752186: W tensorflow/core/framework/local_rendezvous.cc:404] Local rendezvous is aborting with status: OUT_OF_RANGE: End of sequence\n",
      "\t [[{{node IteratorGetNext}}]]\n",
      "2024-03-31 18:25:09.754826: W tensorflow/core/framework/local_rendezvous.cc:404] Local rendezvous is aborting with status: OUT_OF_RANGE: End of sequence\n",
      "\t [[{{node IteratorGetNext}}]]\n"
     ]
    },
    {
     "name": "stdout",
     "output_type": "stream",
     "text": [
      "129/129 - 30s - 231ms/step - auc: 0.9915 - loss: 0.1000 - val_auc: 0.9884 - val_loss: 0.1316\n",
      "Epoch 86/200\n",
      "129/129 - 0s - 60us/step - auc: 0.0000e+00 - loss: 0.0000e+00 - val_auc: 0.0000e+00 - val_loss: 0.0000e+00\n",
      "Epoch 87/200\n"
     ]
    },
    {
     "name": "stderr",
     "output_type": "stream",
     "text": [
      "2024-03-31 18:25:39.554301: W tensorflow/core/framework/local_rendezvous.cc:404] Local rendezvous is aborting with status: OUT_OF_RANGE: End of sequence\n",
      "\t [[{{node IteratorGetNext}}]]\n",
      "2024-03-31 18:25:39.556849: W tensorflow/core/framework/local_rendezvous.cc:404] Local rendezvous is aborting with status: OUT_OF_RANGE: End of sequence\n",
      "\t [[{{node IteratorGetNext}}]]\n"
     ]
    },
    {
     "name": "stdout",
     "output_type": "stream",
     "text": [
      "129/129 - 31s - 239ms/step - auc: 0.9941 - loss: 0.0863 - val_auc: 0.9882 - val_loss: 0.1235\n",
      "Epoch 88/200\n",
      "129/129 - 0s - 68us/step - auc: 0.0000e+00 - loss: 0.0000e+00 - val_auc: 0.0000e+00 - val_loss: 0.0000e+00\n",
      "Epoch 89/200\n"
     ]
    },
    {
     "name": "stderr",
     "output_type": "stream",
     "text": [
      "2024-03-31 18:26:10.340295: W tensorflow/core/framework/local_rendezvous.cc:404] Local rendezvous is aborting with status: OUT_OF_RANGE: End of sequence\n",
      "\t [[{{node IteratorGetNext}}]]\n",
      "2024-03-31 18:26:10.343490: W tensorflow/core/framework/local_rendezvous.cc:404] Local rendezvous is aborting with status: OUT_OF_RANGE: End of sequence\n",
      "\t [[{{node IteratorGetNext}}]]\n"
     ]
    },
    {
     "name": "stdout",
     "output_type": "stream",
     "text": [
      "129/129 - 33s - 256ms/step - auc: 0.9917 - loss: 0.1047 - val_auc: 0.9860 - val_loss: 0.1248\n",
      "Epoch 90/200\n",
      "129/129 - 0s - 69us/step - auc: 0.0000e+00 - loss: 0.0000e+00 - val_auc: 0.0000e+00 - val_loss: 0.0000e+00\n",
      "Epoch 91/200\n"
     ]
    },
    {
     "name": "stderr",
     "output_type": "stream",
     "text": [
      "2024-03-31 18:26:43.402611: W tensorflow/core/framework/local_rendezvous.cc:404] Local rendezvous is aborting with status: OUT_OF_RANGE: End of sequence\n",
      "\t [[{{node IteratorGetNext}}]]\n",
      "2024-03-31 18:26:43.405921: W tensorflow/core/framework/local_rendezvous.cc:404] Local rendezvous is aborting with status: OUT_OF_RANGE: End of sequence\n",
      "\t [[{{node IteratorGetNext}}]]\n"
     ]
    },
    {
     "name": "stdout",
     "output_type": "stream",
     "text": [
      "129/129 - 32s - 249ms/step - auc: 0.9919 - loss: 0.0980 - val_auc: 0.9913 - val_loss: 0.1280\n",
      "Epoch 92/200\n",
      "129/129 - 0s - 62us/step - auc: 0.0000e+00 - loss: 0.0000e+00 - val_auc: 0.0000e+00 - val_loss: 0.0000e+00\n",
      "Epoch 93/200\n"
     ]
    },
    {
     "name": "stderr",
     "output_type": "stream",
     "text": [
      "2024-03-31 18:27:15.506031: W tensorflow/core/framework/local_rendezvous.cc:404] Local rendezvous is aborting with status: OUT_OF_RANGE: End of sequence\n",
      "\t [[{{node IteratorGetNext}}]]\n",
      "2024-03-31 18:27:15.508644: W tensorflow/core/framework/local_rendezvous.cc:404] Local rendezvous is aborting with status: OUT_OF_RANGE: End of sequence\n",
      "\t [[{{node IteratorGetNext}}]]\n"
     ]
    },
    {
     "name": "stdout",
     "output_type": "stream",
     "text": [
      "129/129 - 31s - 237ms/step - auc: 0.9930 - loss: 0.0921 - val_auc: 0.9886 - val_loss: 0.1294\n",
      "Epoch 94/200\n",
      "129/129 - 0s - 65us/step - auc: 0.0000e+00 - loss: 0.0000e+00 - val_auc: 0.0000e+00 - val_loss: 0.0000e+00\n",
      "Epoch 95/200\n"
     ]
    },
    {
     "name": "stderr",
     "output_type": "stream",
     "text": [
      "2024-03-31 18:27:46.033644: W tensorflow/core/framework/local_rendezvous.cc:404] Local rendezvous is aborting with status: OUT_OF_RANGE: End of sequence\n",
      "\t [[{{node IteratorGetNext}}]]\n",
      "2024-03-31 18:27:46.036755: W tensorflow/core/framework/local_rendezvous.cc:404] Local rendezvous is aborting with status: OUT_OF_RANGE: End of sequence\n",
      "\t [[{{node IteratorGetNext}}]]\n"
     ]
    },
    {
     "name": "stdout",
     "output_type": "stream",
     "text": [
      "129/129 - 31s - 238ms/step - auc: 0.9936 - loss: 0.0894 - val_auc: 0.9912 - val_loss: 0.1091\n",
      "Epoch 96/200\n",
      "129/129 - 0s - 71us/step - auc: 0.0000e+00 - loss: 0.0000e+00 - val_auc: 0.0000e+00 - val_loss: 0.0000e+00\n",
      "Epoch 97/200\n"
     ]
    },
    {
     "name": "stderr",
     "output_type": "stream",
     "text": [
      "2024-03-31 18:28:16.737901: W tensorflow/core/framework/local_rendezvous.cc:404] Local rendezvous is aborting with status: OUT_OF_RANGE: End of sequence\n",
      "\t [[{{node IteratorGetNext}}]]\n",
      "2024-03-31 18:28:16.740934: W tensorflow/core/framework/local_rendezvous.cc:404] Local rendezvous is aborting with status: OUT_OF_RANGE: End of sequence\n",
      "\t [[{{node IteratorGetNext}}]]\n"
     ]
    },
    {
     "name": "stdout",
     "output_type": "stream",
     "text": [
      "129/129 - 31s - 237ms/step - auc: 0.9930 - loss: 0.0932 - val_auc: 0.9886 - val_loss: 0.1424\n",
      "Epoch 98/200\n",
      "129/129 - 0s - 71us/step - auc: 0.0000e+00 - loss: 0.0000e+00 - val_auc: 0.0000e+00 - val_loss: 0.0000e+00\n",
      "Epoch 99/200\n"
     ]
    },
    {
     "name": "stderr",
     "output_type": "stream",
     "text": [
      "2024-03-31 18:28:47.293472: W tensorflow/core/framework/local_rendezvous.cc:404] Local rendezvous is aborting with status: OUT_OF_RANGE: End of sequence\n",
      "\t [[{{node IteratorGetNext}}]]\n",
      "2024-03-31 18:28:47.297017: W tensorflow/core/framework/local_rendezvous.cc:404] Local rendezvous is aborting with status: OUT_OF_RANGE: End of sequence\n",
      "\t [[{{node IteratorGetNext}}]]\n"
     ]
    },
    {
     "name": "stdout",
     "output_type": "stream",
     "text": [
      "129/129 - 32s - 252ms/step - auc: 0.9930 - loss: 0.0940 - val_auc: 0.9885 - val_loss: 0.1180\n",
      "Epoch 100/200\n",
      "129/129 - 0s - 69us/step - auc: 0.0000e+00 - loss: 0.0000e+00 - val_auc: 0.0000e+00 - val_loss: 0.0000e+00\n",
      "Epoch 101/200\n"
     ]
    },
    {
     "name": "stderr",
     "output_type": "stream",
     "text": [
      "2024-03-31 18:29:19.806002: W tensorflow/core/framework/local_rendezvous.cc:404] Local rendezvous is aborting with status: OUT_OF_RANGE: End of sequence\n",
      "\t [[{{node IteratorGetNext}}]]\n",
      "2024-03-31 18:29:19.809080: W tensorflow/core/framework/local_rendezvous.cc:404] Local rendezvous is aborting with status: OUT_OF_RANGE: End of sequence\n",
      "\t [[{{node IteratorGetNext}}]]\n"
     ]
    },
    {
     "name": "stdout",
     "output_type": "stream",
     "text": [
      "129/129 - 32s - 246ms/step - auc: 0.9930 - loss: 0.0911 - val_auc: 0.9892 - val_loss: 0.1401\n",
      "Epoch 102/200\n",
      "129/129 - 0s - 58us/step - auc: 0.0000e+00 - loss: 0.0000e+00 - val_auc: 0.0000e+00 - val_loss: 0.0000e+00\n",
      "Epoch 103/200\n"
     ]
    },
    {
     "name": "stderr",
     "output_type": "stream",
     "text": [
      "2024-03-31 18:29:51.613341: W tensorflow/core/framework/local_rendezvous.cc:404] Local rendezvous is aborting with status: OUT_OF_RANGE: End of sequence\n",
      "\t [[{{node IteratorGetNext}}]]\n",
      "2024-03-31 18:29:51.616048: W tensorflow/core/framework/local_rendezvous.cc:404] Local rendezvous is aborting with status: OUT_OF_RANGE: End of sequence\n",
      "\t [[{{node IteratorGetNext}}]]\n"
     ]
    },
    {
     "name": "stdout",
     "output_type": "stream",
     "text": [
      "129/129 - 32s - 248ms/step - auc: 0.9940 - loss: 0.0855 - val_auc: 0.9875 - val_loss: 0.1296\n",
      "Epoch 104/200\n",
      "129/129 - 0s - 59us/step - auc: 0.0000e+00 - loss: 0.0000e+00 - val_auc: 0.0000e+00 - val_loss: 0.0000e+00\n",
      "Epoch 105/200\n"
     ]
    },
    {
     "name": "stderr",
     "output_type": "stream",
     "text": [
      "2024-03-31 18:30:23.576029: W tensorflow/core/framework/local_rendezvous.cc:404] Local rendezvous is aborting with status: OUT_OF_RANGE: End of sequence\n",
      "\t [[{{node IteratorGetNext}}]]\n",
      "2024-03-31 18:30:23.578901: W tensorflow/core/framework/local_rendezvous.cc:404] Local rendezvous is aborting with status: OUT_OF_RANGE: End of sequence\n",
      "\t [[{{node IteratorGetNext}}]]\n"
     ]
    },
    {
     "name": "stdout",
     "output_type": "stream",
     "text": [
      "129/129 - 31s - 243ms/step - auc: 0.9934 - loss: 0.0903 - val_auc: 0.9911 - val_loss: 0.1092\n",
      "Epoch 106/200\n",
      "129/129 - 0s - 93us/step - auc: 0.0000e+00 - loss: 0.0000e+00 - val_auc: 0.0000e+00 - val_loss: 0.0000e+00\n",
      "Epoch 107/200\n"
     ]
    },
    {
     "name": "stderr",
     "output_type": "stream",
     "text": [
      "2024-03-31 18:30:54.896163: W tensorflow/core/framework/local_rendezvous.cc:404] Local rendezvous is aborting with status: OUT_OF_RANGE: End of sequence\n",
      "\t [[{{node IteratorGetNext}}]]\n",
      "2024-03-31 18:30:54.899721: W tensorflow/core/framework/local_rendezvous.cc:404] Local rendezvous is aborting with status: OUT_OF_RANGE: End of sequence\n",
      "\t [[{{node IteratorGetNext}}]]\n"
     ]
    },
    {
     "name": "stdout",
     "output_type": "stream",
     "text": [
      "129/129 - 32s - 246ms/step - auc: 0.9901 - loss: 0.1118 - val_auc: 0.9892 - val_loss: 0.1101\n",
      "Epoch 108/200\n",
      "129/129 - 0s - 62us/step - auc: 0.0000e+00 - loss: 0.0000e+00 - val_auc: 0.0000e+00 - val_loss: 0.0000e+00\n",
      "Epoch 109/200\n"
     ]
    },
    {
     "name": "stderr",
     "output_type": "stream",
     "text": [
      "2024-03-31 18:31:26.582147: W tensorflow/core/framework/local_rendezvous.cc:404] Local rendezvous is aborting with status: OUT_OF_RANGE: End of sequence\n",
      "\t [[{{node IteratorGetNext}}]]\n",
      "2024-03-31 18:31:26.584729: W tensorflow/core/framework/local_rendezvous.cc:404] Local rendezvous is aborting with status: OUT_OF_RANGE: End of sequence\n",
      "\t [[{{node IteratorGetNext}}]]\n"
     ]
    },
    {
     "name": "stdout",
     "output_type": "stream",
     "text": [
      "129/129 - 31s - 239ms/step - auc: 0.9934 - loss: 0.0890 - val_auc: 0.9843 - val_loss: 0.1323\n",
      "Epoch 110/200\n",
      "129/129 - 0s - 72us/step - auc: 0.0000e+00 - loss: 0.0000e+00 - val_auc: 0.0000e+00 - val_loss: 0.0000e+00\n",
      "Epoch 111/200\n"
     ]
    },
    {
     "name": "stderr",
     "output_type": "stream",
     "text": [
      "2024-03-31 18:31:57.432579: W tensorflow/core/framework/local_rendezvous.cc:404] Local rendezvous is aborting with status: OUT_OF_RANGE: End of sequence\n",
      "\t [[{{node IteratorGetNext}}]]\n",
      "2024-03-31 18:31:57.435712: W tensorflow/core/framework/local_rendezvous.cc:404] Local rendezvous is aborting with status: OUT_OF_RANGE: End of sequence\n",
      "\t [[{{node IteratorGetNext}}]]\n"
     ]
    },
    {
     "name": "stdout",
     "output_type": "stream",
     "text": [
      "129/129 - 33s - 255ms/step - auc: 0.9942 - loss: 0.0820 - val_auc: 0.9886 - val_loss: 0.1867\n",
      "Epoch 112/200\n",
      "129/129 - 0s - 58us/step - auc: 0.0000e+00 - loss: 0.0000e+00 - val_auc: 0.0000e+00 - val_loss: 0.0000e+00\n",
      "Epoch 113/200\n"
     ]
    },
    {
     "name": "stderr",
     "output_type": "stream",
     "text": [
      "2024-03-31 18:32:30.288568: W tensorflow/core/framework/local_rendezvous.cc:404] Local rendezvous is aborting with status: OUT_OF_RANGE: End of sequence\n",
      "\t [[{{node IteratorGetNext}}]]\n",
      "2024-03-31 18:32:30.291158: W tensorflow/core/framework/local_rendezvous.cc:404] Local rendezvous is aborting with status: OUT_OF_RANGE: End of sequence\n",
      "\t [[{{node IteratorGetNext}}]]\n"
     ]
    },
    {
     "name": "stdout",
     "output_type": "stream",
     "text": [
      "129/129 - 30s - 235ms/step - auc: 0.9943 - loss: 0.0844 - val_auc: 0.9877 - val_loss: 0.1352\n",
      "Epoch 114/200\n",
      "129/129 - 0s - 70us/step - auc: 0.0000e+00 - loss: 0.0000e+00 - val_auc: 0.0000e+00 - val_loss: 0.0000e+00\n",
      "Epoch 115/200\n"
     ]
    },
    {
     "name": "stderr",
     "output_type": "stream",
     "text": [
      "2024-03-31 18:33:00.666116: W tensorflow/core/framework/local_rendezvous.cc:404] Local rendezvous is aborting with status: OUT_OF_RANGE: End of sequence\n",
      "\t [[{{node IteratorGetNext}}]]\n",
      "2024-03-31 18:33:00.669147: W tensorflow/core/framework/local_rendezvous.cc:404] Local rendezvous is aborting with status: OUT_OF_RANGE: End of sequence\n",
      "\t [[{{node IteratorGetNext}}]]\n"
     ]
    },
    {
     "name": "stdout",
     "output_type": "stream",
     "text": [
      "129/129 - 32s - 250ms/step - auc: 0.9942 - loss: 0.0795 - val_auc: 0.9851 - val_loss: 0.1754\n",
      "Epoch 116/200\n",
      "129/129 - 0s - 81us/step - auc: 0.0000e+00 - loss: 0.0000e+00 - val_auc: 0.0000e+00 - val_loss: 0.0000e+00\n",
      "Epoch 117/200\n"
     ]
    },
    {
     "name": "stderr",
     "output_type": "stream",
     "text": [
      "2024-03-31 18:33:32.900974: W tensorflow/core/framework/local_rendezvous.cc:404] Local rendezvous is aborting with status: OUT_OF_RANGE: End of sequence\n",
      "\t [[{{node IteratorGetNext}}]]\n",
      "2024-03-31 18:33:32.904635: W tensorflow/core/framework/local_rendezvous.cc:404] Local rendezvous is aborting with status: OUT_OF_RANGE: End of sequence\n",
      "\t [[{{node IteratorGetNext}}]]\n"
     ]
    },
    {
     "name": "stdout",
     "output_type": "stream",
     "text": [
      "129/129 - 34s - 265ms/step - auc: 0.9942 - loss: 0.0785 - val_auc: 0.9892 - val_loss: 0.1147\n",
      "Epoch 118/200\n",
      "129/129 - 0s - 91us/step - auc: 0.0000e+00 - loss: 0.0000e+00 - val_auc: 0.0000e+00 - val_loss: 0.0000e+00\n",
      "Epoch 119/200\n"
     ]
    },
    {
     "name": "stderr",
     "output_type": "stream",
     "text": [
      "2024-03-31 18:34:07.146538: W tensorflow/core/framework/local_rendezvous.cc:404] Local rendezvous is aborting with status: OUT_OF_RANGE: End of sequence\n",
      "\t [[{{node IteratorGetNext}}]]\n",
      "2024-03-31 18:34:07.151995: W tensorflow/core/framework/local_rendezvous.cc:404] Local rendezvous is aborting with status: OUT_OF_RANGE: End of sequence\n",
      "\t [[{{node IteratorGetNext}}]]\n"
     ]
    },
    {
     "name": "stdout",
     "output_type": "stream",
     "text": [
      "129/129 - 32s - 252ms/step - auc: 0.9943 - loss: 0.0814 - val_auc: 0.9873 - val_loss: 0.1227\n",
      "Epoch 120/200\n",
      "129/129 - 0s - 63us/step - auc: 0.0000e+00 - loss: 0.0000e+00 - val_auc: 0.0000e+00 - val_loss: 0.0000e+00\n",
      "Epoch 121/200\n"
     ]
    },
    {
     "name": "stderr",
     "output_type": "stream",
     "text": [
      "2024-03-31 18:34:39.614316: W tensorflow/core/framework/local_rendezvous.cc:404] Local rendezvous is aborting with status: OUT_OF_RANGE: End of sequence\n",
      "\t [[{{node IteratorGetNext}}]]\n",
      "2024-03-31 18:34:39.616983: W tensorflow/core/framework/local_rendezvous.cc:404] Local rendezvous is aborting with status: OUT_OF_RANGE: End of sequence\n",
      "\t [[{{node IteratorGetNext}}]]\n"
     ]
    },
    {
     "name": "stdout",
     "output_type": "stream",
     "text": [
      "129/129 - 32s - 247ms/step - auc: 0.9934 - loss: 0.0846 - val_auc: 0.9897 - val_loss: 0.1272\n",
      "Epoch 122/200\n",
      "129/129 - 0s - 61us/step - auc: 0.0000e+00 - loss: 0.0000e+00 - val_auc: 0.0000e+00 - val_loss: 0.0000e+00\n",
      "Epoch 123/200\n"
     ]
    },
    {
     "name": "stderr",
     "output_type": "stream",
     "text": [
      "2024-03-31 18:35:11.501650: W tensorflow/core/framework/local_rendezvous.cc:404] Local rendezvous is aborting with status: OUT_OF_RANGE: End of sequence\n",
      "\t [[{{node IteratorGetNext}}]]\n",
      "2024-03-31 18:35:11.504077: W tensorflow/core/framework/local_rendezvous.cc:404] Local rendezvous is aborting with status: OUT_OF_RANGE: End of sequence\n",
      "\t [[{{node IteratorGetNext}}]]\n"
     ]
    },
    {
     "name": "stdout",
     "output_type": "stream",
     "text": [
      "129/129 - 32s - 250ms/step - auc: 0.9949 - loss: 0.0754 - val_auc: 0.9855 - val_loss: 0.1230\n",
      "Epoch 124/200\n",
      "129/129 - 0s - 59us/step - auc: 0.0000e+00 - loss: 0.0000e+00 - val_auc: 0.0000e+00 - val_loss: 0.0000e+00\n",
      "Epoch 125/200\n"
     ]
    },
    {
     "name": "stderr",
     "output_type": "stream",
     "text": [
      "2024-03-31 18:35:43.803175: W tensorflow/core/framework/local_rendezvous.cc:404] Local rendezvous is aborting with status: OUT_OF_RANGE: End of sequence\n",
      "\t [[{{node IteratorGetNext}}]]\n",
      "2024-03-31 18:35:43.805837: W tensorflow/core/framework/local_rendezvous.cc:404] Local rendezvous is aborting with status: OUT_OF_RANGE: End of sequence\n",
      "\t [[{{node IteratorGetNext}}]]\n"
     ]
    },
    {
     "name": "stdout",
     "output_type": "stream",
     "text": [
      "129/129 - 31s - 244ms/step - auc: 0.9922 - loss: 0.0913 - val_auc: 0.9881 - val_loss: 0.1551\n",
      "Epoch 126/200\n",
      "129/129 - 0s - 68us/step - auc: 0.0000e+00 - loss: 0.0000e+00 - val_auc: 0.0000e+00 - val_loss: 0.0000e+00\n",
      "Epoch 127/200\n"
     ]
    },
    {
     "name": "stderr",
     "output_type": "stream",
     "text": [
      "2024-03-31 18:36:15.266813: W tensorflow/core/framework/local_rendezvous.cc:404] Local rendezvous is aborting with status: OUT_OF_RANGE: End of sequence\n",
      "\t [[{{node IteratorGetNext}}]]\n",
      "2024-03-31 18:36:15.269838: W tensorflow/core/framework/local_rendezvous.cc:404] Local rendezvous is aborting with status: OUT_OF_RANGE: End of sequence\n",
      "\t [[{{node IteratorGetNext}}]]\n"
     ]
    },
    {
     "name": "stdout",
     "output_type": "stream",
     "text": [
      "129/129 - 32s - 248ms/step - auc: 0.9943 - loss: 0.0778 - val_auc: 0.9888 - val_loss: 0.1385\n",
      "Epoch 128/200\n",
      "129/129 - 0s - 76us/step - auc: 0.0000e+00 - loss: 0.0000e+00 - val_auc: 0.0000e+00 - val_loss: 0.0000e+00\n",
      "Epoch 129/200\n"
     ]
    },
    {
     "name": "stderr",
     "output_type": "stream",
     "text": [
      "2024-03-31 18:36:47.256336: W tensorflow/core/framework/local_rendezvous.cc:404] Local rendezvous is aborting with status: OUT_OF_RANGE: End of sequence\n",
      "\t [[{{node IteratorGetNext}}]]\n",
      "2024-03-31 18:36:47.259656: W tensorflow/core/framework/local_rendezvous.cc:404] Local rendezvous is aborting with status: OUT_OF_RANGE: End of sequence\n",
      "\t [[{{node IteratorGetNext}}]]\n"
     ]
    },
    {
     "name": "stdout",
     "output_type": "stream",
     "text": [
      "129/129 - 31s - 239ms/step - auc: 0.9942 - loss: 0.0822 - val_auc: 0.9915 - val_loss: 0.1511\n",
      "Epoch 130/200\n",
      "129/129 - 0s - 56us/step - auc: 0.0000e+00 - loss: 0.0000e+00 - val_auc: 0.0000e+00 - val_loss: 0.0000e+00\n",
      "Epoch 131/200\n"
     ]
    },
    {
     "name": "stderr",
     "output_type": "stream",
     "text": [
      "2024-03-31 18:37:18.125019: W tensorflow/core/framework/local_rendezvous.cc:404] Local rendezvous is aborting with status: OUT_OF_RANGE: End of sequence\n",
      "\t [[{{node IteratorGetNext}}]]\n",
      "2024-03-31 18:37:18.127599: W tensorflow/core/framework/local_rendezvous.cc:404] Local rendezvous is aborting with status: OUT_OF_RANGE: End of sequence\n",
      "\t [[{{node IteratorGetNext}}]]\n"
     ]
    },
    {
     "name": "stdout",
     "output_type": "stream",
     "text": [
      "129/129 - 30s - 236ms/step - auc: 0.9945 - loss: 0.0761 - val_auc: 0.9888 - val_loss: 0.1203\n",
      "Epoch 132/200\n",
      "129/129 - 0s - 64us/step - auc: 0.0000e+00 - loss: 0.0000e+00 - val_auc: 0.0000e+00 - val_loss: 0.0000e+00\n",
      "Epoch 133/200\n"
     ]
    },
    {
     "name": "stderr",
     "output_type": "stream",
     "text": [
      "2024-03-31 18:37:48.634063: W tensorflow/core/framework/local_rendezvous.cc:404] Local rendezvous is aborting with status: OUT_OF_RANGE: End of sequence\n",
      "\t [[{{node IteratorGetNext}}]]\n",
      "2024-03-31 18:37:48.636854: W tensorflow/core/framework/local_rendezvous.cc:404] Local rendezvous is aborting with status: OUT_OF_RANGE: End of sequence\n",
      "\t [[{{node IteratorGetNext}}]]\n"
     ]
    },
    {
     "name": "stdout",
     "output_type": "stream",
     "text": [
      "129/129 - 31s - 239ms/step - auc: 0.9947 - loss: 0.0829 - val_auc: 0.9904 - val_loss: 0.1209\n",
      "Epoch 134/200\n",
      "129/129 - 0s - 57us/step - auc: 0.0000e+00 - loss: 0.0000e+00 - val_auc: 0.0000e+00 - val_loss: 0.0000e+00\n",
      "Epoch 135/200\n"
     ]
    },
    {
     "name": "stderr",
     "output_type": "stream",
     "text": [
      "2024-03-31 18:38:19.416454: W tensorflow/core/framework/local_rendezvous.cc:404] Local rendezvous is aborting with status: OUT_OF_RANGE: End of sequence\n",
      "\t [[{{node IteratorGetNext}}]]\n",
      "2024-03-31 18:38:19.419192: W tensorflow/core/framework/local_rendezvous.cc:404] Local rendezvous is aborting with status: OUT_OF_RANGE: End of sequence\n",
      "\t [[{{node IteratorGetNext}}]]\n"
     ]
    },
    {
     "name": "stdout",
     "output_type": "stream",
     "text": [
      "129/129 - 31s - 240ms/step - auc: 0.9949 - loss: 0.0753 - val_auc: 0.9886 - val_loss: 0.1319\n",
      "Epoch 136/200\n",
      "129/129 - 0s - 63us/step - auc: 0.0000e+00 - loss: 0.0000e+00 - val_auc: 0.0000e+00 - val_loss: 0.0000e+00\n",
      "Epoch 137/200\n"
     ]
    },
    {
     "name": "stderr",
     "output_type": "stream",
     "text": [
      "2024-03-31 18:38:50.437746: W tensorflow/core/framework/local_rendezvous.cc:404] Local rendezvous is aborting with status: OUT_OF_RANGE: End of sequence\n",
      "\t [[{{node IteratorGetNext}}]]\n",
      "2024-03-31 18:38:50.440409: W tensorflow/core/framework/local_rendezvous.cc:404] Local rendezvous is aborting with status: OUT_OF_RANGE: End of sequence\n",
      "\t [[{{node IteratorGetNext}}]]\n"
     ]
    },
    {
     "name": "stdout",
     "output_type": "stream",
     "text": [
      "129/129 - 30s - 231ms/step - auc: 0.9948 - loss: 0.0747 - val_auc: 0.9905 - val_loss: 0.1071\n",
      "Epoch 138/200\n",
      "129/129 - 0s - 58us/step - auc: 0.0000e+00 - loss: 0.0000e+00 - val_auc: 0.0000e+00 - val_loss: 0.0000e+00\n",
      "Epoch 139/200\n"
     ]
    },
    {
     "name": "stderr",
     "output_type": "stream",
     "text": [
      "2024-03-31 18:39:20.234418: W tensorflow/core/framework/local_rendezvous.cc:404] Local rendezvous is aborting with status: OUT_OF_RANGE: End of sequence\n",
      "\t [[{{node IteratorGetNext}}]]\n",
      "2024-03-31 18:39:20.237123: W tensorflow/core/framework/local_rendezvous.cc:404] Local rendezvous is aborting with status: OUT_OF_RANGE: End of sequence\n",
      "\t [[{{node IteratorGetNext}}]]\n"
     ]
    },
    {
     "name": "stdout",
     "output_type": "stream",
     "text": [
      "129/129 - 30s - 233ms/step - auc: 0.9956 - loss: 0.0718 - val_auc: 0.9895 - val_loss: 0.1136\n",
      "Epoch 140/200\n",
      "129/129 - 0s - 59us/step - auc: 0.0000e+00 - loss: 0.0000e+00 - val_auc: 0.0000e+00 - val_loss: 0.0000e+00\n",
      "Epoch 141/200\n"
     ]
    },
    {
     "name": "stderr",
     "output_type": "stream",
     "text": [
      "2024-03-31 18:39:50.355303: W tensorflow/core/framework/local_rendezvous.cc:404] Local rendezvous is aborting with status: OUT_OF_RANGE: End of sequence\n",
      "\t [[{{node IteratorGetNext}}]]\n",
      "2024-03-31 18:39:50.357874: W tensorflow/core/framework/local_rendezvous.cc:404] Local rendezvous is aborting with status: OUT_OF_RANGE: End of sequence\n",
      "\t [[{{node IteratorGetNext}}]]\n"
     ]
    },
    {
     "name": "stdout",
     "output_type": "stream",
     "text": [
      "129/129 - 30s - 235ms/step - auc: 0.9941 - loss: 0.0758 - val_auc: 0.9883 - val_loss: 0.1313\n",
      "Epoch 142/200\n",
      "129/129 - 0s - 62us/step - auc: 0.0000e+00 - loss: 0.0000e+00 - val_auc: 0.0000e+00 - val_loss: 0.0000e+00\n",
      "Epoch 143/200\n"
     ]
    },
    {
     "name": "stderr",
     "output_type": "stream",
     "text": [
      "2024-03-31 18:40:20.689980: W tensorflow/core/framework/local_rendezvous.cc:404] Local rendezvous is aborting with status: OUT_OF_RANGE: End of sequence\n",
      "\t [[{{node IteratorGetNext}}]]\n",
      "2024-03-31 18:40:20.692874: W tensorflow/core/framework/local_rendezvous.cc:404] Local rendezvous is aborting with status: OUT_OF_RANGE: End of sequence\n",
      "\t [[{{node IteratorGetNext}}]]\n"
     ]
    },
    {
     "name": "stdout",
     "output_type": "stream",
     "text": [
      "129/129 - 31s - 238ms/step - auc: 0.9940 - loss: 0.0843 - val_auc: 0.9907 - val_loss: 0.1057\n",
      "Epoch 144/200\n",
      "129/129 - 0s - 60us/step - auc: 0.0000e+00 - loss: 0.0000e+00 - val_auc: 0.0000e+00 - val_loss: 0.0000e+00\n",
      "Epoch 145/200\n"
     ]
    },
    {
     "name": "stderr",
     "output_type": "stream",
     "text": [
      "2024-03-31 18:40:51.411165: W tensorflow/core/framework/local_rendezvous.cc:404] Local rendezvous is aborting with status: OUT_OF_RANGE: End of sequence\n",
      "\t [[{{node IteratorGetNext}}]]\n",
      "2024-03-31 18:40:51.413803: W tensorflow/core/framework/local_rendezvous.cc:404] Local rendezvous is aborting with status: OUT_OF_RANGE: End of sequence\n",
      "\t [[{{node IteratorGetNext}}]]\n"
     ]
    },
    {
     "name": "stdout",
     "output_type": "stream",
     "text": [
      "129/129 - 31s - 238ms/step - auc: 0.9954 - loss: 0.0769 - val_auc: 0.9882 - val_loss: 0.1197\n",
      "Epoch 146/200\n",
      "129/129 - 0s - 70us/step - auc: 0.0000e+00 - loss: 0.0000e+00 - val_auc: 0.0000e+00 - val_loss: 0.0000e+00\n",
      "Epoch 147/200\n"
     ]
    },
    {
     "name": "stderr",
     "output_type": "stream",
     "text": [
      "2024-03-31 18:41:22.104418: W tensorflow/core/framework/local_rendezvous.cc:404] Local rendezvous is aborting with status: OUT_OF_RANGE: End of sequence\n",
      "\t [[{{node IteratorGetNext}}]]\n",
      "2024-03-31 18:41:22.107571: W tensorflow/core/framework/local_rendezvous.cc:404] Local rendezvous is aborting with status: OUT_OF_RANGE: End of sequence\n",
      "\t [[{{node IteratorGetNext}}]]\n"
     ]
    },
    {
     "name": "stdout",
     "output_type": "stream",
     "text": [
      "129/129 - 33s - 254ms/step - auc: 0.9955 - loss: 0.0720 - val_auc: 0.9890 - val_loss: 0.1213\n",
      "Epoch 148/200\n",
      "129/129 - 0s - 72us/step - auc: 0.0000e+00 - loss: 0.0000e+00 - val_auc: 0.0000e+00 - val_loss: 0.0000e+00\n",
      "Epoch 149/200\n"
     ]
    },
    {
     "name": "stderr",
     "output_type": "stream",
     "text": [
      "2024-03-31 18:41:54.919282: W tensorflow/core/framework/local_rendezvous.cc:404] Local rendezvous is aborting with status: OUT_OF_RANGE: End of sequence\n",
      "\t [[{{node IteratorGetNext}}]]\n",
      "2024-03-31 18:41:54.922571: W tensorflow/core/framework/local_rendezvous.cc:404] Local rendezvous is aborting with status: OUT_OF_RANGE: End of sequence\n",
      "\t [[{{node IteratorGetNext}}]]\n"
     ]
    },
    {
     "name": "stdout",
     "output_type": "stream",
     "text": [
      "129/129 - 31s - 239ms/step - auc: 0.9957 - loss: 0.0704 - val_auc: 0.9900 - val_loss: 0.1350\n",
      "Epoch 150/200\n",
      "129/129 - 0s - 62us/step - auc: 0.0000e+00 - loss: 0.0000e+00 - val_auc: 0.0000e+00 - val_loss: 0.0000e+00\n",
      "Epoch 151/200\n"
     ]
    },
    {
     "name": "stderr",
     "output_type": "stream",
     "text": [
      "2024-03-31 18:42:25.823808: W tensorflow/core/framework/local_rendezvous.cc:404] Local rendezvous is aborting with status: OUT_OF_RANGE: End of sequence\n",
      "\t [[{{node IteratorGetNext}}]]\n",
      "2024-03-31 18:42:25.826387: W tensorflow/core/framework/local_rendezvous.cc:404] Local rendezvous is aborting with status: OUT_OF_RANGE: End of sequence\n",
      "\t [[{{node IteratorGetNext}}]]\n"
     ]
    },
    {
     "name": "stdout",
     "output_type": "stream",
     "text": [
      "129/129 - 30s - 231ms/step - auc: 0.9963 - loss: 0.0671 - val_auc: 0.9898 - val_loss: 0.1143\n",
      "Epoch 152/200\n",
      "129/129 - 0s - 60us/step - auc: 0.0000e+00 - loss: 0.0000e+00 - val_auc: 0.0000e+00 - val_loss: 0.0000e+00\n",
      "Epoch 153/200\n"
     ]
    },
    {
     "name": "stderr",
     "output_type": "stream",
     "text": [
      "2024-03-31 18:42:55.595613: W tensorflow/core/framework/local_rendezvous.cc:404] Local rendezvous is aborting with status: OUT_OF_RANGE: End of sequence\n",
      "\t [[{{node IteratorGetNext}}]]\n",
      "2024-03-31 18:42:55.598386: W tensorflow/core/framework/local_rendezvous.cc:404] Local rendezvous is aborting with status: OUT_OF_RANGE: End of sequence\n",
      "\t [[{{node IteratorGetNext}}]]\n"
     ]
    },
    {
     "name": "stdout",
     "output_type": "stream",
     "text": [
      "129/129 - 30s - 236ms/step - auc: 0.9955 - loss: 0.0764 - val_auc: 0.9918 - val_loss: 0.1046\n",
      "Epoch 154/200\n",
      "129/129 - 0s - 58us/step - auc: 0.0000e+00 - loss: 0.0000e+00 - val_auc: 0.0000e+00 - val_loss: 0.0000e+00\n",
      "Epoch 155/200\n"
     ]
    },
    {
     "name": "stderr",
     "output_type": "stream",
     "text": [
      "2024-03-31 18:43:26.022464: W tensorflow/core/framework/local_rendezvous.cc:404] Local rendezvous is aborting with status: OUT_OF_RANGE: End of sequence\n",
      "\t [[{{node IteratorGetNext}}]]\n",
      "2024-03-31 18:43:26.025261: W tensorflow/core/framework/local_rendezvous.cc:404] Local rendezvous is aborting with status: OUT_OF_RANGE: End of sequence\n",
      "\t [[{{node IteratorGetNext}}]]\n"
     ]
    },
    {
     "name": "stdout",
     "output_type": "stream",
     "text": [
      "129/129 - 30s - 234ms/step - auc: 0.9957 - loss: 0.0663 - val_auc: 0.9906 - val_loss: 0.1238\n",
      "Epoch 156/200\n",
      "129/129 - 0s - 61us/step - auc: 0.0000e+00 - loss: 0.0000e+00 - val_auc: 0.0000e+00 - val_loss: 0.0000e+00\n",
      "Epoch 157/200\n"
     ]
    },
    {
     "name": "stderr",
     "output_type": "stream",
     "text": [
      "2024-03-31 18:43:56.204756: W tensorflow/core/framework/local_rendezvous.cc:404] Local rendezvous is aborting with status: OUT_OF_RANGE: End of sequence\n",
      "\t [[{{node IteratorGetNext}}]]\n",
      "2024-03-31 18:43:56.207413: W tensorflow/core/framework/local_rendezvous.cc:404] Local rendezvous is aborting with status: OUT_OF_RANGE: End of sequence\n",
      "\t [[{{node IteratorGetNext}}]]\n"
     ]
    },
    {
     "name": "stdout",
     "output_type": "stream",
     "text": [
      "129/129 - 30s - 235ms/step - auc: 0.9961 - loss: 0.0667 - val_auc: 0.9884 - val_loss: 0.1330\n",
      "Epoch 158/200\n",
      "129/129 - 0s - 59us/step - auc: 0.0000e+00 - loss: 0.0000e+00 - val_auc: 0.0000e+00 - val_loss: 0.0000e+00\n",
      "Epoch 159/200\n"
     ]
    },
    {
     "name": "stderr",
     "output_type": "stream",
     "text": [
      "2024-03-31 18:44:26.550676: W tensorflow/core/framework/local_rendezvous.cc:404] Local rendezvous is aborting with status: OUT_OF_RANGE: End of sequence\n",
      "\t [[{{node IteratorGetNext}}]]\n",
      "2024-03-31 18:44:26.553454: W tensorflow/core/framework/local_rendezvous.cc:404] Local rendezvous is aborting with status: OUT_OF_RANGE: End of sequence\n",
      "\t [[{{node IteratorGetNext}}]]\n"
     ]
    },
    {
     "name": "stdout",
     "output_type": "stream",
     "text": [
      "129/129 - 32s - 247ms/step - auc: 0.9948 - loss: 0.0743 - val_auc: 0.9894 - val_loss: 0.1182\n",
      "Epoch 160/200\n",
      "129/129 - 0s - 75us/step - auc: 0.0000e+00 - loss: 0.0000e+00 - val_auc: 0.0000e+00 - val_loss: 0.0000e+00\n",
      "Epoch 161/200\n"
     ]
    },
    {
     "name": "stderr",
     "output_type": "stream",
     "text": [
      "2024-03-31 18:44:58.367925: W tensorflow/core/framework/local_rendezvous.cc:404] Local rendezvous is aborting with status: OUT_OF_RANGE: End of sequence\n",
      "\t [[{{node IteratorGetNext}}]]\n",
      "2024-03-31 18:44:58.371340: W tensorflow/core/framework/local_rendezvous.cc:404] Local rendezvous is aborting with status: OUT_OF_RANGE: End of sequence\n",
      "\t [[{{node IteratorGetNext}}]]\n"
     ]
    },
    {
     "name": "stdout",
     "output_type": "stream",
     "text": [
      "129/129 - 30s - 232ms/step - auc: 0.9960 - loss: 0.0667 - val_auc: 0.9915 - val_loss: 0.1136\n",
      "Epoch 162/200\n",
      "129/129 - 0s - 60us/step - auc: 0.0000e+00 - loss: 0.0000e+00 - val_auc: 0.0000e+00 - val_loss: 0.0000e+00\n",
      "Epoch 163/200\n"
     ]
    },
    {
     "name": "stderr",
     "output_type": "stream",
     "text": [
      "2024-03-31 18:45:28.287007: W tensorflow/core/framework/local_rendezvous.cc:404] Local rendezvous is aborting with status: OUT_OF_RANGE: End of sequence\n",
      "\t [[{{node IteratorGetNext}}]]\n",
      "2024-03-31 18:45:28.289627: W tensorflow/core/framework/local_rendezvous.cc:404] Local rendezvous is aborting with status: OUT_OF_RANGE: End of sequence\n",
      "\t [[{{node IteratorGetNext}}]]\n"
     ]
    },
    {
     "name": "stdout",
     "output_type": "stream",
     "text": [
      "129/129 - 29s - 228ms/step - auc: 0.9942 - loss: 0.0743 - val_auc: 0.9857 - val_loss: 0.1266\n",
      "Epoch 164/200\n",
      "129/129 - 0s - 55us/step - auc: 0.0000e+00 - loss: 0.0000e+00 - val_auc: 0.0000e+00 - val_loss: 0.0000e+00\n",
      "Epoch 165/200\n"
     ]
    },
    {
     "name": "stderr",
     "output_type": "stream",
     "text": [
      "2024-03-31 18:45:57.723998: W tensorflow/core/framework/local_rendezvous.cc:404] Local rendezvous is aborting with status: OUT_OF_RANGE: End of sequence\n",
      "\t [[{{node IteratorGetNext}}]]\n",
      "2024-03-31 18:45:57.726663: W tensorflow/core/framework/local_rendezvous.cc:404] Local rendezvous is aborting with status: OUT_OF_RANGE: End of sequence\n",
      "\t [[{{node IteratorGetNext}}]]\n"
     ]
    },
    {
     "name": "stdout",
     "output_type": "stream",
     "text": [
      "129/129 - 30s - 229ms/step - auc: 0.9966 - loss: 0.0645 - val_auc: 0.9863 - val_loss: 0.1305\n",
      "Epoch 166/200\n",
      "129/129 - 0s - 57us/step - auc: 0.0000e+00 - loss: 0.0000e+00 - val_auc: 0.0000e+00 - val_loss: 0.0000e+00\n",
      "Epoch 167/200\n"
     ]
    },
    {
     "name": "stderr",
     "output_type": "stream",
     "text": [
      "2024-03-31 18:46:27.268365: W tensorflow/core/framework/local_rendezvous.cc:404] Local rendezvous is aborting with status: OUT_OF_RANGE: End of sequence\n",
      "\t [[{{node IteratorGetNext}}]]\n",
      "2024-03-31 18:46:27.271000: W tensorflow/core/framework/local_rendezvous.cc:404] Local rendezvous is aborting with status: OUT_OF_RANGE: End of sequence\n",
      "\t [[{{node IteratorGetNext}}]]\n"
     ]
    },
    {
     "name": "stdout",
     "output_type": "stream",
     "text": [
      "129/129 - 31s - 238ms/step - auc: 0.9960 - loss: 0.0680 - val_auc: 0.9924 - val_loss: 0.1034\n",
      "Epoch 168/200\n",
      "129/129 - 0s - 67us/step - auc: 0.0000e+00 - loss: 0.0000e+00 - val_auc: 0.0000e+00 - val_loss: 0.0000e+00\n",
      "Epoch 169/200\n"
     ]
    },
    {
     "name": "stderr",
     "output_type": "stream",
     "text": [
      "2024-03-31 18:46:58.018474: W tensorflow/core/framework/local_rendezvous.cc:404] Local rendezvous is aborting with status: OUT_OF_RANGE: End of sequence\n",
      "\t [[{{node IteratorGetNext}}]]\n",
      "2024-03-31 18:46:58.021875: W tensorflow/core/framework/local_rendezvous.cc:404] Local rendezvous is aborting with status: OUT_OF_RANGE: End of sequence\n",
      "\t [[{{node IteratorGetNext}}]]\n"
     ]
    },
    {
     "name": "stdout",
     "output_type": "stream",
     "text": [
      "129/129 - 30s - 236ms/step - auc: 0.9957 - loss: 0.0686 - val_auc: 0.9871 - val_loss: 0.1408\n",
      "Epoch 170/200\n",
      "129/129 - 0s - 71us/step - auc: 0.0000e+00 - loss: 0.0000e+00 - val_auc: 0.0000e+00 - val_loss: 0.0000e+00\n",
      "Epoch 171/200\n"
     ]
    },
    {
     "name": "stderr",
     "output_type": "stream",
     "text": [
      "2024-03-31 18:47:28.474346: W tensorflow/core/framework/local_rendezvous.cc:404] Local rendezvous is aborting with status: OUT_OF_RANGE: End of sequence\n",
      "\t [[{{node IteratorGetNext}}]]\n",
      "2024-03-31 18:47:28.478180: W tensorflow/core/framework/local_rendezvous.cc:404] Local rendezvous is aborting with status: OUT_OF_RANGE: End of sequence\n",
      "\t [[{{node IteratorGetNext}}]]\n"
     ]
    },
    {
     "name": "stdout",
     "output_type": "stream",
     "text": [
      "129/129 - 33s - 254ms/step - auc: 0.9951 - loss: 0.0733 - val_auc: 0.9897 - val_loss: 0.1412\n",
      "Epoch 172/200\n",
      "129/129 - 0s - 59us/step - auc: 0.0000e+00 - loss: 0.0000e+00 - val_auc: 0.0000e+00 - val_loss: 0.0000e+00\n",
      "Epoch 173/200\n"
     ]
    },
    {
     "name": "stderr",
     "output_type": "stream",
     "text": [
      "2024-03-31 18:48:01.314850: W tensorflow/core/framework/local_rendezvous.cc:404] Local rendezvous is aborting with status: OUT_OF_RANGE: End of sequence\n",
      "\t [[{{node IteratorGetNext}}]]\n",
      "2024-03-31 18:48:01.317467: W tensorflow/core/framework/local_rendezvous.cc:404] Local rendezvous is aborting with status: OUT_OF_RANGE: End of sequence\n",
      "\t [[{{node IteratorGetNext}}]]\n"
     ]
    },
    {
     "name": "stdout",
     "output_type": "stream",
     "text": [
      "129/129 - 32s - 247ms/step - auc: 0.9959 - loss: 0.0673 - val_auc: 0.9907 - val_loss: 0.1308\n",
      "Epoch 174/200\n",
      "129/129 - 0s - 66us/step - auc: 0.0000e+00 - loss: 0.0000e+00 - val_auc: 0.0000e+00 - val_loss: 0.0000e+00\n",
      "Epoch 175/200\n"
     ]
    },
    {
     "name": "stderr",
     "output_type": "stream",
     "text": [
      "2024-03-31 18:48:33.196967: W tensorflow/core/framework/local_rendezvous.cc:404] Local rendezvous is aborting with status: OUT_OF_RANGE: End of sequence\n",
      "\t [[{{node IteratorGetNext}}]]\n",
      "2024-03-31 18:48:33.200281: W tensorflow/core/framework/local_rendezvous.cc:404] Local rendezvous is aborting with status: OUT_OF_RANGE: End of sequence\n",
      "\t [[{{node IteratorGetNext}}]]\n"
     ]
    },
    {
     "name": "stdout",
     "output_type": "stream",
     "text": [
      "129/129 - 31s - 240ms/step - auc: 0.9958 - loss: 0.0673 - val_auc: 0.9898 - val_loss: 0.1113\n",
      "Epoch 176/200\n",
      "129/129 - 0s - 64us/step - auc: 0.0000e+00 - loss: 0.0000e+00 - val_auc: 0.0000e+00 - val_loss: 0.0000e+00\n",
      "Epoch 177/200\n"
     ]
    },
    {
     "name": "stderr",
     "output_type": "stream",
     "text": [
      "2024-03-31 18:49:04.198745: W tensorflow/core/framework/local_rendezvous.cc:404] Local rendezvous is aborting with status: OUT_OF_RANGE: End of sequence\n",
      "\t [[{{node IteratorGetNext}}]]\n",
      "2024-03-31 18:49:04.201523: W tensorflow/core/framework/local_rendezvous.cc:404] Local rendezvous is aborting with status: OUT_OF_RANGE: End of sequence\n",
      "\t [[{{node IteratorGetNext}}]]\n"
     ]
    },
    {
     "name": "stdout",
     "output_type": "stream",
     "text": [
      "129/129 - 31s - 237ms/step - auc: 0.9960 - loss: 0.0664 - val_auc: 0.9921 - val_loss: 0.1222\n",
      "Epoch 178/200\n",
      "129/129 - 0s - 61us/step - auc: 0.0000e+00 - loss: 0.0000e+00 - val_auc: 0.0000e+00 - val_loss: 0.0000e+00\n",
      "Epoch 179/200\n"
     ]
    },
    {
     "name": "stderr",
     "output_type": "stream",
     "text": [
      "2024-03-31 18:49:34.802645: W tensorflow/core/framework/local_rendezvous.cc:404] Local rendezvous is aborting with status: OUT_OF_RANGE: End of sequence\n",
      "\t [[{{node IteratorGetNext}}]]\n",
      "2024-03-31 18:49:34.805647: W tensorflow/core/framework/local_rendezvous.cc:404] Local rendezvous is aborting with status: OUT_OF_RANGE: End of sequence\n",
      "\t [[{{node IteratorGetNext}}]]\n"
     ]
    },
    {
     "name": "stdout",
     "output_type": "stream",
     "text": [
      "129/129 - 31s - 241ms/step - auc: 0.9962 - loss: 0.0694 - val_auc: 0.9918 - val_loss: 0.0980\n",
      "Epoch 180/200\n",
      "129/129 - 0s - 78us/step - auc: 0.0000e+00 - loss: 0.0000e+00 - val_auc: 0.0000e+00 - val_loss: 0.0000e+00\n",
      "Epoch 181/200\n"
     ]
    },
    {
     "name": "stderr",
     "output_type": "stream",
     "text": [
      "2024-03-31 18:50:05.927226: W tensorflow/core/framework/local_rendezvous.cc:404] Local rendezvous is aborting with status: OUT_OF_RANGE: End of sequence\n",
      "\t [[{{node IteratorGetNext}}]]\n",
      "2024-03-31 18:50:05.931371: W tensorflow/core/framework/local_rendezvous.cc:404] Local rendezvous is aborting with status: OUT_OF_RANGE: End of sequence\n",
      "\t [[{{node IteratorGetNext}}]]\n"
     ]
    },
    {
     "name": "stdout",
     "output_type": "stream",
     "text": [
      "129/129 - 32s - 251ms/step - auc: 0.9951 - loss: 0.0680 - val_auc: 0.9880 - val_loss: 0.1366\n",
      "Epoch 182/200\n",
      "129/129 - 0s - 59us/step - auc: 0.0000e+00 - loss: 0.0000e+00 - val_auc: 0.0000e+00 - val_loss: 0.0000e+00\n",
      "Epoch 183/200\n"
     ]
    },
    {
     "name": "stderr",
     "output_type": "stream",
     "text": [
      "2024-03-31 18:50:38.337248: W tensorflow/core/framework/local_rendezvous.cc:404] Local rendezvous is aborting with status: OUT_OF_RANGE: End of sequence\n",
      "\t [[{{node IteratorGetNext}}]]\n",
      "2024-03-31 18:50:38.339793: W tensorflow/core/framework/local_rendezvous.cc:404] Local rendezvous is aborting with status: OUT_OF_RANGE: End of sequence\n",
      "\t [[{{node IteratorGetNext}}]]\n"
     ]
    },
    {
     "name": "stdout",
     "output_type": "stream",
     "text": [
      "129/129 - 30s - 234ms/step - auc: 0.9964 - loss: 0.0667 - val_auc: 0.9924 - val_loss: 0.1051\n",
      "Epoch 184/200\n",
      "129/129 - 0s - 68us/step - auc: 0.0000e+00 - loss: 0.0000e+00 - val_auc: 0.0000e+00 - val_loss: 0.0000e+00\n",
      "Epoch 185/200\n"
     ]
    },
    {
     "name": "stderr",
     "output_type": "stream",
     "text": [
      "2024-03-31 18:51:08.482966: W tensorflow/core/framework/local_rendezvous.cc:404] Local rendezvous is aborting with status: OUT_OF_RANGE: End of sequence\n",
      "\t [[{{node IteratorGetNext}}]]\n",
      "2024-03-31 18:51:08.486078: W tensorflow/core/framework/local_rendezvous.cc:404] Local rendezvous is aborting with status: OUT_OF_RANGE: End of sequence\n",
      "\t [[{{node IteratorGetNext}}]]\n"
     ]
    },
    {
     "name": "stdout",
     "output_type": "stream",
     "text": [
      "129/129 - 33s - 253ms/step - auc: 0.9957 - loss: 0.0689 - val_auc: 0.9888 - val_loss: 0.1102\n",
      "Epoch 186/200\n",
      "129/129 - 0s - 71us/step - auc: 0.0000e+00 - loss: 0.0000e+00 - val_auc: 0.0000e+00 - val_loss: 0.0000e+00\n",
      "Epoch 187/200\n"
     ]
    },
    {
     "name": "stderr",
     "output_type": "stream",
     "text": [
      "2024-03-31 18:51:41.125787: W tensorflow/core/framework/local_rendezvous.cc:404] Local rendezvous is aborting with status: OUT_OF_RANGE: End of sequence\n",
      "\t [[{{node IteratorGetNext}}]]\n",
      "2024-03-31 18:51:41.129624: W tensorflow/core/framework/local_rendezvous.cc:404] Local rendezvous is aborting with status: OUT_OF_RANGE: End of sequence\n",
      "\t [[{{node IteratorGetNext}}]]\n"
     ]
    },
    {
     "name": "stdout",
     "output_type": "stream",
     "text": [
      "129/129 - 33s - 253ms/step - auc: 0.9964 - loss: 0.0634 - val_auc: 0.9873 - val_loss: 0.1330\n",
      "Epoch 188/200\n",
      "129/129 - 0s - 64us/step - auc: 0.0000e+00 - loss: 0.0000e+00 - val_auc: 0.0000e+00 - val_loss: 0.0000e+00\n",
      "Epoch 189/200\n"
     ]
    },
    {
     "name": "stderr",
     "output_type": "stream",
     "text": [
      "2024-03-31 18:52:13.822416: W tensorflow/core/framework/local_rendezvous.cc:404] Local rendezvous is aborting with status: OUT_OF_RANGE: End of sequence\n",
      "\t [[{{node IteratorGetNext}}]]\n",
      "2024-03-31 18:52:13.824985: W tensorflow/core/framework/local_rendezvous.cc:404] Local rendezvous is aborting with status: OUT_OF_RANGE: End of sequence\n",
      "\t [[{{node IteratorGetNext}}]]\n"
     ]
    },
    {
     "name": "stdout",
     "output_type": "stream",
     "text": [
      "129/129 - 34s - 264ms/step - auc: 0.9963 - loss: 0.0645 - val_auc: 0.9902 - val_loss: 0.1197\n",
      "Epoch 190/200\n",
      "129/129 - 0s - 76us/step - auc: 0.0000e+00 - loss: 0.0000e+00 - val_auc: 0.0000e+00 - val_loss: 0.0000e+00\n",
      "Epoch 191/200\n"
     ]
    },
    {
     "name": "stderr",
     "output_type": "stream",
     "text": [
      "2024-03-31 18:52:47.842642: W tensorflow/core/framework/local_rendezvous.cc:404] Local rendezvous is aborting with status: OUT_OF_RANGE: End of sequence\n",
      "\t [[{{node IteratorGetNext}}]]\n",
      "2024-03-31 18:52:47.846416: W tensorflow/core/framework/local_rendezvous.cc:404] Local rendezvous is aborting with status: OUT_OF_RANGE: End of sequence\n",
      "\t [[{{node IteratorGetNext}}]]\n"
     ]
    },
    {
     "name": "stdout",
     "output_type": "stream",
     "text": [
      "129/129 - 34s - 264ms/step - auc: 0.9976 - loss: 0.0559 - val_auc: 0.9904 - val_loss: 0.1306\n",
      "Epoch 192/200\n",
      "129/129 - 0s - 58us/step - auc: 0.0000e+00 - loss: 0.0000e+00 - val_auc: 0.0000e+00 - val_loss: 0.0000e+00\n",
      "Epoch 193/200\n"
     ]
    },
    {
     "name": "stderr",
     "output_type": "stream",
     "text": [
      "2024-03-31 18:53:21.891192: W tensorflow/core/framework/local_rendezvous.cc:404] Local rendezvous is aborting with status: OUT_OF_RANGE: End of sequence\n",
      "\t [[{{node IteratorGetNext}}]]\n",
      "2024-03-31 18:53:21.893772: W tensorflow/core/framework/local_rendezvous.cc:404] Local rendezvous is aborting with status: OUT_OF_RANGE: End of sequence\n",
      "\t [[{{node IteratorGetNext}}]]\n"
     ]
    },
    {
     "name": "stdout",
     "output_type": "stream",
     "text": [
      "129/129 - 31s - 241ms/step - auc: 0.9975 - loss: 0.0550 - val_auc: 0.9871 - val_loss: 0.1348\n",
      "Epoch 194/200\n",
      "129/129 - 0s - 69us/step - auc: 0.0000e+00 - loss: 0.0000e+00 - val_auc: 0.0000e+00 - val_loss: 0.0000e+00\n",
      "Epoch 195/200\n"
     ]
    },
    {
     "name": "stderr",
     "output_type": "stream",
     "text": [
      "2024-03-31 18:53:52.968871: W tensorflow/core/framework/local_rendezvous.cc:404] Local rendezvous is aborting with status: OUT_OF_RANGE: End of sequence\n",
      "\t [[{{node IteratorGetNext}}]]\n",
      "2024-03-31 18:53:52.971924: W tensorflow/core/framework/local_rendezvous.cc:404] Local rendezvous is aborting with status: OUT_OF_RANGE: End of sequence\n",
      "\t [[{{node IteratorGetNext}}]]\n"
     ]
    },
    {
     "name": "stdout",
     "output_type": "stream",
     "text": [
      "129/129 - 32s - 249ms/step - auc: 0.9957 - loss: 0.0601 - val_auc: 0.9917 - val_loss: 0.1102\n",
      "Epoch 196/200\n",
      "129/129 - 0s - 65us/step - auc: 0.0000e+00 - loss: 0.0000e+00 - val_auc: 0.0000e+00 - val_loss: 0.0000e+00\n",
      "Epoch 197/200\n"
     ]
    },
    {
     "name": "stderr",
     "output_type": "stream",
     "text": [
      "2024-03-31 18:54:25.149502: W tensorflow/core/framework/local_rendezvous.cc:404] Local rendezvous is aborting with status: OUT_OF_RANGE: End of sequence\n",
      "\t [[{{node IteratorGetNext}}]]\n",
      "2024-03-31 18:54:25.152560: W tensorflow/core/framework/local_rendezvous.cc:404] Local rendezvous is aborting with status: OUT_OF_RANGE: End of sequence\n",
      "\t [[{{node IteratorGetNext}}]]\n"
     ]
    },
    {
     "name": "stdout",
     "output_type": "stream",
     "text": [
      "129/129 - 31s - 244ms/step - auc: 0.9973 - loss: 0.0574 - val_auc: 0.9902 - val_loss: 0.1117\n",
      "Epoch 198/200\n",
      "129/129 - 0s - 80us/step - auc: 0.0000e+00 - loss: 0.0000e+00 - val_auc: 0.0000e+00 - val_loss: 0.0000e+00\n",
      "Epoch 199/200\n"
     ]
    },
    {
     "name": "stderr",
     "output_type": "stream",
     "text": [
      "2024-03-31 18:54:56.628614: W tensorflow/core/framework/local_rendezvous.cc:404] Local rendezvous is aborting with status: OUT_OF_RANGE: End of sequence\n",
      "\t [[{{node IteratorGetNext}}]]\n",
      "2024-03-31 18:54:56.632661: W tensorflow/core/framework/local_rendezvous.cc:404] Local rendezvous is aborting with status: OUT_OF_RANGE: End of sequence\n",
      "\t [[{{node IteratorGetNext}}]]\n"
     ]
    },
    {
     "name": "stdout",
     "output_type": "stream",
     "text": [
      "129/129 - 31s - 240ms/step - auc: 0.9963 - loss: 0.0592 - val_auc: 0.9895 - val_loss: 0.1113\n",
      "Epoch 200/200\n",
      "129/129 - 0s - 77us/step - auc: 0.0000e+00 - loss: 0.0000e+00 - val_auc: 0.0000e+00 - val_loss: 0.0000e+00\n"
     ]
    },
    {
     "name": "stderr",
     "output_type": "stream",
     "text": [
      "2024-03-31 18:55:27.559896: W tensorflow/core/framework/local_rendezvous.cc:404] Local rendezvous is aborting with status: OUT_OF_RANGE: End of sequence\n",
      "\t [[{{node IteratorGetNext}}]]\n",
      "2024-03-31 18:55:27.564181: W tensorflow/core/framework/local_rendezvous.cc:404] Local rendezvous is aborting with status: OUT_OF_RANGE: End of sequence\n",
      "\t [[{{node IteratorGetNext}}]]\n"
     ]
    }
   ],
   "source": [
    "#Model 7(b): Conv2D x 3 + 128 dense units + (batch_size = 64) + (kernel = 5) (200 epochs)\n",
    "hyper_feature_maps = 64\n",
    "cnn = Sequential()\n",
    "cnn.add(InputLayer(shape=(hyper_dimension, hyper_dimension, hyper_channels)))\n",
    "\n",
    "cnn.add(Conv2D(filters=hyper_feature_maps, kernel_size=5, activation='relu'))\n",
    "cnn.add(MaxPooling2D(pool_size=(2,2)))\n",
    "\n",
    "cnn.add(Conv2D(filters=hyper_feature_maps, kernel_size=5, activation='relu'))\n",
    "cnn.add(MaxPooling2D(pool_size=(2,2)))\n",
    "\n",
    "cnn.add(Conv2D(filters=hyper_feature_maps, kernel_size=5, activation='relu'))\n",
    "cnn.add(MaxPooling2D(pool_size=(2,2)))\n",
    "\n",
    "cnn.add(Flatten())\n",
    "\n",
    "cnn.add(Dense(activation='relu', units=128))\n",
    "cnn.add(Dense(activation='sigmoid', units=1))\n",
    "\n",
    "cnn.compile(optimizer= 'adam', loss='binary_crossentropy', metrics=[AUC()])\n",
    "cnn_model = cnn.fit(train_generator, \n",
    "                              steps_per_epoch = len(train_generator), \n",
    "                              epochs = 200, \n",
    "                              validation_data = val_generator,\n",
    "                              validation_steps = len(val_generator), \n",
    "                              verbose=2)"
   ]
  },
  {
   "cell_type": "code",
   "execution_count": 8,
   "id": "840044dc",
   "metadata": {},
   "outputs": [
    {
     "name": "stdout",
     "output_type": "stream",
     "text": [
      "\u001b[1m28/28\u001b[0m \u001b[32m━━━━━━━━━━━━━━━━━━━━\u001b[0m\u001b[37m\u001b[0m \u001b[1m3s\u001b[0m 106ms/step\n",
      "[Summary Statistics]\n",
      "Accuracy = 92.12% | Precision = 92.55% | Recall = 97.03% | Specificity = 78.81% | F1 Score = 94.74%\n"
     ]
    },
    {
     "data": {
      "image/png": "[encoded data removed]",
      "text/plain": [
       "<Figure size 1300x1000 with 5 Axes>"
      ]
     },
     "metadata": {},
     "output_type": "display_data"
    }
   ],
   "source": [
    "create_charts(cnn, cnn_model)"
   ]
  },
  {
   "cell_type": "code",
   "execution_count": 10,
   "id": "3b1a35a3",
   "metadata": {},
   "outputs": [
    {
     "name": "stdout",
     "output_type": "stream",
     "text": [
      "Epoch 1/400\n",
      "129/129 - 27s - 209ms/step - auc_2: 0.7542 - loss: 0.4897 - val_auc_2: 0.9294 - val_loss: 0.4500\n",
      "Epoch 2/400\n",
      "129/129 - 0s - 106us/step - auc_2: 0.0000e+00 - loss: 0.0000e+00 - val_auc_2: 0.0000e+00 - val_loss: 0.0000e+00\n",
      "Epoch 3/400\n"
     ]
    },
    {
     "name": "stderr",
     "output_type": "stream",
     "text": [
      "2024-03-31 18:57:54.684690: W tensorflow/core/framework/local_rendezvous.cc:404] Local rendezvous is aborting with status: OUT_OF_RANGE: End of sequence\n",
      "\t [[{{node IteratorGetNext}}]]\n",
      "/Users/freazx/anaconda3/lib/python3.11/contextlib.py:155: UserWarning: Your input ran out of data; interrupting training. Make sure that your dataset or generator can generate at least `steps_per_epoch * epochs` batches. You may need to use the `.repeat()` function when building your dataset.\n",
      "  self.gen.throw(typ, value, traceback)\n",
      "2024-03-31 18:57:54.688223: W tensorflow/core/framework/local_rendezvous.cc:404] Local rendezvous is aborting with status: OUT_OF_RANGE: End of sequence\n",
      "\t [[{{node IteratorGetNext}}]]\n"
     ]
    },
    {
     "name": "stdout",
     "output_type": "stream",
     "text": [
      "129/129 - 26s - 205ms/step - auc_2: 0.9310 - loss: 0.2939 - val_auc_2: 0.9584 - val_loss: 0.3325\n",
      "Epoch 4/400\n",
      "129/129 - 0s - 60us/step - auc_2: 0.0000e+00 - loss: 0.0000e+00 - val_auc_2: 0.0000e+00 - val_loss: 0.0000e+00\n",
      "Epoch 5/400\n"
     ]
    },
    {
     "name": "stderr",
     "output_type": "stream",
     "text": [
      "2024-03-31 18:58:21.170698: W tensorflow/core/framework/local_rendezvous.cc:404] Local rendezvous is aborting with status: OUT_OF_RANGE: End of sequence\n",
      "\t [[{{node IteratorGetNext}}]]\n",
      "2024-03-31 18:58:21.173150: W tensorflow/core/framework/local_rendezvous.cc:404] Local rendezvous is aborting with status: OUT_OF_RANGE: End of sequence\n",
      "\t [[{{node IteratorGetNext}}]]\n"
     ]
    },
    {
     "name": "stdout",
     "output_type": "stream",
     "text": [
      "129/129 - 32s - 245ms/step - auc_2: 0.9446 - loss: 0.2638 - val_auc_2: 0.9642 - val_loss: 0.2404\n",
      "Epoch 6/400\n",
      "129/129 - 0s - 103us/step - auc_2: 0.0000e+00 - loss: 0.0000e+00 - val_auc_2: 0.0000e+00 - val_loss: 0.0000e+00\n",
      "Epoch 7/400\n"
     ]
    },
    {
     "name": "stderr",
     "output_type": "stream",
     "text": [
      "2024-03-31 18:58:52.789280: W tensorflow/core/framework/local_rendezvous.cc:404] Local rendezvous is aborting with status: OUT_OF_RANGE: End of sequence\n",
      "\t [[{{node IteratorGetNext}}]]\n",
      "2024-03-31 18:58:52.796071: W tensorflow/core/framework/local_rendezvous.cc:404] Local rendezvous is aborting with status: OUT_OF_RANGE: End of sequence\n",
      "\t [[{{node IteratorGetNext}}]]\n"
     ]
    },
    {
     "name": "stdout",
     "output_type": "stream",
     "text": [
      "129/129 - 34s - 265ms/step - auc_2: 0.9494 - loss: 0.2528 - val_auc_2: 0.9637 - val_loss: 0.2393\n",
      "Epoch 8/400\n",
      "129/129 - 0s - 184us/step - auc_2: 0.0000e+00 - loss: 0.0000e+00 - val_auc_2: 0.0000e+00 - val_loss: 0.0000e+00\n",
      "Epoch 9/400\n"
     ]
    },
    {
     "name": "stderr",
     "output_type": "stream",
     "text": [
      "2024-03-31 18:59:26.997442: W tensorflow/core/framework/local_rendezvous.cc:404] Local rendezvous is aborting with status: OUT_OF_RANGE: End of sequence\n",
      "\t [[{{node IteratorGetNext}}]]\n",
      "2024-03-31 18:59:27.008302: W tensorflow/core/framework/local_rendezvous.cc:404] Local rendezvous is aborting with status: OUT_OF_RANGE: End of sequence\n",
      "\t [[{{node IteratorGetNext}}]]\n"
     ]
    },
    {
     "name": "stdout",
     "output_type": "stream",
     "text": [
      "129/129 - 33s - 254ms/step - auc_2: 0.9567 - loss: 0.2316 - val_auc_2: 0.9723 - val_loss: 0.2333\n",
      "Epoch 10/400\n",
      "129/129 - 0s - 120us/step - auc_2: 0.0000e+00 - loss: 0.0000e+00 - val_auc_2: 0.0000e+00 - val_loss: 0.0000e+00\n",
      "Epoch 11/400\n"
     ]
    },
    {
     "name": "stderr",
     "output_type": "stream",
     "text": [
      "2024-03-31 18:59:59.826248: W tensorflow/core/framework/local_rendezvous.cc:404] Local rendezvous is aborting with status: OUT_OF_RANGE: End of sequence\n",
      "\t [[{{node IteratorGetNext}}]]\n",
      "2024-03-31 18:59:59.835203: W tensorflow/core/framework/local_rendezvous.cc:404] Local rendezvous is aborting with status: OUT_OF_RANGE: End of sequence\n",
      "\t [[{{node IteratorGetNext}}]]\n"
     ]
    },
    {
     "name": "stdout",
     "output_type": "stream",
     "text": [
      "129/129 - 29s - 226ms/step - auc_2: 0.9669 - loss: 0.2074 - val_auc_2: 0.9739 - val_loss: 0.2943\n",
      "Epoch 12/400\n",
      "129/129 - 0s - 63us/step - auc_2: 0.0000e+00 - loss: 0.0000e+00 - val_auc_2: 0.0000e+00 - val_loss: 0.0000e+00\n",
      "Epoch 13/400\n"
     ]
    },
    {
     "name": "stderr",
     "output_type": "stream",
     "text": [
      "2024-03-31 19:00:29.063254: W tensorflow/core/framework/local_rendezvous.cc:404] Local rendezvous is aborting with status: OUT_OF_RANGE: End of sequence\n",
      "\t [[{{node IteratorGetNext}}]]\n",
      "2024-03-31 19:00:29.066171: W tensorflow/core/framework/local_rendezvous.cc:404] Local rendezvous is aborting with status: OUT_OF_RANGE: End of sequence\n",
      "\t [[{{node IteratorGetNext}}]]\n"
     ]
    },
    {
     "name": "stdout",
     "output_type": "stream",
     "text": [
      "129/129 - 30s - 229ms/step - auc_2: 0.9655 - loss: 0.2099 - val_auc_2: 0.9787 - val_loss: 0.1738\n",
      "Epoch 14/400\n",
      "129/129 - 0s - 73us/step - auc_2: 0.0000e+00 - loss: 0.0000e+00 - val_auc_2: 0.0000e+00 - val_loss: 0.0000e+00\n",
      "Epoch 15/400\n"
     ]
    },
    {
     "name": "stderr",
     "output_type": "stream",
     "text": [
      "2024-03-31 19:00:58.608487: W tensorflow/core/framework/local_rendezvous.cc:404] Local rendezvous is aborting with status: OUT_OF_RANGE: End of sequence\n",
      "\t [[{{node IteratorGetNext}}]]\n",
      "2024-03-31 19:00:58.611898: W tensorflow/core/framework/local_rendezvous.cc:404] Local rendezvous is aborting with status: OUT_OF_RANGE: End of sequence\n",
      "\t [[{{node IteratorGetNext}}]]\n"
     ]
    },
    {
     "name": "stdout",
     "output_type": "stream",
     "text": [
      "129/129 - 35s - 269ms/step - auc_2: 0.9682 - loss: 0.1989 - val_auc_2: 0.9790 - val_loss: 0.2049\n",
      "Epoch 16/400\n",
      "129/129 - 0s - 127us/step - auc_2: 0.0000e+00 - loss: 0.0000e+00 - val_auc_2: 0.0000e+00 - val_loss: 0.0000e+00\n",
      "Epoch 17/400\n"
     ]
    },
    {
     "name": "stderr",
     "output_type": "stream",
     "text": [
      "2024-03-31 19:01:33.274662: W tensorflow/core/framework/local_rendezvous.cc:404] Local rendezvous is aborting with status: OUT_OF_RANGE: End of sequence\n",
      "\t [[{{node IteratorGetNext}}]]\n",
      "2024-03-31 19:01:33.284417: W tensorflow/core/framework/local_rendezvous.cc:404] Local rendezvous is aborting with status: OUT_OF_RANGE: End of sequence\n",
      "\t [[{{node IteratorGetNext}}]]\n"
     ]
    },
    {
     "name": "stdout",
     "output_type": "stream",
     "text": [
      "129/129 - 29s - 226ms/step - auc_2: 0.9723 - loss: 0.1891 - val_auc_2: 0.9785 - val_loss: 0.1904\n",
      "Epoch 18/400\n",
      "129/129 - 0s - 66us/step - auc_2: 0.0000e+00 - loss: 0.0000e+00 - val_auc_2: 0.0000e+00 - val_loss: 0.0000e+00\n",
      "Epoch 19/400\n"
     ]
    },
    {
     "name": "stderr",
     "output_type": "stream",
     "text": [
      "2024-03-31 19:02:02.508585: W tensorflow/core/framework/local_rendezvous.cc:404] Local rendezvous is aborting with status: OUT_OF_RANGE: End of sequence\n",
      "\t [[{{node IteratorGetNext}}]]\n",
      "2024-03-31 19:02:02.511405: W tensorflow/core/framework/local_rendezvous.cc:404] Local rendezvous is aborting with status: OUT_OF_RANGE: End of sequence\n",
      "\t [[{{node IteratorGetNext}}]]\n"
     ]
    },
    {
     "name": "stdout",
     "output_type": "stream",
     "text": [
      "129/129 - 30s - 232ms/step - auc_2: 0.9718 - loss: 0.1861 - val_auc_2: 0.9787 - val_loss: 0.1937\n",
      "Epoch 20/400\n",
      "129/129 - 0s - 59us/step - auc_2: 0.0000e+00 - loss: 0.0000e+00 - val_auc_2: 0.0000e+00 - val_loss: 0.0000e+00\n",
      "Epoch 21/400\n"
     ]
    },
    {
     "name": "stderr",
     "output_type": "stream",
     "text": [
      "2024-03-31 19:02:32.425842: W tensorflow/core/framework/local_rendezvous.cc:404] Local rendezvous is aborting with status: OUT_OF_RANGE: End of sequence\n",
      "\t [[{{node IteratorGetNext}}]]\n",
      "2024-03-31 19:02:32.428598: W tensorflow/core/framework/local_rendezvous.cc:404] Local rendezvous is aborting with status: OUT_OF_RANGE: End of sequence\n",
      "\t [[{{node IteratorGetNext}}]]\n"
     ]
    },
    {
     "name": "stdout",
     "output_type": "stream",
     "text": [
      "129/129 - 29s - 224ms/step - auc_2: 0.9786 - loss: 0.1676 - val_auc_2: 0.9823 - val_loss: 0.1659\n",
      "Epoch 22/400\n",
      "129/129 - 0s - 71us/step - auc_2: 0.0000e+00 - loss: 0.0000e+00 - val_auc_2: 0.0000e+00 - val_loss: 0.0000e+00\n",
      "Epoch 23/400\n"
     ]
    },
    {
     "name": "stderr",
     "output_type": "stream",
     "text": [
      "2024-03-31 19:03:01.281964: W tensorflow/core/framework/local_rendezvous.cc:404] Local rendezvous is aborting with status: OUT_OF_RANGE: End of sequence\n",
      "\t [[{{node IteratorGetNext}}]]\n",
      "2024-03-31 19:03:01.285263: W tensorflow/core/framework/local_rendezvous.cc:404] Local rendezvous is aborting with status: OUT_OF_RANGE: End of sequence\n",
      "\t [[{{node IteratorGetNext}}]]\n"
     ]
    },
    {
     "name": "stdout",
     "output_type": "stream",
     "text": [
      "129/129 - 31s - 239ms/step - auc_2: 0.9749 - loss: 0.1791 - val_auc_2: 0.9782 - val_loss: 0.1913\n",
      "Epoch 24/400\n",
      "129/129 - 0s - 63us/step - auc_2: 0.0000e+00 - loss: 0.0000e+00 - val_auc_2: 0.0000e+00 - val_loss: 0.0000e+00\n",
      "Epoch 25/400\n"
     ]
    },
    {
     "name": "stderr",
     "output_type": "stream",
     "text": [
      "2024-03-31 19:03:32.095884: W tensorflow/core/framework/local_rendezvous.cc:404] Local rendezvous is aborting with status: OUT_OF_RANGE: End of sequence\n",
      "\t [[{{node IteratorGetNext}}]]\n",
      "2024-03-31 19:03:32.098606: W tensorflow/core/framework/local_rendezvous.cc:404] Local rendezvous is aborting with status: OUT_OF_RANGE: End of sequence\n",
      "\t [[{{node IteratorGetNext}}]]\n"
     ]
    },
    {
     "name": "stdout",
     "output_type": "stream",
     "text": [
      "129/129 - 32s - 248ms/step - auc_2: 0.9770 - loss: 0.1684 - val_auc_2: 0.9757 - val_loss: 0.1934\n",
      "Epoch 26/400\n",
      "129/129 - 0s - 66us/step - auc_2: 0.0000e+00 - loss: 0.0000e+00 - val_auc_2: 0.0000e+00 - val_loss: 0.0000e+00\n",
      "Epoch 27/400\n"
     ]
    },
    {
     "name": "stderr",
     "output_type": "stream",
     "text": [
      "2024-03-31 19:04:04.034965: W tensorflow/core/framework/local_rendezvous.cc:404] Local rendezvous is aborting with status: OUT_OF_RANGE: End of sequence\n",
      "\t [[{{node IteratorGetNext}}]]\n",
      "2024-03-31 19:04:04.037981: W tensorflow/core/framework/local_rendezvous.cc:404] Local rendezvous is aborting with status: OUT_OF_RANGE: End of sequence\n",
      "\t [[{{node IteratorGetNext}}]]\n"
     ]
    },
    {
     "name": "stdout",
     "output_type": "stream",
     "text": [
      "129/129 - 33s - 259ms/step - auc_2: 0.9800 - loss: 0.1563 - val_auc_2: 0.9772 - val_loss: 0.1852\n",
      "Epoch 28/400\n",
      "129/129 - 0s - 72us/step - auc_2: 0.0000e+00 - loss: 0.0000e+00 - val_auc_2: 0.0000e+00 - val_loss: 0.0000e+00\n",
      "Epoch 29/400\n"
     ]
    },
    {
     "name": "stderr",
     "output_type": "stream",
     "text": [
      "2024-03-31 19:04:37.393785: W tensorflow/core/framework/local_rendezvous.cc:404] Local rendezvous is aborting with status: OUT_OF_RANGE: End of sequence\n",
      "\t [[{{node IteratorGetNext}}]]\n",
      "2024-03-31 19:04:37.396695: W tensorflow/core/framework/local_rendezvous.cc:404] Local rendezvous is aborting with status: OUT_OF_RANGE: End of sequence\n",
      "\t [[{{node IteratorGetNext}}]]\n"
     ]
    },
    {
     "name": "stdout",
     "output_type": "stream",
     "text": [
      "129/129 - 31s - 240ms/step - auc_2: 0.9800 - loss: 0.1591 - val_auc_2: 0.9832 - val_loss: 0.1975\n",
      "Epoch 30/400\n",
      "129/129 - 0s - 63us/step - auc_2: 0.0000e+00 - loss: 0.0000e+00 - val_auc_2: 0.0000e+00 - val_loss: 0.0000e+00\n",
      "Epoch 31/400\n"
     ]
    },
    {
     "name": "stderr",
     "output_type": "stream",
     "text": [
      "2024-03-31 19:05:08.335737: W tensorflow/core/framework/local_rendezvous.cc:404] Local rendezvous is aborting with status: OUT_OF_RANGE: End of sequence\n",
      "\t [[{{node IteratorGetNext}}]]\n",
      "2024-03-31 19:05:08.338686: W tensorflow/core/framework/local_rendezvous.cc:404] Local rendezvous is aborting with status: OUT_OF_RANGE: End of sequence\n",
      "\t [[{{node IteratorGetNext}}]]\n"
     ]
    },
    {
     "name": "stdout",
     "output_type": "stream",
     "text": [
      "129/129 - 31s - 242ms/step - auc_2: 0.9786 - loss: 0.1602 - val_auc_2: 0.9857 - val_loss: 0.1769\n",
      "Epoch 32/400\n",
      "129/129 - 0s - 55us/step - auc_2: 0.0000e+00 - loss: 0.0000e+00 - val_auc_2: 0.0000e+00 - val_loss: 0.0000e+00\n",
      "Epoch 33/400\n"
     ]
    },
    {
     "name": "stderr",
     "output_type": "stream",
     "text": [
      "2024-03-31 19:05:39.528432: W tensorflow/core/framework/local_rendezvous.cc:404] Local rendezvous is aborting with status: OUT_OF_RANGE: End of sequence\n",
      "\t [[{{node IteratorGetNext}}]]\n",
      "2024-03-31 19:05:39.531110: W tensorflow/core/framework/local_rendezvous.cc:404] Local rendezvous is aborting with status: OUT_OF_RANGE: End of sequence\n",
      "\t [[{{node IteratorGetNext}}]]\n"
     ]
    },
    {
     "name": "stdout",
     "output_type": "stream",
     "text": [
      "129/129 - 32s - 245ms/step - auc_2: 0.9821 - loss: 0.1494 - val_auc_2: 0.9806 - val_loss: 0.2901\n",
      "Epoch 34/400\n",
      "129/129 - 0s - 67us/step - auc_2: 0.0000e+00 - loss: 0.0000e+00 - val_auc_2: 0.0000e+00 - val_loss: 0.0000e+00\n",
      "Epoch 35/400\n"
     ]
    },
    {
     "name": "stderr",
     "output_type": "stream",
     "text": [
      "2024-03-31 19:06:11.152600: W tensorflow/core/framework/local_rendezvous.cc:404] Local rendezvous is aborting with status: OUT_OF_RANGE: End of sequence\n",
      "\t [[{{node IteratorGetNext}}]]\n",
      "2024-03-31 19:06:11.155421: W tensorflow/core/framework/local_rendezvous.cc:404] Local rendezvous is aborting with status: OUT_OF_RANGE: End of sequence\n",
      "\t [[{{node IteratorGetNext}}]]\n"
     ]
    },
    {
     "name": "stdout",
     "output_type": "stream",
     "text": [
      "129/129 - 30s - 229ms/step - auc_2: 0.9793 - loss: 0.1592 - val_auc_2: 0.9846 - val_loss: 0.1998\n",
      "Epoch 36/400\n",
      "129/129 - 0s - 63us/step - auc_2: 0.0000e+00 - loss: 0.0000e+00 - val_auc_2: 0.0000e+00 - val_loss: 0.0000e+00\n",
      "Epoch 37/400\n"
     ]
    },
    {
     "name": "stderr",
     "output_type": "stream",
     "text": [
      "2024-03-31 19:06:40.724845: W tensorflow/core/framework/local_rendezvous.cc:404] Local rendezvous is aborting with status: OUT_OF_RANGE: End of sequence\n",
      "\t [[{{node IteratorGetNext}}]]\n",
      "2024-03-31 19:06:40.727690: W tensorflow/core/framework/local_rendezvous.cc:404] Local rendezvous is aborting with status: OUT_OF_RANGE: End of sequence\n",
      "\t [[{{node IteratorGetNext}}]]\n"
     ]
    },
    {
     "name": "stdout",
     "output_type": "stream",
     "text": [
      "129/129 - 29s - 222ms/step - auc_2: 0.9804 - loss: 0.1570 - val_auc_2: 0.9878 - val_loss: 0.1300\n",
      "Epoch 38/400\n",
      "129/129 - 0s - 64us/step - auc_2: 0.0000e+00 - loss: 0.0000e+00 - val_auc_2: 0.0000e+00 - val_loss: 0.0000e+00\n",
      "Epoch 39/400\n"
     ]
    },
    {
     "name": "stderr",
     "output_type": "stream",
     "text": [
      "2024-03-31 19:07:09.353236: W tensorflow/core/framework/local_rendezvous.cc:404] Local rendezvous is aborting with status: OUT_OF_RANGE: End of sequence\n",
      "\t [[{{node IteratorGetNext}}]]\n",
      "2024-03-31 19:07:09.356134: W tensorflow/core/framework/local_rendezvous.cc:404] Local rendezvous is aborting with status: OUT_OF_RANGE: End of sequence\n",
      "\t [[{{node IteratorGetNext}}]]\n"
     ]
    },
    {
     "name": "stdout",
     "output_type": "stream",
     "text": [
      "129/129 - 30s - 233ms/step - auc_2: 0.9835 - loss: 0.1421 - val_auc_2: 0.9833 - val_loss: 0.1443\n",
      "Epoch 40/400\n",
      "129/129 - 0s - 65us/step - auc_2: 0.0000e+00 - loss: 0.0000e+00 - val_auc_2: 0.0000e+00 - val_loss: 0.0000e+00\n",
      "Epoch 41/400\n"
     ]
    },
    {
     "name": "stderr",
     "output_type": "stream",
     "text": [
      "2024-03-31 19:07:39.401446: W tensorflow/core/framework/local_rendezvous.cc:404] Local rendezvous is aborting with status: OUT_OF_RANGE: End of sequence\n",
      "\t [[{{node IteratorGetNext}}]]\n",
      "2024-03-31 19:07:39.405113: W tensorflow/core/framework/local_rendezvous.cc:404] Local rendezvous is aborting with status: OUT_OF_RANGE: End of sequence\n",
      "\t [[{{node IteratorGetNext}}]]\n"
     ]
    },
    {
     "name": "stdout",
     "output_type": "stream",
     "text": [
      "129/129 - 30s - 235ms/step - auc_2: 0.9837 - loss: 0.1427 - val_auc_2: 0.9806 - val_loss: 0.1518\n",
      "Epoch 42/400\n",
      "129/129 - 0s - 54us/step - auc_2: 0.0000e+00 - loss: 0.0000e+00 - val_auc_2: 0.0000e+00 - val_loss: 0.0000e+00\n",
      "Epoch 43/400\n"
     ]
    },
    {
     "name": "stderr",
     "output_type": "stream",
     "text": [
      "2024-03-31 19:08:09.671600: W tensorflow/core/framework/local_rendezvous.cc:404] Local rendezvous is aborting with status: OUT_OF_RANGE: End of sequence\n",
      "\t [[{{node IteratorGetNext}}]]\n",
      "2024-03-31 19:08:09.674116: W tensorflow/core/framework/local_rendezvous.cc:404] Local rendezvous is aborting with status: OUT_OF_RANGE: End of sequence\n",
      "\t [[{{node IteratorGetNext}}]]\n"
     ]
    },
    {
     "name": "stdout",
     "output_type": "stream",
     "text": [
      "129/129 - 29s - 229ms/step - auc_2: 0.9834 - loss: 0.1461 - val_auc_2: 0.9874 - val_loss: 0.1504\n",
      "Epoch 44/400\n",
      "129/129 - 0s - 57us/step - auc_2: 0.0000e+00 - loss: 0.0000e+00 - val_auc_2: 0.0000e+00 - val_loss: 0.0000e+00\n",
      "Epoch 45/400\n"
     ]
    },
    {
     "name": "stderr",
     "output_type": "stream",
     "text": [
      "2024-03-31 19:08:39.171167: W tensorflow/core/framework/local_rendezvous.cc:404] Local rendezvous is aborting with status: OUT_OF_RANGE: End of sequence\n",
      "\t [[{{node IteratorGetNext}}]]\n",
      "2024-03-31 19:08:39.173857: W tensorflow/core/framework/local_rendezvous.cc:404] Local rendezvous is aborting with status: OUT_OF_RANGE: End of sequence\n",
      "\t [[{{node IteratorGetNext}}]]\n"
     ]
    },
    {
     "name": "stdout",
     "output_type": "stream",
     "text": [
      "129/129 - 31s - 238ms/step - auc_2: 0.9831 - loss: 0.1446 - val_auc_2: 0.9908 - val_loss: 0.1564\n",
      "Epoch 46/400\n",
      "129/129 - 0s - 54us/step - auc_2: 0.0000e+00 - loss: 0.0000e+00 - val_auc_2: 0.0000e+00 - val_loss: 0.0000e+00\n",
      "Epoch 47/400\n"
     ]
    },
    {
     "name": "stderr",
     "output_type": "stream",
     "text": [
      "2024-03-31 19:09:09.823287: W tensorflow/core/framework/local_rendezvous.cc:404] Local rendezvous is aborting with status: OUT_OF_RANGE: End of sequence\n",
      "\t [[{{node IteratorGetNext}}]]\n",
      "2024-03-31 19:09:09.825738: W tensorflow/core/framework/local_rendezvous.cc:404] Local rendezvous is aborting with status: OUT_OF_RANGE: End of sequence\n",
      "\t [[{{node IteratorGetNext}}]]\n"
     ]
    },
    {
     "name": "stdout",
     "output_type": "stream",
     "text": [
      "129/129 - 30s - 231ms/step - auc_2: 0.9860 - loss: 0.1311 - val_auc_2: 0.9879 - val_loss: 0.1194\n",
      "Epoch 48/400\n",
      "129/129 - 0s - 58us/step - auc_2: 0.0000e+00 - loss: 0.0000e+00 - val_auc_2: 0.0000e+00 - val_loss: 0.0000e+00\n",
      "Epoch 49/400\n"
     ]
    },
    {
     "name": "stderr",
     "output_type": "stream",
     "text": [
      "2024-03-31 19:09:39.634945: W tensorflow/core/framework/local_rendezvous.cc:404] Local rendezvous is aborting with status: OUT_OF_RANGE: End of sequence\n",
      "\t [[{{node IteratorGetNext}}]]\n",
      "2024-03-31 19:09:39.637745: W tensorflow/core/framework/local_rendezvous.cc:404] Local rendezvous is aborting with status: OUT_OF_RANGE: End of sequence\n",
      "\t [[{{node IteratorGetNext}}]]\n"
     ]
    },
    {
     "name": "stdout",
     "output_type": "stream",
     "text": [
      "129/129 - 30s - 231ms/step - auc_2: 0.9840 - loss: 0.1377 - val_auc_2: 0.9859 - val_loss: 0.1319\n",
      "Epoch 50/400\n",
      "129/129 - 0s - 58us/step - auc_2: 0.0000e+00 - loss: 0.0000e+00 - val_auc_2: 0.0000e+00 - val_loss: 0.0000e+00\n",
      "Epoch 51/400\n"
     ]
    },
    {
     "name": "stderr",
     "output_type": "stream",
     "text": [
      "2024-03-31 19:10:09.479269: W tensorflow/core/framework/local_rendezvous.cc:404] Local rendezvous is aborting with status: OUT_OF_RANGE: End of sequence\n",
      "\t [[{{node IteratorGetNext}}]]\n",
      "2024-03-31 19:10:09.481824: W tensorflow/core/framework/local_rendezvous.cc:404] Local rendezvous is aborting with status: OUT_OF_RANGE: End of sequence\n",
      "\t [[{{node IteratorGetNext}}]]\n"
     ]
    },
    {
     "name": "stdout",
     "output_type": "stream",
     "text": [
      "129/129 - 29s - 228ms/step - auc_2: 0.9826 - loss: 0.1491 - val_auc_2: 0.9838 - val_loss: 0.1545\n",
      "Epoch 52/400\n",
      "129/129 - 0s - 62us/step - auc_2: 0.0000e+00 - loss: 0.0000e+00 - val_auc_2: 0.0000e+00 - val_loss: 0.0000e+00\n",
      "Epoch 53/400\n"
     ]
    },
    {
     "name": "stderr",
     "output_type": "stream",
     "text": [
      "2024-03-31 19:10:38.954432: W tensorflow/core/framework/local_rendezvous.cc:404] Local rendezvous is aborting with status: OUT_OF_RANGE: End of sequence\n",
      "\t [[{{node IteratorGetNext}}]]\n",
      "2024-03-31 19:10:38.957093: W tensorflow/core/framework/local_rendezvous.cc:404] Local rendezvous is aborting with status: OUT_OF_RANGE: End of sequence\n",
      "\t [[{{node IteratorGetNext}}]]\n"
     ]
    },
    {
     "name": "stdout",
     "output_type": "stream",
     "text": [
      "129/129 - 28s - 216ms/step - auc_2: 0.9824 - loss: 0.1512 - val_auc_2: 0.9843 - val_loss: 0.1350\n",
      "Epoch 54/400\n",
      "129/129 - 0s - 59us/step - auc_2: 0.0000e+00 - loss: 0.0000e+00 - val_auc_2: 0.0000e+00 - val_loss: 0.0000e+00\n",
      "Epoch 55/400\n"
     ]
    },
    {
     "name": "stderr",
     "output_type": "stream",
     "text": [
      "2024-03-31 19:11:06.877657: W tensorflow/core/framework/local_rendezvous.cc:404] Local rendezvous is aborting with status: OUT_OF_RANGE: End of sequence\n",
      "\t [[{{node IteratorGetNext}}]]\n",
      "2024-03-31 19:11:06.880289: W tensorflow/core/framework/local_rendezvous.cc:404] Local rendezvous is aborting with status: OUT_OF_RANGE: End of sequence\n",
      "\t [[{{node IteratorGetNext}}]]\n"
     ]
    },
    {
     "name": "stdout",
     "output_type": "stream",
     "text": [
      "129/129 - 28s - 217ms/step - auc_2: 0.9863 - loss: 0.1284 - val_auc_2: 0.9870 - val_loss: 0.1280\n",
      "Epoch 56/400\n",
      "129/129 - 0s - 53us/step - auc_2: 0.0000e+00 - loss: 0.0000e+00 - val_auc_2: 0.0000e+00 - val_loss: 0.0000e+00\n",
      "Epoch 57/400\n"
     ]
    },
    {
     "name": "stderr",
     "output_type": "stream",
     "text": [
      "2024-03-31 19:11:34.822139: W tensorflow/core/framework/local_rendezvous.cc:404] Local rendezvous is aborting with status: OUT_OF_RANGE: End of sequence\n",
      "\t [[{{node IteratorGetNext}}]]\n",
      "2024-03-31 19:11:34.824608: W tensorflow/core/framework/local_rendezvous.cc:404] Local rendezvous is aborting with status: OUT_OF_RANGE: End of sequence\n",
      "\t [[{{node IteratorGetNext}}]]\n"
     ]
    },
    {
     "name": "stdout",
     "output_type": "stream",
     "text": [
      "129/129 - 28s - 216ms/step - auc_2: 0.9873 - loss: 0.1242 - val_auc_2: 0.9891 - val_loss: 0.1661\n",
      "Epoch 58/400\n",
      "129/129 - 0s - 53us/step - auc_2: 0.0000e+00 - loss: 0.0000e+00 - val_auc_2: 0.0000e+00 - val_loss: 0.0000e+00\n",
      "Epoch 59/400\n"
     ]
    },
    {
     "name": "stderr",
     "output_type": "stream",
     "text": [
      "2024-03-31 19:12:02.644061: W tensorflow/core/framework/local_rendezvous.cc:404] Local rendezvous is aborting with status: OUT_OF_RANGE: End of sequence\n",
      "\t [[{{node IteratorGetNext}}]]\n",
      "2024-03-31 19:12:02.646589: W tensorflow/core/framework/local_rendezvous.cc:404] Local rendezvous is aborting with status: OUT_OF_RANGE: End of sequence\n",
      "\t [[{{node IteratorGetNext}}]]\n"
     ]
    },
    {
     "name": "stdout",
     "output_type": "stream",
     "text": [
      "129/129 - 28s - 215ms/step - auc_2: 0.9865 - loss: 0.1336 - val_auc_2: 0.9904 - val_loss: 0.1137\n",
      "Epoch 60/400\n",
      "129/129 - 0s - 54us/step - auc_2: 0.0000e+00 - loss: 0.0000e+00 - val_auc_2: 0.0000e+00 - val_loss: 0.0000e+00\n",
      "Epoch 61/400\n"
     ]
    },
    {
     "name": "stderr",
     "output_type": "stream",
     "text": [
      "2024-03-31 19:12:30.420338: W tensorflow/core/framework/local_rendezvous.cc:404] Local rendezvous is aborting with status: OUT_OF_RANGE: End of sequence\n",
      "\t [[{{node IteratorGetNext}}]]\n",
      "2024-03-31 19:12:30.422904: W tensorflow/core/framework/local_rendezvous.cc:404] Local rendezvous is aborting with status: OUT_OF_RANGE: End of sequence\n",
      "\t [[{{node IteratorGetNext}}]]\n"
     ]
    },
    {
     "name": "stdout",
     "output_type": "stream",
     "text": [
      "129/129 - 28s - 216ms/step - auc_2: 0.9873 - loss: 0.1273 - val_auc_2: 0.9876 - val_loss: 0.1316\n",
      "Epoch 62/400\n",
      "129/129 - 0s - 54us/step - auc_2: 0.0000e+00 - loss: 0.0000e+00 - val_auc_2: 0.0000e+00 - val_loss: 0.0000e+00\n",
      "Epoch 63/400\n"
     ]
    },
    {
     "name": "stderr",
     "output_type": "stream",
     "text": [
      "2024-03-31 19:12:58.321502: W tensorflow/core/framework/local_rendezvous.cc:404] Local rendezvous is aborting with status: OUT_OF_RANGE: End of sequence\n",
      "\t [[{{node IteratorGetNext}}]]\n",
      "2024-03-31 19:12:58.323932: W tensorflow/core/framework/local_rendezvous.cc:404] Local rendezvous is aborting with status: OUT_OF_RANGE: End of sequence\n",
      "\t [[{{node IteratorGetNext}}]]\n"
     ]
    },
    {
     "name": "stdout",
     "output_type": "stream",
     "text": [
      "129/129 - 28s - 216ms/step - auc_2: 0.9869 - loss: 0.1253 - val_auc_2: 0.9905 - val_loss: 0.1223\n",
      "Epoch 64/400\n",
      "129/129 - 0s - 53us/step - auc_2: 0.0000e+00 - loss: 0.0000e+00 - val_auc_2: 0.0000e+00 - val_loss: 0.0000e+00\n",
      "Epoch 65/400\n"
     ]
    },
    {
     "name": "stderr",
     "output_type": "stream",
     "text": [
      "2024-03-31 19:13:26.208249: W tensorflow/core/framework/local_rendezvous.cc:404] Local rendezvous is aborting with status: OUT_OF_RANGE: End of sequence\n",
      "\t [[{{node IteratorGetNext}}]]\n",
      "2024-03-31 19:13:26.210667: W tensorflow/core/framework/local_rendezvous.cc:404] Local rendezvous is aborting with status: OUT_OF_RANGE: End of sequence\n",
      "\t [[{{node IteratorGetNext}}]]\n"
     ]
    },
    {
     "name": "stdout",
     "output_type": "stream",
     "text": [
      "129/129 - 28s - 217ms/step - auc_2: 0.9862 - loss: 0.1257 - val_auc_2: 0.9895 - val_loss: 0.1913\n",
      "Epoch 66/400\n",
      "129/129 - 0s - 55us/step - auc_2: 0.0000e+00 - loss: 0.0000e+00 - val_auc_2: 0.0000e+00 - val_loss: 0.0000e+00\n",
      "Epoch 67/400\n"
     ]
    },
    {
     "name": "stderr",
     "output_type": "stream",
     "text": [
      "2024-03-31 19:13:54.224988: W tensorflow/core/framework/local_rendezvous.cc:404] Local rendezvous is aborting with status: OUT_OF_RANGE: End of sequence\n",
      "\t [[{{node IteratorGetNext}}]]\n",
      "2024-03-31 19:13:54.227573: W tensorflow/core/framework/local_rendezvous.cc:404] Local rendezvous is aborting with status: OUT_OF_RANGE: End of sequence\n",
      "\t [[{{node IteratorGetNext}}]]\n"
     ]
    },
    {
     "name": "stdout",
     "output_type": "stream",
     "text": [
      "129/129 - 28s - 215ms/step - auc_2: 0.9866 - loss: 0.1269 - val_auc_2: 0.9890 - val_loss: 0.1189\n",
      "Epoch 68/400\n",
      "129/129 - 0s - 55us/step - auc_2: 0.0000e+00 - loss: 0.0000e+00 - val_auc_2: 0.0000e+00 - val_loss: 0.0000e+00\n",
      "Epoch 69/400\n"
     ]
    },
    {
     "name": "stderr",
     "output_type": "stream",
     "text": [
      "2024-03-31 19:14:21.914360: W tensorflow/core/framework/local_rendezvous.cc:404] Local rendezvous is aborting with status: OUT_OF_RANGE: End of sequence\n",
      "\t [[{{node IteratorGetNext}}]]\n",
      "2024-03-31 19:14:21.916905: W tensorflow/core/framework/local_rendezvous.cc:404] Local rendezvous is aborting with status: OUT_OF_RANGE: End of sequence\n",
      "\t [[{{node IteratorGetNext}}]]\n"
     ]
    },
    {
     "name": "stdout",
     "output_type": "stream",
     "text": [
      "129/129 - 28s - 217ms/step - auc_2: 0.9902 - loss: 0.1132 - val_auc_2: 0.9879 - val_loss: 0.1263\n",
      "Epoch 70/400\n",
      "129/129 - 0s - 63us/step - auc_2: 0.0000e+00 - loss: 0.0000e+00 - val_auc_2: 0.0000e+00 - val_loss: 0.0000e+00\n",
      "Epoch 71/400\n"
     ]
    },
    {
     "name": "stderr",
     "output_type": "stream",
     "text": [
      "2024-03-31 19:14:49.882774: W tensorflow/core/framework/local_rendezvous.cc:404] Local rendezvous is aborting with status: OUT_OF_RANGE: End of sequence\n",
      "\t [[{{node IteratorGetNext}}]]\n",
      "2024-03-31 19:14:49.885902: W tensorflow/core/framework/local_rendezvous.cc:404] Local rendezvous is aborting with status: OUT_OF_RANGE: End of sequence\n",
      "\t [[{{node IteratorGetNext}}]]\n"
     ]
    },
    {
     "name": "stdout",
     "output_type": "stream",
     "text": [
      "129/129 - 28s - 216ms/step - auc_2: 0.9884 - loss: 0.1181 - val_auc_2: 0.9863 - val_loss: 0.1259\n",
      "Epoch 72/400\n",
      "129/129 - 0s - 52us/step - auc_2: 0.0000e+00 - loss: 0.0000e+00 - val_auc_2: 0.0000e+00 - val_loss: 0.0000e+00\n",
      "Epoch 73/400\n"
     ]
    },
    {
     "name": "stderr",
     "output_type": "stream",
     "text": [
      "2024-03-31 19:15:17.749691: W tensorflow/core/framework/local_rendezvous.cc:404] Local rendezvous is aborting with status: OUT_OF_RANGE: End of sequence\n",
      "\t [[{{node IteratorGetNext}}]]\n",
      "2024-03-31 19:15:17.752097: W tensorflow/core/framework/local_rendezvous.cc:404] Local rendezvous is aborting with status: OUT_OF_RANGE: End of sequence\n",
      "\t [[{{node IteratorGetNext}}]]\n"
     ]
    },
    {
     "name": "stdout",
     "output_type": "stream",
     "text": [
      "129/129 - 28s - 219ms/step - auc_2: 0.9879 - loss: 0.1212 - val_auc_2: 0.9880 - val_loss: 0.1191\n",
      "Epoch 74/400\n",
      "129/129 - 0s - 56us/step - auc_2: 0.0000e+00 - loss: 0.0000e+00 - val_auc_2: 0.0000e+00 - val_loss: 0.0000e+00\n",
      "Epoch 75/400\n"
     ]
    },
    {
     "name": "stderr",
     "output_type": "stream",
     "text": [
      "2024-03-31 19:15:45.970410: W tensorflow/core/framework/local_rendezvous.cc:404] Local rendezvous is aborting with status: OUT_OF_RANGE: End of sequence\n",
      "\t [[{{node IteratorGetNext}}]]\n",
      "2024-03-31 19:15:45.972968: W tensorflow/core/framework/local_rendezvous.cc:404] Local rendezvous is aborting with status: OUT_OF_RANGE: End of sequence\n",
      "\t [[{{node IteratorGetNext}}]]\n"
     ]
    },
    {
     "name": "stdout",
     "output_type": "stream",
     "text": [
      "129/129 - 28s - 217ms/step - auc_2: 0.9879 - loss: 0.1173 - val_auc_2: 0.9897 - val_loss: 0.1210\n",
      "Epoch 76/400\n",
      "129/129 - 0s - 53us/step - auc_2: 0.0000e+00 - loss: 0.0000e+00 - val_auc_2: 0.0000e+00 - val_loss: 0.0000e+00\n",
      "Epoch 77/400\n"
     ]
    },
    {
     "name": "stderr",
     "output_type": "stream",
     "text": [
      "2024-03-31 19:16:13.997890: W tensorflow/core/framework/local_rendezvous.cc:404] Local rendezvous is aborting with status: OUT_OF_RANGE: End of sequence\n",
      "\t [[{{node IteratorGetNext}}]]\n",
      "2024-03-31 19:16:14.000287: W tensorflow/core/framework/local_rendezvous.cc:404] Local rendezvous is aborting with status: OUT_OF_RANGE: End of sequence\n",
      "\t [[{{node IteratorGetNext}}]]\n"
     ]
    },
    {
     "name": "stdout",
     "output_type": "stream",
     "text": [
      "129/129 - 28s - 220ms/step - auc_2: 0.9867 - loss: 0.1272 - val_auc_2: 0.9869 - val_loss: 0.1314\n",
      "Epoch 78/400\n",
      "129/129 - 0s - 59us/step - auc_2: 0.0000e+00 - loss: 0.0000e+00 - val_auc_2: 0.0000e+00 - val_loss: 0.0000e+00\n",
      "Epoch 79/400\n"
     ]
    },
    {
     "name": "stderr",
     "output_type": "stream",
     "text": [
      "2024-03-31 19:16:42.334199: W tensorflow/core/framework/local_rendezvous.cc:404] Local rendezvous is aborting with status: OUT_OF_RANGE: End of sequence\n",
      "\t [[{{node IteratorGetNext}}]]\n",
      "2024-03-31 19:16:42.336928: W tensorflow/core/framework/local_rendezvous.cc:404] Local rendezvous is aborting with status: OUT_OF_RANGE: End of sequence\n",
      "\t [[{{node IteratorGetNext}}]]\n"
     ]
    },
    {
     "name": "stdout",
     "output_type": "stream",
     "text": [
      "129/129 - 28s - 220ms/step - auc_2: 0.9904 - loss: 0.1098 - val_auc_2: 0.9901 - val_loss: 0.1110\n",
      "Epoch 80/400\n",
      "129/129 - 0s - 54us/step - auc_2: 0.0000e+00 - loss: 0.0000e+00 - val_auc_2: 0.0000e+00 - val_loss: 0.0000e+00\n",
      "Epoch 81/400\n"
     ]
    },
    {
     "name": "stderr",
     "output_type": "stream",
     "text": [
      "2024-03-31 19:17:10.766352: W tensorflow/core/framework/local_rendezvous.cc:404] Local rendezvous is aborting with status: OUT_OF_RANGE: End of sequence\n",
      "\t [[{{node IteratorGetNext}}]]\n",
      "2024-03-31 19:17:10.768920: W tensorflow/core/framework/local_rendezvous.cc:404] Local rendezvous is aborting with status: OUT_OF_RANGE: End of sequence\n",
      "\t [[{{node IteratorGetNext}}]]\n"
     ]
    },
    {
     "name": "stdout",
     "output_type": "stream",
     "text": [
      "129/129 - 29s - 223ms/step - auc_2: 0.9896 - loss: 0.1164 - val_auc_2: 0.9900 - val_loss: 0.1149\n",
      "Epoch 82/400\n",
      "129/129 - 0s - 56us/step - auc_2: 0.0000e+00 - loss: 0.0000e+00 - val_auc_2: 0.0000e+00 - val_loss: 0.0000e+00\n",
      "Epoch 83/400\n"
     ]
    },
    {
     "name": "stderr",
     "output_type": "stream",
     "text": [
      "2024-03-31 19:17:39.539341: W tensorflow/core/framework/local_rendezvous.cc:404] Local rendezvous is aborting with status: OUT_OF_RANGE: End of sequence\n",
      "\t [[{{node IteratorGetNext}}]]\n",
      "2024-03-31 19:17:39.541762: W tensorflow/core/framework/local_rendezvous.cc:404] Local rendezvous is aborting with status: OUT_OF_RANGE: End of sequence\n",
      "\t [[{{node IteratorGetNext}}]]\n"
     ]
    },
    {
     "name": "stdout",
     "output_type": "stream",
     "text": [
      "129/129 - 28s - 220ms/step - auc_2: 0.9898 - loss: 0.1088 - val_auc_2: 0.9871 - val_loss: 0.1273\n",
      "Epoch 84/400\n",
      "129/129 - 0s - 53us/step - auc_2: 0.0000e+00 - loss: 0.0000e+00 - val_auc_2: 0.0000e+00 - val_loss: 0.0000e+00\n",
      "Epoch 85/400\n"
     ]
    },
    {
     "name": "stderr",
     "output_type": "stream",
     "text": [
      "2024-03-31 19:18:07.868687: W tensorflow/core/framework/local_rendezvous.cc:404] Local rendezvous is aborting with status: OUT_OF_RANGE: End of sequence\n",
      "\t [[{{node IteratorGetNext}}]]\n",
      "2024-03-31 19:18:07.871252: W tensorflow/core/framework/local_rendezvous.cc:404] Local rendezvous is aborting with status: OUT_OF_RANGE: End of sequence\n",
      "\t [[{{node IteratorGetNext}}]]\n"
     ]
    },
    {
     "name": "stdout",
     "output_type": "stream",
     "text": [
      "129/129 - 28s - 221ms/step - auc_2: 0.9894 - loss: 0.1137 - val_auc_2: 0.9890 - val_loss: 0.1146\n",
      "Epoch 86/400\n",
      "129/129 - 0s - 57us/step - auc_2: 0.0000e+00 - loss: 0.0000e+00 - val_auc_2: 0.0000e+00 - val_loss: 0.0000e+00\n",
      "Epoch 87/400\n"
     ]
    },
    {
     "name": "stderr",
     "output_type": "stream",
     "text": [
      "2024-03-31 19:18:36.331311: W tensorflow/core/framework/local_rendezvous.cc:404] Local rendezvous is aborting with status: OUT_OF_RANGE: End of sequence\n",
      "\t [[{{node IteratorGetNext}}]]\n",
      "2024-03-31 19:18:36.333924: W tensorflow/core/framework/local_rendezvous.cc:404] Local rendezvous is aborting with status: OUT_OF_RANGE: End of sequence\n",
      "\t [[{{node IteratorGetNext}}]]\n"
     ]
    },
    {
     "name": "stdout",
     "output_type": "stream",
     "text": [
      "129/129 - 28s - 220ms/step - auc_2: 0.9866 - loss: 0.1194 - val_auc_2: 0.9886 - val_loss: 0.1592\n",
      "Epoch 88/400\n",
      "129/129 - 0s - 52us/step - auc_2: 0.0000e+00 - loss: 0.0000e+00 - val_auc_2: 0.0000e+00 - val_loss: 0.0000e+00\n",
      "Epoch 89/400\n"
     ]
    },
    {
     "name": "stderr",
     "output_type": "stream",
     "text": [
      "2024-03-31 19:19:04.729793: W tensorflow/core/framework/local_rendezvous.cc:404] Local rendezvous is aborting with status: OUT_OF_RANGE: End of sequence\n",
      "\t [[{{node IteratorGetNext}}]]\n",
      "2024-03-31 19:19:04.732211: W tensorflow/core/framework/local_rendezvous.cc:404] Local rendezvous is aborting with status: OUT_OF_RANGE: End of sequence\n",
      "\t [[{{node IteratorGetNext}}]]\n"
     ]
    },
    {
     "name": "stdout",
     "output_type": "stream",
     "text": [
      "129/129 - 28s - 220ms/step - auc_2: 0.9916 - loss: 0.1008 - val_auc_2: 0.9876 - val_loss: 0.1161\n",
      "Epoch 90/400\n",
      "129/129 - 0s - 57us/step - auc_2: 0.0000e+00 - loss: 0.0000e+00 - val_auc_2: 0.0000e+00 - val_loss: 0.0000e+00\n",
      "Epoch 91/400\n"
     ]
    },
    {
     "name": "stderr",
     "output_type": "stream",
     "text": [
      "2024-03-31 19:19:33.123428: W tensorflow/core/framework/local_rendezvous.cc:404] Local rendezvous is aborting with status: OUT_OF_RANGE: End of sequence\n",
      "\t [[{{node IteratorGetNext}}]]\n",
      "2024-03-31 19:19:33.126002: W tensorflow/core/framework/local_rendezvous.cc:404] Local rendezvous is aborting with status: OUT_OF_RANGE: End of sequence\n",
      "\t [[{{node IteratorGetNext}}]]\n"
     ]
    },
    {
     "name": "stdout",
     "output_type": "stream",
     "text": [
      "129/129 - 28s - 221ms/step - auc_2: 0.9921 - loss: 0.1011 - val_auc_2: 0.9877 - val_loss: 0.1223\n",
      "Epoch 92/400\n",
      "129/129 - 0s - 52us/step - auc_2: 0.0000e+00 - loss: 0.0000e+00 - val_auc_2: 0.0000e+00 - val_loss: 0.0000e+00\n",
      "Epoch 93/400\n"
     ]
    },
    {
     "name": "stderr",
     "output_type": "stream",
     "text": [
      "2024-03-31 19:20:01.630621: W tensorflow/core/framework/local_rendezvous.cc:404] Local rendezvous is aborting with status: OUT_OF_RANGE: End of sequence\n",
      "\t [[{{node IteratorGetNext}}]]\n",
      "2024-03-31 19:20:01.633040: W tensorflow/core/framework/local_rendezvous.cc:404] Local rendezvous is aborting with status: OUT_OF_RANGE: End of sequence\n",
      "\t [[{{node IteratorGetNext}}]]\n"
     ]
    },
    {
     "name": "stdout",
     "output_type": "stream",
     "text": [
      "129/129 - 28s - 220ms/step - auc_2: 0.9914 - loss: 0.1015 - val_auc_2: 0.9872 - val_loss: 0.1705\n",
      "Epoch 94/400\n",
      "129/129 - 0s - 55us/step - auc_2: 0.0000e+00 - loss: 0.0000e+00 - val_auc_2: 0.0000e+00 - val_loss: 0.0000e+00\n",
      "Epoch 95/400\n"
     ]
    },
    {
     "name": "stderr",
     "output_type": "stream",
     "text": [
      "2024-03-31 19:20:30.066648: W tensorflow/core/framework/local_rendezvous.cc:404] Local rendezvous is aborting with status: OUT_OF_RANGE: End of sequence\n",
      "\t [[{{node IteratorGetNext}}]]\n",
      "2024-03-31 19:20:30.069044: W tensorflow/core/framework/local_rendezvous.cc:404] Local rendezvous is aborting with status: OUT_OF_RANGE: End of sequence\n",
      "\t [[{{node IteratorGetNext}}]]\n"
     ]
    },
    {
     "name": "stdout",
     "output_type": "stream",
     "text": [
      "129/129 - 29s - 221ms/step - auc_2: 0.9924 - loss: 0.0990 - val_auc_2: 0.9881 - val_loss: 0.1167\n",
      "Epoch 96/400\n",
      "129/129 - 0s - 53us/step - auc_2: 0.0000e+00 - loss: 0.0000e+00 - val_auc_2: 0.0000e+00 - val_loss: 0.0000e+00\n",
      "Epoch 97/400\n"
     ]
    },
    {
     "name": "stderr",
     "output_type": "stream",
     "text": [
      "2024-03-31 19:20:58.646955: W tensorflow/core/framework/local_rendezvous.cc:404] Local rendezvous is aborting with status: OUT_OF_RANGE: End of sequence\n",
      "\t [[{{node IteratorGetNext}}]]\n",
      "2024-03-31 19:20:58.649371: W tensorflow/core/framework/local_rendezvous.cc:404] Local rendezvous is aborting with status: OUT_OF_RANGE: End of sequence\n",
      "\t [[{{node IteratorGetNext}}]]\n"
     ]
    },
    {
     "name": "stdout",
     "output_type": "stream",
     "text": [
      "129/129 - 28s - 220ms/step - auc_2: 0.9901 - loss: 0.1080 - val_auc_2: 0.9843 - val_loss: 0.1313\n",
      "Epoch 98/400\n",
      "129/129 - 0s - 56us/step - auc_2: 0.0000e+00 - loss: 0.0000e+00 - val_auc_2: 0.0000e+00 - val_loss: 0.0000e+00\n",
      "Epoch 99/400\n"
     ]
    },
    {
     "name": "stderr",
     "output_type": "stream",
     "text": [
      "2024-03-31 19:21:26.995982: W tensorflow/core/framework/local_rendezvous.cc:404] Local rendezvous is aborting with status: OUT_OF_RANGE: End of sequence\n",
      "\t [[{{node IteratorGetNext}}]]\n",
      "2024-03-31 19:21:26.998453: W tensorflow/core/framework/local_rendezvous.cc:404] Local rendezvous is aborting with status: OUT_OF_RANGE: End of sequence\n",
      "\t [[{{node IteratorGetNext}}]]\n"
     ]
    },
    {
     "name": "stdout",
     "output_type": "stream",
     "text": [
      "129/129 - 28s - 221ms/step - auc_2: 0.9909 - loss: 0.1043 - val_auc_2: 0.9885 - val_loss: 0.1304\n",
      "Epoch 100/400\n",
      "129/129 - 0s - 53us/step - auc_2: 0.0000e+00 - loss: 0.0000e+00 - val_auc_2: 0.0000e+00 - val_loss: 0.0000e+00\n",
      "Epoch 101/400\n"
     ]
    },
    {
     "name": "stderr",
     "output_type": "stream",
     "text": [
      "2024-03-31 19:21:55.454960: W tensorflow/core/framework/local_rendezvous.cc:404] Local rendezvous is aborting with status: OUT_OF_RANGE: End of sequence\n",
      "\t [[{{node IteratorGetNext}}]]\n",
      "2024-03-31 19:21:55.457432: W tensorflow/core/framework/local_rendezvous.cc:404] Local rendezvous is aborting with status: OUT_OF_RANGE: End of sequence\n",
      "\t [[{{node IteratorGetNext}}]]\n"
     ]
    },
    {
     "name": "stdout",
     "output_type": "stream",
     "text": [
      "129/129 - 28s - 219ms/step - auc_2: 0.9902 - loss: 0.1035 - val_auc_2: 0.9872 - val_loss: 0.1322\n",
      "Epoch 102/400\n",
      "129/129 - 0s - 54us/step - auc_2: 0.0000e+00 - loss: 0.0000e+00 - val_auc_2: 0.0000e+00 - val_loss: 0.0000e+00\n",
      "Epoch 103/400\n"
     ]
    },
    {
     "name": "stderr",
     "output_type": "stream",
     "text": [
      "2024-03-31 19:22:23.725780: W tensorflow/core/framework/local_rendezvous.cc:404] Local rendezvous is aborting with status: OUT_OF_RANGE: End of sequence\n",
      "\t [[{{node IteratorGetNext}}]]\n",
      "2024-03-31 19:22:23.728396: W tensorflow/core/framework/local_rendezvous.cc:404] Local rendezvous is aborting with status: OUT_OF_RANGE: End of sequence\n",
      "\t [[{{node IteratorGetNext}}]]\n"
     ]
    },
    {
     "name": "stdout",
     "output_type": "stream",
     "text": [
      "129/129 - 28s - 221ms/step - auc_2: 0.9912 - loss: 0.1029 - val_auc_2: 0.9878 - val_loss: 0.1400\n",
      "Epoch 104/400\n",
      "129/129 - 0s - 52us/step - auc_2: 0.0000e+00 - loss: 0.0000e+00 - val_auc_2: 0.0000e+00 - val_loss: 0.0000e+00\n",
      "Epoch 105/400\n"
     ]
    },
    {
     "name": "stderr",
     "output_type": "stream",
     "text": [
      "2024-03-31 19:22:52.222903: W tensorflow/core/framework/local_rendezvous.cc:404] Local rendezvous is aborting with status: OUT_OF_RANGE: End of sequence\n",
      "\t [[{{node IteratorGetNext}}]]\n",
      "2024-03-31 19:22:52.225170: W tensorflow/core/framework/local_rendezvous.cc:404] Local rendezvous is aborting with status: OUT_OF_RANGE: End of sequence\n",
      "\t [[{{node IteratorGetNext}}]]\n"
     ]
    },
    {
     "name": "stdout",
     "output_type": "stream",
     "text": [
      "129/129 - 28s - 221ms/step - auc_2: 0.9934 - loss: 0.0925 - val_auc_2: 0.9871 - val_loss: 0.1380\n",
      "Epoch 106/400\n",
      "129/129 - 0s - 53us/step - auc_2: 0.0000e+00 - loss: 0.0000e+00 - val_auc_2: 0.0000e+00 - val_loss: 0.0000e+00\n",
      "Epoch 107/400\n"
     ]
    },
    {
     "name": "stderr",
     "output_type": "stream",
     "text": [
      "2024-03-31 19:23:20.683232: W tensorflow/core/framework/local_rendezvous.cc:404] Local rendezvous is aborting with status: OUT_OF_RANGE: End of sequence\n",
      "\t [[{{node IteratorGetNext}}]]\n",
      "2024-03-31 19:23:20.685706: W tensorflow/core/framework/local_rendezvous.cc:404] Local rendezvous is aborting with status: OUT_OF_RANGE: End of sequence\n",
      "\t [[{{node IteratorGetNext}}]]\n"
     ]
    },
    {
     "name": "stdout",
     "output_type": "stream",
     "text": [
      "129/129 - 28s - 220ms/step - auc_2: 0.9908 - loss: 0.0982 - val_auc_2: 0.9873 - val_loss: 0.1217\n",
      "Epoch 108/400\n",
      "129/129 - 0s - 58us/step - auc_2: 0.0000e+00 - loss: 0.0000e+00 - val_auc_2: 0.0000e+00 - val_loss: 0.0000e+00\n",
      "Epoch 109/400\n"
     ]
    },
    {
     "name": "stderr",
     "output_type": "stream",
     "text": [
      "2024-03-31 19:23:49.077984: W tensorflow/core/framework/local_rendezvous.cc:404] Local rendezvous is aborting with status: OUT_OF_RANGE: End of sequence\n",
      "\t [[{{node IteratorGetNext}}]]\n",
      "2024-03-31 19:23:49.080580: W tensorflow/core/framework/local_rendezvous.cc:404] Local rendezvous is aborting with status: OUT_OF_RANGE: End of sequence\n",
      "\t [[{{node IteratorGetNext}}]]\n"
     ]
    },
    {
     "name": "stdout",
     "output_type": "stream",
     "text": [
      "129/129 - 28s - 220ms/step - auc_2: 0.9903 - loss: 0.1041 - val_auc_2: 0.9894 - val_loss: 0.1122\n",
      "Epoch 110/400\n",
      "129/129 - 0s - 54us/step - auc_2: 0.0000e+00 - loss: 0.0000e+00 - val_auc_2: 0.0000e+00 - val_loss: 0.0000e+00\n",
      "Epoch 111/400\n"
     ]
    },
    {
     "name": "stderr",
     "output_type": "stream",
     "text": [
      "2024-03-31 19:24:17.458697: W tensorflow/core/framework/local_rendezvous.cc:404] Local rendezvous is aborting with status: OUT_OF_RANGE: End of sequence\n",
      "\t [[{{node IteratorGetNext}}]]\n",
      "2024-03-31 19:24:17.461272: W tensorflow/core/framework/local_rendezvous.cc:404] Local rendezvous is aborting with status: OUT_OF_RANGE: End of sequence\n",
      "\t [[{{node IteratorGetNext}}]]\n"
     ]
    },
    {
     "name": "stdout",
     "output_type": "stream",
     "text": [
      "129/129 - 29s - 222ms/step - auc_2: 0.9917 - loss: 0.0981 - val_auc_2: 0.9859 - val_loss: 0.1359\n",
      "Epoch 112/400\n",
      "129/129 - 0s - 55us/step - auc_2: 0.0000e+00 - loss: 0.0000e+00 - val_auc_2: 0.0000e+00 - val_loss: 0.0000e+00\n",
      "Epoch 113/400\n"
     ]
    },
    {
     "name": "stderr",
     "output_type": "stream",
     "text": [
      "2024-03-31 19:24:46.105466: W tensorflow/core/framework/local_rendezvous.cc:404] Local rendezvous is aborting with status: OUT_OF_RANGE: End of sequence\n",
      "\t [[{{node IteratorGetNext}}]]\n",
      "2024-03-31 19:24:46.107975: W tensorflow/core/framework/local_rendezvous.cc:404] Local rendezvous is aborting with status: OUT_OF_RANGE: End of sequence\n",
      "\t [[{{node IteratorGetNext}}]]\n"
     ]
    },
    {
     "name": "stdout",
     "output_type": "stream",
     "text": [
      "129/129 - 28s - 221ms/step - auc_2: 0.9921 - loss: 0.0980 - val_auc_2: 0.9878 - val_loss: 0.1223\n",
      "Epoch 114/400\n",
      "129/129 - 0s - 61us/step - auc_2: 0.0000e+00 - loss: 0.0000e+00 - val_auc_2: 0.0000e+00 - val_loss: 0.0000e+00\n",
      "Epoch 115/400\n"
     ]
    },
    {
     "name": "stderr",
     "output_type": "stream",
     "text": [
      "2024-03-31 19:25:14.564959: W tensorflow/core/framework/local_rendezvous.cc:404] Local rendezvous is aborting with status: OUT_OF_RANGE: End of sequence\n",
      "\t [[{{node IteratorGetNext}}]]\n",
      "2024-03-31 19:25:14.567670: W tensorflow/core/framework/local_rendezvous.cc:404] Local rendezvous is aborting with status: OUT_OF_RANGE: End of sequence\n",
      "\t [[{{node IteratorGetNext}}]]\n"
     ]
    },
    {
     "name": "stdout",
     "output_type": "stream",
     "text": [
      "129/129 - 29s - 223ms/step - auc_2: 0.9937 - loss: 0.0857 - val_auc_2: 0.9866 - val_loss: 0.1378\n",
      "Epoch 116/400\n",
      "129/129 - 0s - 54us/step - auc_2: 0.0000e+00 - loss: 0.0000e+00 - val_auc_2: 0.0000e+00 - val_loss: 0.0000e+00\n",
      "Epoch 117/400\n"
     ]
    },
    {
     "name": "stderr",
     "output_type": "stream",
     "text": [
      "2024-03-31 19:25:43.404925: W tensorflow/core/framework/local_rendezvous.cc:404] Local rendezvous is aborting with status: OUT_OF_RANGE: End of sequence\n",
      "\t [[{{node IteratorGetNext}}]]\n",
      "2024-03-31 19:25:43.407356: W tensorflow/core/framework/local_rendezvous.cc:404] Local rendezvous is aborting with status: OUT_OF_RANGE: End of sequence\n",
      "\t [[{{node IteratorGetNext}}]]\n"
     ]
    },
    {
     "name": "stdout",
     "output_type": "stream",
     "text": [
      "129/129 - 29s - 221ms/step - auc_2: 0.9923 - loss: 0.0954 - val_auc_2: 0.9915 - val_loss: 0.1126\n",
      "Epoch 118/400\n",
      "129/129 - 0s - 54us/step - auc_2: 0.0000e+00 - loss: 0.0000e+00 - val_auc_2: 0.0000e+00 - val_loss: 0.0000e+00\n",
      "Epoch 119/400\n"
     ]
    },
    {
     "name": "stderr",
     "output_type": "stream",
     "text": [
      "2024-03-31 19:26:11.936625: W tensorflow/core/framework/local_rendezvous.cc:404] Local rendezvous is aborting with status: OUT_OF_RANGE: End of sequence\n",
      "\t [[{{node IteratorGetNext}}]]\n",
      "2024-03-31 19:26:11.939089: W tensorflow/core/framework/local_rendezvous.cc:404] Local rendezvous is aborting with status: OUT_OF_RANGE: End of sequence\n",
      "\t [[{{node IteratorGetNext}}]]\n"
     ]
    },
    {
     "name": "stdout",
     "output_type": "stream",
     "text": [
      "129/129 - 29s - 221ms/step - auc_2: 0.9931 - loss: 0.0875 - val_auc_2: 0.9903 - val_loss: 0.1102\n",
      "Epoch 120/400\n",
      "129/129 - 0s - 61us/step - auc_2: 0.0000e+00 - loss: 0.0000e+00 - val_auc_2: 0.0000e+00 - val_loss: 0.0000e+00\n",
      "Epoch 121/400\n"
     ]
    },
    {
     "name": "stderr",
     "output_type": "stream",
     "text": [
      "2024-03-31 19:26:40.469243: W tensorflow/core/framework/local_rendezvous.cc:404] Local rendezvous is aborting with status: OUT_OF_RANGE: End of sequence\n",
      "\t [[{{node IteratorGetNext}}]]\n",
      "2024-03-31 19:26:40.472012: W tensorflow/core/framework/local_rendezvous.cc:404] Local rendezvous is aborting with status: OUT_OF_RANGE: End of sequence\n",
      "\t [[{{node IteratorGetNext}}]]\n"
     ]
    },
    {
     "name": "stdout",
     "output_type": "stream",
     "text": [
      "129/129 - 28s - 220ms/step - auc_2: 0.9921 - loss: 0.0950 - val_auc_2: 0.9890 - val_loss: 0.1100\n",
      "Epoch 122/400\n",
      "129/129 - 0s - 54us/step - auc_2: 0.0000e+00 - loss: 0.0000e+00 - val_auc_2: 0.0000e+00 - val_loss: 0.0000e+00\n",
      "Epoch 123/400\n"
     ]
    },
    {
     "name": "stderr",
     "output_type": "stream",
     "text": [
      "2024-03-31 19:27:08.826794: W tensorflow/core/framework/local_rendezvous.cc:404] Local rendezvous is aborting with status: OUT_OF_RANGE: End of sequence\n",
      "\t [[{{node IteratorGetNext}}]]\n",
      "2024-03-31 19:27:08.829306: W tensorflow/core/framework/local_rendezvous.cc:404] Local rendezvous is aborting with status: OUT_OF_RANGE: End of sequence\n",
      "\t [[{{node IteratorGetNext}}]]\n"
     ]
    },
    {
     "name": "stdout",
     "output_type": "stream",
     "text": [
      "129/129 - 29s - 221ms/step - auc_2: 0.9933 - loss: 0.0898 - val_auc_2: 0.9898 - val_loss: 0.1119\n",
      "Epoch 124/400\n",
      "129/129 - 0s - 55us/step - auc_2: 0.0000e+00 - loss: 0.0000e+00 - val_auc_2: 0.0000e+00 - val_loss: 0.0000e+00\n",
      "Epoch 125/400\n"
     ]
    },
    {
     "name": "stderr",
     "output_type": "stream",
     "text": [
      "2024-03-31 19:27:37.350298: W tensorflow/core/framework/local_rendezvous.cc:404] Local rendezvous is aborting with status: OUT_OF_RANGE: End of sequence\n",
      "\t [[{{node IteratorGetNext}}]]\n",
      "2024-03-31 19:27:37.352787: W tensorflow/core/framework/local_rendezvous.cc:404] Local rendezvous is aborting with status: OUT_OF_RANGE: End of sequence\n",
      "\t [[{{node IteratorGetNext}}]]\n"
     ]
    },
    {
     "name": "stdout",
     "output_type": "stream",
     "text": [
      "129/129 - 28s - 221ms/step - auc_2: 0.9927 - loss: 0.0935 - val_auc_2: 0.9886 - val_loss: 0.1208\n",
      "Epoch 126/400\n",
      "129/129 - 0s - 56us/step - auc_2: 0.0000e+00 - loss: 0.0000e+00 - val_auc_2: 0.0000e+00 - val_loss: 0.0000e+00\n",
      "Epoch 127/400\n"
     ]
    },
    {
     "name": "stderr",
     "output_type": "stream",
     "text": [
      "2024-03-31 19:28:05.821751: W tensorflow/core/framework/local_rendezvous.cc:404] Local rendezvous is aborting with status: OUT_OF_RANGE: End of sequence\n",
      "\t [[{{node IteratorGetNext}}]]\n",
      "2024-03-31 19:28:05.824500: W tensorflow/core/framework/local_rendezvous.cc:404] Local rendezvous is aborting with status: OUT_OF_RANGE: End of sequence\n",
      "\t [[{{node IteratorGetNext}}]]\n"
     ]
    },
    {
     "name": "stdout",
     "output_type": "stream",
     "text": [
      "129/129 - 28s - 221ms/step - auc_2: 0.9917 - loss: 0.0942 - val_auc_2: 0.9880 - val_loss: 0.1285\n",
      "Epoch 128/400\n",
      "129/129 - 0s - 57us/step - auc_2: 0.0000e+00 - loss: 0.0000e+00 - val_auc_2: 0.0000e+00 - val_loss: 0.0000e+00\n",
      "Epoch 129/400\n"
     ]
    },
    {
     "name": "stderr",
     "output_type": "stream",
     "text": [
      "2024-03-31 19:28:34.329935: W tensorflow/core/framework/local_rendezvous.cc:404] Local rendezvous is aborting with status: OUT_OF_RANGE: End of sequence\n",
      "\t [[{{node IteratorGetNext}}]]\n",
      "2024-03-31 19:28:34.332491: W tensorflow/core/framework/local_rendezvous.cc:404] Local rendezvous is aborting with status: OUT_OF_RANGE: End of sequence\n",
      "\t [[{{node IteratorGetNext}}]]\n"
     ]
    },
    {
     "name": "stdout",
     "output_type": "stream",
     "text": [
      "129/129 - 29s - 221ms/step - auc_2: 0.9938 - loss: 0.0828 - val_auc_2: 0.9900 - val_loss: 0.1603\n",
      "Epoch 130/400\n",
      "129/129 - 0s - 57us/step - auc_2: 0.0000e+00 - loss: 0.0000e+00 - val_auc_2: 0.0000e+00 - val_loss: 0.0000e+00\n",
      "Epoch 131/400\n"
     ]
    },
    {
     "name": "stderr",
     "output_type": "stream",
     "text": [
      "2024-03-31 19:29:02.851677: W tensorflow/core/framework/local_rendezvous.cc:404] Local rendezvous is aborting with status: OUT_OF_RANGE: End of sequence\n",
      "\t [[{{node IteratorGetNext}}]]\n",
      "2024-03-31 19:29:02.854565: W tensorflow/core/framework/local_rendezvous.cc:404] Local rendezvous is aborting with status: OUT_OF_RANGE: End of sequence\n",
      "\t [[{{node IteratorGetNext}}]]\n"
     ]
    },
    {
     "name": "stdout",
     "output_type": "stream",
     "text": [
      "129/129 - 28s - 221ms/step - auc_2: 0.9922 - loss: 0.0930 - val_auc_2: 0.9899 - val_loss: 0.1320\n",
      "Epoch 132/400\n",
      "129/129 - 0s - 55us/step - auc_2: 0.0000e+00 - loss: 0.0000e+00 - val_auc_2: 0.0000e+00 - val_loss: 0.0000e+00\n",
      "Epoch 133/400\n"
     ]
    },
    {
     "name": "stderr",
     "output_type": "stream",
     "text": [
      "2024-03-31 19:29:31.314422: W tensorflow/core/framework/local_rendezvous.cc:404] Local rendezvous is aborting with status: OUT_OF_RANGE: End of sequence\n",
      "\t [[{{node IteratorGetNext}}]]\n",
      "2024-03-31 19:29:31.317175: W tensorflow/core/framework/local_rendezvous.cc:404] Local rendezvous is aborting with status: OUT_OF_RANGE: End of sequence\n",
      "\t [[{{node IteratorGetNext}}]]\n"
     ]
    },
    {
     "name": "stdout",
     "output_type": "stream",
     "text": [
      "129/129 - 28s - 220ms/step - auc_2: 0.9941 - loss: 0.0872 - val_auc_2: 0.9891 - val_loss: 0.1326\n",
      "Epoch 134/400\n",
      "129/129 - 0s - 56us/step - auc_2: 0.0000e+00 - loss: 0.0000e+00 - val_auc_2: 0.0000e+00 - val_loss: 0.0000e+00\n",
      "Epoch 135/400\n"
     ]
    },
    {
     "name": "stderr",
     "output_type": "stream",
     "text": [
      "2024-03-31 19:29:59.751263: W tensorflow/core/framework/local_rendezvous.cc:404] Local rendezvous is aborting with status: OUT_OF_RANGE: End of sequence\n",
      "\t [[{{node IteratorGetNext}}]]\n",
      "2024-03-31 19:29:59.753903: W tensorflow/core/framework/local_rendezvous.cc:404] Local rendezvous is aborting with status: OUT_OF_RANGE: End of sequence\n",
      "\t [[{{node IteratorGetNext}}]]\n"
     ]
    },
    {
     "name": "stdout",
     "output_type": "stream",
     "text": [
      "129/129 - 29s - 221ms/step - auc_2: 0.9941 - loss: 0.0828 - val_auc_2: 0.9854 - val_loss: 0.1345\n",
      "Epoch 136/400\n",
      "129/129 - 0s - 54us/step - auc_2: 0.0000e+00 - loss: 0.0000e+00 - val_auc_2: 0.0000e+00 - val_loss: 0.0000e+00\n",
      "Epoch 137/400\n"
     ]
    },
    {
     "name": "stderr",
     "output_type": "stream",
     "text": [
      "2024-03-31 19:30:28.293624: W tensorflow/core/framework/local_rendezvous.cc:404] Local rendezvous is aborting with status: OUT_OF_RANGE: End of sequence\n",
      "\t [[{{node IteratorGetNext}}]]\n",
      "2024-03-31 19:30:28.296162: W tensorflow/core/framework/local_rendezvous.cc:404] Local rendezvous is aborting with status: OUT_OF_RANGE: End of sequence\n",
      "\t [[{{node IteratorGetNext}}]]\n"
     ]
    },
    {
     "name": "stdout",
     "output_type": "stream",
     "text": [
      "129/129 - 28s - 221ms/step - auc_2: 0.9907 - loss: 0.1028 - val_auc_2: 0.9887 - val_loss: 0.1220\n",
      "Epoch 138/400\n",
      "129/129 - 0s - 61us/step - auc_2: 0.0000e+00 - loss: 0.0000e+00 - val_auc_2: 0.0000e+00 - val_loss: 0.0000e+00\n",
      "Epoch 139/400\n"
     ]
    },
    {
     "name": "stderr",
     "output_type": "stream",
     "text": [
      "2024-03-31 19:30:56.801411: W tensorflow/core/framework/local_rendezvous.cc:404] Local rendezvous is aborting with status: OUT_OF_RANGE: End of sequence\n",
      "\t [[{{node IteratorGetNext}}]]\n",
      "2024-03-31 19:30:56.804159: W tensorflow/core/framework/local_rendezvous.cc:404] Local rendezvous is aborting with status: OUT_OF_RANGE: End of sequence\n",
      "\t [[{{node IteratorGetNext}}]]\n"
     ]
    },
    {
     "name": "stdout",
     "output_type": "stream",
     "text": [
      "129/129 - 29s - 222ms/step - auc_2: 0.9918 - loss: 0.0976 - val_auc_2: 0.9879 - val_loss: 0.1271\n",
      "Epoch 140/400\n",
      "129/129 - 0s - 54us/step - auc_2: 0.0000e+00 - loss: 0.0000e+00 - val_auc_2: 0.0000e+00 - val_loss: 0.0000e+00\n",
      "Epoch 141/400\n"
     ]
    },
    {
     "name": "stderr",
     "output_type": "stream",
     "text": [
      "2024-03-31 19:31:25.387047: W tensorflow/core/framework/local_rendezvous.cc:404] Local rendezvous is aborting with status: OUT_OF_RANGE: End of sequence\n",
      "\t [[{{node IteratorGetNext}}]]\n",
      "2024-03-31 19:31:25.389671: W tensorflow/core/framework/local_rendezvous.cc:404] Local rendezvous is aborting with status: OUT_OF_RANGE: End of sequence\n",
      "\t [[{{node IteratorGetNext}}]]\n"
     ]
    },
    {
     "name": "stdout",
     "output_type": "stream",
     "text": [
      "129/129 - 29s - 222ms/step - auc_2: 0.9937 - loss: 0.0816 - val_auc_2: 0.9860 - val_loss: 0.1258\n",
      "Epoch 142/400\n",
      "129/129 - 0s - 53us/step - auc_2: 0.0000e+00 - loss: 0.0000e+00 - val_auc_2: 0.0000e+00 - val_loss: 0.0000e+00\n",
      "Epoch 143/400\n"
     ]
    },
    {
     "name": "stderr",
     "output_type": "stream",
     "text": [
      "2024-03-31 19:31:54.014959: W tensorflow/core/framework/local_rendezvous.cc:404] Local rendezvous is aborting with status: OUT_OF_RANGE: End of sequence\n",
      "\t [[{{node IteratorGetNext}}]]\n",
      "2024-03-31 19:31:54.017452: W tensorflow/core/framework/local_rendezvous.cc:404] Local rendezvous is aborting with status: OUT_OF_RANGE: End of sequence\n",
      "\t [[{{node IteratorGetNext}}]]\n"
     ]
    },
    {
     "name": "stdout",
     "output_type": "stream",
     "text": [
      "129/129 - 29s - 222ms/step - auc_2: 0.9945 - loss: 0.0825 - val_auc_2: 0.9896 - val_loss: 0.1302\n",
      "Epoch 144/400\n",
      "129/129 - 0s - 53us/step - auc_2: 0.0000e+00 - loss: 0.0000e+00 - val_auc_2: 0.0000e+00 - val_loss: 0.0000e+00\n",
      "Epoch 145/400\n"
     ]
    },
    {
     "name": "stderr",
     "output_type": "stream",
     "text": [
      "2024-03-31 19:32:22.675356: W tensorflow/core/framework/local_rendezvous.cc:404] Local rendezvous is aborting with status: OUT_OF_RANGE: End of sequence\n",
      "\t [[{{node IteratorGetNext}}]]\n",
      "2024-03-31 19:32:22.677776: W tensorflow/core/framework/local_rendezvous.cc:404] Local rendezvous is aborting with status: OUT_OF_RANGE: End of sequence\n",
      "\t [[{{node IteratorGetNext}}]]\n"
     ]
    },
    {
     "name": "stdout",
     "output_type": "stream",
     "text": [
      "129/129 - 28s - 220ms/step - auc_2: 0.9936 - loss: 0.0857 - val_auc_2: 0.9873 - val_loss: 0.1434\n",
      "Epoch 146/400\n",
      "129/129 - 0s - 53us/step - auc_2: 0.0000e+00 - loss: 0.0000e+00 - val_auc_2: 0.0000e+00 - val_loss: 0.0000e+00\n",
      "Epoch 147/400\n"
     ]
    },
    {
     "name": "stderr",
     "output_type": "stream",
     "text": [
      "2024-03-31 19:32:51.090373: W tensorflow/core/framework/local_rendezvous.cc:404] Local rendezvous is aborting with status: OUT_OF_RANGE: End of sequence\n",
      "\t [[{{node IteratorGetNext}}]]\n",
      "2024-03-31 19:32:51.092824: W tensorflow/core/framework/local_rendezvous.cc:404] Local rendezvous is aborting with status: OUT_OF_RANGE: End of sequence\n",
      "\t [[{{node IteratorGetNext}}]]\n"
     ]
    },
    {
     "name": "stdout",
     "output_type": "stream",
     "text": [
      "129/129 - 28s - 220ms/step - auc_2: 0.9939 - loss: 0.0847 - val_auc_2: 0.9856 - val_loss: 0.1381\n",
      "Epoch 148/400\n",
      "129/129 - 0s - 59us/step - auc_2: 0.0000e+00 - loss: 0.0000e+00 - val_auc_2: 0.0000e+00 - val_loss: 0.0000e+00\n",
      "Epoch 149/400\n"
     ]
    },
    {
     "name": "stderr",
     "output_type": "stream",
     "text": [
      "2024-03-31 19:33:19.524500: W tensorflow/core/framework/local_rendezvous.cc:404] Local rendezvous is aborting with status: OUT_OF_RANGE: End of sequence\n",
      "\t [[{{node IteratorGetNext}}]]\n",
      "2024-03-31 19:33:19.527123: W tensorflow/core/framework/local_rendezvous.cc:404] Local rendezvous is aborting with status: OUT_OF_RANGE: End of sequence\n",
      "\t [[{{node IteratorGetNext}}]]\n"
     ]
    },
    {
     "name": "stdout",
     "output_type": "stream",
     "text": [
      "129/129 - 29s - 221ms/step - auc_2: 0.9946 - loss: 0.0821 - val_auc_2: 0.9862 - val_loss: 0.1236\n",
      "Epoch 150/400\n",
      "129/129 - 0s - 58us/step - auc_2: 0.0000e+00 - loss: 0.0000e+00 - val_auc_2: 0.0000e+00 - val_loss: 0.0000e+00\n",
      "Epoch 151/400\n"
     ]
    },
    {
     "name": "stderr",
     "output_type": "stream",
     "text": [
      "2024-03-31 19:33:48.087529: W tensorflow/core/framework/local_rendezvous.cc:404] Local rendezvous is aborting with status: OUT_OF_RANGE: End of sequence\n",
      "\t [[{{node IteratorGetNext}}]]\n",
      "2024-03-31 19:33:48.089902: W tensorflow/core/framework/local_rendezvous.cc:404] Local rendezvous is aborting with status: OUT_OF_RANGE: End of sequence\n",
      "\t [[{{node IteratorGetNext}}]]\n"
     ]
    },
    {
     "name": "stdout",
     "output_type": "stream",
     "text": [
      "129/129 - 29s - 222ms/step - auc_2: 0.9941 - loss: 0.0865 - val_auc_2: 0.9855 - val_loss: 0.1673\n",
      "Epoch 152/400\n",
      "129/129 - 0s - 57us/step - auc_2: 0.0000e+00 - loss: 0.0000e+00 - val_auc_2: 0.0000e+00 - val_loss: 0.0000e+00\n",
      "Epoch 153/400\n"
     ]
    },
    {
     "name": "stderr",
     "output_type": "stream",
     "text": [
      "2024-03-31 19:34:16.726695: W tensorflow/core/framework/local_rendezvous.cc:404] Local rendezvous is aborting with status: OUT_OF_RANGE: End of sequence\n",
      "\t [[{{node IteratorGetNext}}]]\n",
      "2024-03-31 19:34:16.729327: W tensorflow/core/framework/local_rendezvous.cc:404] Local rendezvous is aborting with status: OUT_OF_RANGE: End of sequence\n",
      "\t [[{{node IteratorGetNext}}]]\n"
     ]
    },
    {
     "name": "stdout",
     "output_type": "stream",
     "text": [
      "129/129 - 29s - 222ms/step - auc_2: 0.9949 - loss: 0.0768 - val_auc_2: 0.9802 - val_loss: 0.1608\n",
      "Epoch 154/400\n",
      "129/129 - 0s - 53us/step - auc_2: 0.0000e+00 - loss: 0.0000e+00 - val_auc_2: 0.0000e+00 - val_loss: 0.0000e+00\n",
      "Epoch 155/400\n"
     ]
    },
    {
     "name": "stderr",
     "output_type": "stream",
     "text": [
      "2024-03-31 19:34:45.366987: W tensorflow/core/framework/local_rendezvous.cc:404] Local rendezvous is aborting with status: OUT_OF_RANGE: End of sequence\n",
      "\t [[{{node IteratorGetNext}}]]\n",
      "2024-03-31 19:34:45.369466: W tensorflow/core/framework/local_rendezvous.cc:404] Local rendezvous is aborting with status: OUT_OF_RANGE: End of sequence\n",
      "\t [[{{node IteratorGetNext}}]]\n"
     ]
    },
    {
     "name": "stdout",
     "output_type": "stream",
     "text": [
      "129/129 - 29s - 221ms/step - auc_2: 0.9937 - loss: 0.0844 - val_auc_2: 0.9875 - val_loss: 0.1257\n",
      "Epoch 156/400\n",
      "129/129 - 0s - 56us/step - auc_2: 0.0000e+00 - loss: 0.0000e+00 - val_auc_2: 0.0000e+00 - val_loss: 0.0000e+00\n",
      "Epoch 157/400\n"
     ]
    },
    {
     "name": "stderr",
     "output_type": "stream",
     "text": [
      "2024-03-31 19:35:13.882356: W tensorflow/core/framework/local_rendezvous.cc:404] Local rendezvous is aborting with status: OUT_OF_RANGE: End of sequence\n",
      "\t [[{{node IteratorGetNext}}]]\n",
      "2024-03-31 19:35:13.884972: W tensorflow/core/framework/local_rendezvous.cc:404] Local rendezvous is aborting with status: OUT_OF_RANGE: End of sequence\n",
      "\t [[{{node IteratorGetNext}}]]\n"
     ]
    },
    {
     "name": "stdout",
     "output_type": "stream",
     "text": [
      "129/129 - 29s - 224ms/step - auc_2: 0.9937 - loss: 0.0868 - val_auc_2: 0.9872 - val_loss: 0.1172\n",
      "Epoch 158/400\n",
      "129/129 - 0s - 55us/step - auc_2: 0.0000e+00 - loss: 0.0000e+00 - val_auc_2: 0.0000e+00 - val_loss: 0.0000e+00\n",
      "Epoch 159/400\n"
     ]
    },
    {
     "name": "stderr",
     "output_type": "stream",
     "text": [
      "2024-03-31 19:35:42.820002: W tensorflow/core/framework/local_rendezvous.cc:404] Local rendezvous is aborting with status: OUT_OF_RANGE: End of sequence\n",
      "\t [[{{node IteratorGetNext}}]]\n",
      "2024-03-31 19:35:42.822564: W tensorflow/core/framework/local_rendezvous.cc:404] Local rendezvous is aborting with status: OUT_OF_RANGE: End of sequence\n",
      "\t [[{{node IteratorGetNext}}]]\n"
     ]
    },
    {
     "name": "stdout",
     "output_type": "stream",
     "text": [
      "129/129 - 29s - 222ms/step - auc_2: 0.9944 - loss: 0.0778 - val_auc_2: 0.9848 - val_loss: 0.1260\n",
      "Epoch 160/400\n",
      "129/129 - 0s - 53us/step - auc_2: 0.0000e+00 - loss: 0.0000e+00 - val_auc_2: 0.0000e+00 - val_loss: 0.0000e+00\n",
      "Epoch 161/400\n"
     ]
    },
    {
     "name": "stderr",
     "output_type": "stream",
     "text": [
      "2024-03-31 19:36:11.464317: W tensorflow/core/framework/local_rendezvous.cc:404] Local rendezvous is aborting with status: OUT_OF_RANGE: End of sequence\n",
      "\t [[{{node IteratorGetNext}}]]\n",
      "2024-03-31 19:36:11.466801: W tensorflow/core/framework/local_rendezvous.cc:404] Local rendezvous is aborting with status: OUT_OF_RANGE: End of sequence\n",
      "\t [[{{node IteratorGetNext}}]]\n"
     ]
    },
    {
     "name": "stdout",
     "output_type": "stream",
     "text": [
      "129/129 - 29s - 222ms/step - auc_2: 0.9936 - loss: 0.0814 - val_auc_2: 0.9857 - val_loss: 0.1264\n",
      "Epoch 162/400\n",
      "129/129 - 0s - 54us/step - auc_2: 0.0000e+00 - loss: 0.0000e+00 - val_auc_2: 0.0000e+00 - val_loss: 0.0000e+00\n",
      "Epoch 163/400\n"
     ]
    },
    {
     "name": "stderr",
     "output_type": "stream",
     "text": [
      "2024-03-31 19:36:40.102918: W tensorflow/core/framework/local_rendezvous.cc:404] Local rendezvous is aborting with status: OUT_OF_RANGE: End of sequence\n",
      "\t [[{{node IteratorGetNext}}]]\n",
      "2024-03-31 19:36:40.105466: W tensorflow/core/framework/local_rendezvous.cc:404] Local rendezvous is aborting with status: OUT_OF_RANGE: End of sequence\n",
      "\t [[{{node IteratorGetNext}}]]\n"
     ]
    },
    {
     "name": "stdout",
     "output_type": "stream",
     "text": [
      "129/129 - 32s - 245ms/step - auc_2: 0.9925 - loss: 0.0930 - val_auc_2: 0.9844 - val_loss: 0.1262\n",
      "Epoch 164/400\n",
      "129/129 - 0s - 60us/step - auc_2: 0.0000e+00 - loss: 0.0000e+00 - val_auc_2: 0.0000e+00 - val_loss: 0.0000e+00\n",
      "Epoch 165/400\n"
     ]
    },
    {
     "name": "stderr",
     "output_type": "stream",
     "text": [
      "2024-03-31 19:37:11.739092: W tensorflow/core/framework/local_rendezvous.cc:404] Local rendezvous is aborting with status: OUT_OF_RANGE: End of sequence\n",
      "\t [[{{node IteratorGetNext}}]]\n",
      "2024-03-31 19:37:11.741872: W tensorflow/core/framework/local_rendezvous.cc:404] Local rendezvous is aborting with status: OUT_OF_RANGE: End of sequence\n",
      "\t [[{{node IteratorGetNext}}]]\n"
     ]
    },
    {
     "name": "stdout",
     "output_type": "stream",
     "text": [
      "129/129 - 33s - 256ms/step - auc_2: 0.9943 - loss: 0.0780 - val_auc_2: 0.9884 - val_loss: 0.1934\n",
      "Epoch 166/400\n",
      "129/129 - 0s - 67us/step - auc_2: 0.0000e+00 - loss: 0.0000e+00 - val_auc_2: 0.0000e+00 - val_loss: 0.0000e+00\n",
      "Epoch 167/400\n"
     ]
    },
    {
     "name": "stderr",
     "output_type": "stream",
     "text": [
      "2024-03-31 19:37:44.781152: W tensorflow/core/framework/local_rendezvous.cc:404] Local rendezvous is aborting with status: OUT_OF_RANGE: End of sequence\n",
      "\t [[{{node IteratorGetNext}}]]\n",
      "2024-03-31 19:37:44.784361: W tensorflow/core/framework/local_rendezvous.cc:404] Local rendezvous is aborting with status: OUT_OF_RANGE: End of sequence\n",
      "\t [[{{node IteratorGetNext}}]]\n"
     ]
    },
    {
     "name": "stdout",
     "output_type": "stream",
     "text": [
      "129/129 - 32s - 248ms/step - auc_2: 0.9930 - loss: 0.0911 - val_auc_2: 0.9858 - val_loss: 0.1480\n",
      "Epoch 168/400\n",
      "129/129 - 0s - 72us/step - auc_2: 0.0000e+00 - loss: 0.0000e+00 - val_auc_2: 0.0000e+00 - val_loss: 0.0000e+00\n",
      "Epoch 169/400\n"
     ]
    },
    {
     "name": "stderr",
     "output_type": "stream",
     "text": [
      "2024-03-31 19:38:16.830140: W tensorflow/core/framework/local_rendezvous.cc:404] Local rendezvous is aborting with status: OUT_OF_RANGE: End of sequence\n",
      "\t [[{{node IteratorGetNext}}]]\n",
      "2024-03-31 19:38:16.833810: W tensorflow/core/framework/local_rendezvous.cc:404] Local rendezvous is aborting with status: OUT_OF_RANGE: End of sequence\n",
      "\t [[{{node IteratorGetNext}}]]\n"
     ]
    },
    {
     "name": "stdout",
     "output_type": "stream",
     "text": [
      "129/129 - 32s - 250ms/step - auc_2: 0.9946 - loss: 0.0817 - val_auc_2: 0.9851 - val_loss: 0.1291\n",
      "Epoch 170/400\n",
      "129/129 - 0s - 59us/step - auc_2: 0.0000e+00 - loss: 0.0000e+00 - val_auc_2: 0.0000e+00 - val_loss: 0.0000e+00\n",
      "Epoch 171/400\n"
     ]
    },
    {
     "name": "stderr",
     "output_type": "stream",
     "text": [
      "2024-03-31 19:38:49.124192: W tensorflow/core/framework/local_rendezvous.cc:404] Local rendezvous is aborting with status: OUT_OF_RANGE: End of sequence\n",
      "\t [[{{node IteratorGetNext}}]]\n",
      "2024-03-31 19:38:49.126863: W tensorflow/core/framework/local_rendezvous.cc:404] Local rendezvous is aborting with status: OUT_OF_RANGE: End of sequence\n",
      "\t [[{{node IteratorGetNext}}]]\n"
     ]
    },
    {
     "name": "stdout",
     "output_type": "stream",
     "text": [
      "129/129 - 33s - 257ms/step - auc_2: 0.9932 - loss: 0.0825 - val_auc_2: 0.9879 - val_loss: 0.1257\n",
      "Epoch 172/400\n",
      "129/129 - 0s - 65us/step - auc_2: 0.0000e+00 - loss: 0.0000e+00 - val_auc_2: 0.0000e+00 - val_loss: 0.0000e+00\n",
      "Epoch 173/400\n"
     ]
    },
    {
     "name": "stderr",
     "output_type": "stream",
     "text": [
      "2024-03-31 19:39:22.278565: W tensorflow/core/framework/local_rendezvous.cc:404] Local rendezvous is aborting with status: OUT_OF_RANGE: End of sequence\n",
      "\t [[{{node IteratorGetNext}}]]\n",
      "2024-03-31 19:39:22.281544: W tensorflow/core/framework/local_rendezvous.cc:404] Local rendezvous is aborting with status: OUT_OF_RANGE: End of sequence\n",
      "\t [[{{node IteratorGetNext}}]]\n"
     ]
    },
    {
     "name": "stdout",
     "output_type": "stream",
     "text": [
      "129/129 - 33s - 253ms/step - auc_2: 0.9923 - loss: 0.0882 - val_auc_2: 0.9878 - val_loss: 0.1349\n",
      "Epoch 174/400\n",
      "129/129 - 0s - 63us/step - auc_2: 0.0000e+00 - loss: 0.0000e+00 - val_auc_2: 0.0000e+00 - val_loss: 0.0000e+00\n",
      "Epoch 175/400\n"
     ]
    },
    {
     "name": "stderr",
     "output_type": "stream",
     "text": [
      "2024-03-31 19:39:54.959476: W tensorflow/core/framework/local_rendezvous.cc:404] Local rendezvous is aborting with status: OUT_OF_RANGE: End of sequence\n",
      "\t [[{{node IteratorGetNext}}]]\n",
      "2024-03-31 19:39:54.962056: W tensorflow/core/framework/local_rendezvous.cc:404] Local rendezvous is aborting with status: OUT_OF_RANGE: End of sequence\n",
      "\t [[{{node IteratorGetNext}}]]\n"
     ]
    },
    {
     "name": "stdout",
     "output_type": "stream",
     "text": [
      "129/129 - 33s - 255ms/step - auc_2: 0.9940 - loss: 0.0806 - val_auc_2: 0.9845 - val_loss: 0.1520\n",
      "Epoch 176/400\n",
      "129/129 - 0s - 62us/step - auc_2: 0.0000e+00 - loss: 0.0000e+00 - val_auc_2: 0.0000e+00 - val_loss: 0.0000e+00\n",
      "Epoch 177/400\n"
     ]
    },
    {
     "name": "stderr",
     "output_type": "stream",
     "text": [
      "2024-03-31 19:40:27.908821: W tensorflow/core/framework/local_rendezvous.cc:404] Local rendezvous is aborting with status: OUT_OF_RANGE: End of sequence\n",
      "\t [[{{node IteratorGetNext}}]]\n",
      "2024-03-31 19:40:27.911608: W tensorflow/core/framework/local_rendezvous.cc:404] Local rendezvous is aborting with status: OUT_OF_RANGE: End of sequence\n",
      "\t [[{{node IteratorGetNext}}]]\n"
     ]
    },
    {
     "name": "stdout",
     "output_type": "stream",
     "text": [
      "129/129 - 32s - 250ms/step - auc_2: 0.9950 - loss: 0.0685 - val_auc_2: 0.9859 - val_loss: 0.1551\n",
      "Epoch 178/400\n",
      "129/129 - 0s - 71us/step - auc_2: 0.0000e+00 - loss: 0.0000e+00 - val_auc_2: 0.0000e+00 - val_loss: 0.0000e+00\n",
      "Epoch 179/400\n"
     ]
    },
    {
     "name": "stderr",
     "output_type": "stream",
     "text": [
      "2024-03-31 19:41:00.131823: W tensorflow/core/framework/local_rendezvous.cc:404] Local rendezvous is aborting with status: OUT_OF_RANGE: End of sequence\n",
      "\t [[{{node IteratorGetNext}}]]\n",
      "2024-03-31 19:41:00.135351: W tensorflow/core/framework/local_rendezvous.cc:404] Local rendezvous is aborting with status: OUT_OF_RANGE: End of sequence\n",
      "\t [[{{node IteratorGetNext}}]]\n"
     ]
    },
    {
     "name": "stdout",
     "output_type": "stream",
     "text": [
      "129/129 - 31s - 243ms/step - auc_2: 0.9941 - loss: 0.0718 - val_auc_2: 0.9885 - val_loss: 0.1564\n",
      "Epoch 180/400\n",
      "129/129 - 0s - 60us/step - auc_2: 0.0000e+00 - loss: 0.0000e+00 - val_auc_2: 0.0000e+00 - val_loss: 0.0000e+00\n",
      "Epoch 181/400\n"
     ]
    },
    {
     "name": "stderr",
     "output_type": "stream",
     "text": [
      "2024-03-31 19:41:31.455858: W tensorflow/core/framework/local_rendezvous.cc:404] Local rendezvous is aborting with status: OUT_OF_RANGE: End of sequence\n",
      "\t [[{{node IteratorGetNext}}]]\n",
      "2024-03-31 19:41:31.458643: W tensorflow/core/framework/local_rendezvous.cc:404] Local rendezvous is aborting with status: OUT_OF_RANGE: End of sequence\n",
      "\t [[{{node IteratorGetNext}}]]\n"
     ]
    },
    {
     "name": "stdout",
     "output_type": "stream",
     "text": [
      "129/129 - 31s - 238ms/step - auc_2: 0.9944 - loss: 0.0805 - val_auc_2: 0.9855 - val_loss: 0.1457\n",
      "Epoch 182/400\n",
      "129/129 - 0s - 54us/step - auc_2: 0.0000e+00 - loss: 0.0000e+00 - val_auc_2: 0.0000e+00 - val_loss: 0.0000e+00\n",
      "Epoch 183/400\n"
     ]
    },
    {
     "name": "stderr",
     "output_type": "stream",
     "text": [
      "2024-03-31 19:42:02.173412: W tensorflow/core/framework/local_rendezvous.cc:404] Local rendezvous is aborting with status: OUT_OF_RANGE: End of sequence\n",
      "\t [[{{node IteratorGetNext}}]]\n",
      "2024-03-31 19:42:02.175801: W tensorflow/core/framework/local_rendezvous.cc:404] Local rendezvous is aborting with status: OUT_OF_RANGE: End of sequence\n",
      "\t [[{{node IteratorGetNext}}]]\n"
     ]
    },
    {
     "name": "stdout",
     "output_type": "stream",
     "text": [
      "129/129 - 34s - 264ms/step - auc_2: 0.9950 - loss: 0.0754 - val_auc_2: 0.9884 - val_loss: 0.1218\n",
      "Epoch 184/400\n",
      "129/129 - 0s - 78us/step - auc_2: 0.0000e+00 - loss: 0.0000e+00 - val_auc_2: 0.0000e+00 - val_loss: 0.0000e+00\n",
      "Epoch 185/400\n"
     ]
    },
    {
     "name": "stderr",
     "output_type": "stream",
     "text": [
      "2024-03-31 19:42:36.236911: W tensorflow/core/framework/local_rendezvous.cc:404] Local rendezvous is aborting with status: OUT_OF_RANGE: End of sequence\n",
      "\t [[{{node IteratorGetNext}}]]\n",
      "2024-03-31 19:42:36.240318: W tensorflow/core/framework/local_rendezvous.cc:404] Local rendezvous is aborting with status: OUT_OF_RANGE: End of sequence\n",
      "\t [[{{node IteratorGetNext}}]]\n"
     ]
    },
    {
     "name": "stdout",
     "output_type": "stream",
     "text": [
      "129/129 - 33s - 256ms/step - auc_2: 0.9945 - loss: 0.0800 - val_auc_2: 0.9892 - val_loss: 0.1176\n",
      "Epoch 186/400\n",
      "129/129 - 0s - 70us/step - auc_2: 0.0000e+00 - loss: 0.0000e+00 - val_auc_2: 0.0000e+00 - val_loss: 0.0000e+00\n",
      "Epoch 187/400\n"
     ]
    },
    {
     "name": "stderr",
     "output_type": "stream",
     "text": [
      "2024-03-31 19:43:09.233032: W tensorflow/core/framework/local_rendezvous.cc:404] Local rendezvous is aborting with status: OUT_OF_RANGE: End of sequence\n",
      "\t [[{{node IteratorGetNext}}]]\n",
      "2024-03-31 19:43:09.236398: W tensorflow/core/framework/local_rendezvous.cc:404] Local rendezvous is aborting with status: OUT_OF_RANGE: End of sequence\n",
      "\t [[{{node IteratorGetNext}}]]\n"
     ]
    },
    {
     "name": "stdout",
     "output_type": "stream",
     "text": [
      "129/129 - 32s - 250ms/step - auc_2: 0.9946 - loss: 0.0798 - val_auc_2: 0.9757 - val_loss: 0.1483\n",
      "Epoch 188/400\n",
      "129/129 - 0s - 93us/step - auc_2: 0.0000e+00 - loss: 0.0000e+00 - val_auc_2: 0.0000e+00 - val_loss: 0.0000e+00\n",
      "Epoch 189/400\n"
     ]
    },
    {
     "name": "stderr",
     "output_type": "stream",
     "text": [
      "2024-03-31 19:43:41.512202: W tensorflow/core/framework/local_rendezvous.cc:404] Local rendezvous is aborting with status: OUT_OF_RANGE: End of sequence\n",
      "\t [[{{node IteratorGetNext}}]]\n",
      "2024-03-31 19:43:41.516718: W tensorflow/core/framework/local_rendezvous.cc:404] Local rendezvous is aborting with status: OUT_OF_RANGE: End of sequence\n",
      "\t [[{{node IteratorGetNext}}]]\n"
     ]
    },
    {
     "name": "stdout",
     "output_type": "stream",
     "text": [
      "129/129 - 33s - 252ms/step - auc_2: 0.9958 - loss: 0.0713 - val_auc_2: 0.9857 - val_loss: 0.1237\n",
      "Epoch 190/400\n",
      "129/129 - 0s - 60us/step - auc_2: 0.0000e+00 - loss: 0.0000e+00 - val_auc_2: 0.0000e+00 - val_loss: 0.0000e+00\n",
      "Epoch 191/400\n"
     ]
    },
    {
     "name": "stderr",
     "output_type": "stream",
     "text": [
      "2024-03-31 19:44:14.034664: W tensorflow/core/framework/local_rendezvous.cc:404] Local rendezvous is aborting with status: OUT_OF_RANGE: End of sequence\n",
      "\t [[{{node IteratorGetNext}}]]\n",
      "2024-03-31 19:44:14.037412: W tensorflow/core/framework/local_rendezvous.cc:404] Local rendezvous is aborting with status: OUT_OF_RANGE: End of sequence\n",
      "\t [[{{node IteratorGetNext}}]]\n"
     ]
    },
    {
     "name": "stdout",
     "output_type": "stream",
     "text": [
      "129/129 - 31s - 237ms/step - auc_2: 0.9946 - loss: 0.0793 - val_auc_2: 0.9808 - val_loss: 0.1530\n",
      "Epoch 192/400\n",
      "129/129 - 0s - 57us/step - auc_2: 0.0000e+00 - loss: 0.0000e+00 - val_auc_2: 0.0000e+00 - val_loss: 0.0000e+00\n",
      "Epoch 193/400\n"
     ]
    },
    {
     "name": "stderr",
     "output_type": "stream",
     "text": [
      "2024-03-31 19:44:44.623972: W tensorflow/core/framework/local_rendezvous.cc:404] Local rendezvous is aborting with status: OUT_OF_RANGE: End of sequence\n",
      "\t [[{{node IteratorGetNext}}]]\n",
      "2024-03-31 19:44:44.626546: W tensorflow/core/framework/local_rendezvous.cc:404] Local rendezvous is aborting with status: OUT_OF_RANGE: End of sequence\n",
      "\t [[{{node IteratorGetNext}}]]\n"
     ]
    },
    {
     "name": "stdout",
     "output_type": "stream",
     "text": [
      "129/129 - 32s - 245ms/step - auc_2: 0.9960 - loss: 0.0674 - val_auc_2: 0.9822 - val_loss: 0.1452\n",
      "Epoch 194/400\n",
      "129/129 - 0s - 60us/step - auc_2: 0.0000e+00 - loss: 0.0000e+00 - val_auc_2: 0.0000e+00 - val_loss: 0.0000e+00\n",
      "Epoch 195/400\n"
     ]
    },
    {
     "name": "stderr",
     "output_type": "stream",
     "text": [
      "2024-03-31 19:45:16.279373: W tensorflow/core/framework/local_rendezvous.cc:404] Local rendezvous is aborting with status: OUT_OF_RANGE: End of sequence\n",
      "\t [[{{node IteratorGetNext}}]]\n",
      "2024-03-31 19:45:16.281912: W tensorflow/core/framework/local_rendezvous.cc:404] Local rendezvous is aborting with status: OUT_OF_RANGE: End of sequence\n",
      "\t [[{{node IteratorGetNext}}]]\n"
     ]
    },
    {
     "name": "stdout",
     "output_type": "stream",
     "text": [
      "129/129 - 32s - 252ms/step - auc_2: 0.9957 - loss: 0.0740 - val_auc_2: 0.9792 - val_loss: 0.1934\n",
      "Epoch 196/400\n",
      "129/129 - 0s - 65us/step - auc_2: 0.0000e+00 - loss: 0.0000e+00 - val_auc_2: 0.0000e+00 - val_loss: 0.0000e+00\n",
      "Epoch 197/400\n"
     ]
    },
    {
     "name": "stderr",
     "output_type": "stream",
     "text": [
      "2024-03-31 19:45:48.744137: W tensorflow/core/framework/local_rendezvous.cc:404] Local rendezvous is aborting with status: OUT_OF_RANGE: End of sequence\n",
      "\t [[{{node IteratorGetNext}}]]\n",
      "2024-03-31 19:45:48.747082: W tensorflow/core/framework/local_rendezvous.cc:404] Local rendezvous is aborting with status: OUT_OF_RANGE: End of sequence\n",
      "\t [[{{node IteratorGetNext}}]]\n"
     ]
    },
    {
     "name": "stdout",
     "output_type": "stream",
     "text": [
      "129/129 - 31s - 243ms/step - auc_2: 0.9954 - loss: 0.0743 - val_auc_2: 0.9810 - val_loss: 0.1573\n",
      "Epoch 198/400\n",
      "129/129 - 0s - 65us/step - auc_2: 0.0000e+00 - loss: 0.0000e+00 - val_auc_2: 0.0000e+00 - val_loss: 0.0000e+00\n",
      "Epoch 199/400\n"
     ]
    },
    {
     "name": "stderr",
     "output_type": "stream",
     "text": [
      "2024-03-31 19:46:20.146876: W tensorflow/core/framework/local_rendezvous.cc:404] Local rendezvous is aborting with status: OUT_OF_RANGE: End of sequence\n",
      "\t [[{{node IteratorGetNext}}]]\n",
      "2024-03-31 19:46:20.150083: W tensorflow/core/framework/local_rendezvous.cc:404] Local rendezvous is aborting with status: OUT_OF_RANGE: End of sequence\n",
      "\t [[{{node IteratorGetNext}}]]\n"
     ]
    },
    {
     "name": "stdout",
     "output_type": "stream",
     "text": [
      "129/129 - 32s - 244ms/step - auc_2: 0.9962 - loss: 0.0573 - val_auc_2: 0.9868 - val_loss: 0.1668\n",
      "Epoch 200/400\n",
      "129/129 - 0s - 54us/step - auc_2: 0.0000e+00 - loss: 0.0000e+00 - val_auc_2: 0.0000e+00 - val_loss: 0.0000e+00\n",
      "Epoch 201/400\n"
     ]
    },
    {
     "name": "stderr",
     "output_type": "stream",
     "text": [
      "2024-03-31 19:46:51.685389: W tensorflow/core/framework/local_rendezvous.cc:404] Local rendezvous is aborting with status: OUT_OF_RANGE: End of sequence\n",
      "\t [[{{node IteratorGetNext}}]]\n",
      "2024-03-31 19:46:51.687847: W tensorflow/core/framework/local_rendezvous.cc:404] Local rendezvous is aborting with status: OUT_OF_RANGE: End of sequence\n",
      "\t [[{{node IteratorGetNext}}]]\n"
     ]
    },
    {
     "name": "stdout",
     "output_type": "stream",
     "text": [
      "129/129 - 30s - 232ms/step - auc_2: 0.9958 - loss: 0.0718 - val_auc_2: 0.9846 - val_loss: 0.1200\n",
      "Epoch 202/400\n",
      "129/129 - 0s - 66us/step - auc_2: 0.0000e+00 - loss: 0.0000e+00 - val_auc_2: 0.0000e+00 - val_loss: 0.0000e+00\n",
      "Epoch 203/400\n"
     ]
    },
    {
     "name": "stderr",
     "output_type": "stream",
     "text": [
      "2024-03-31 19:47:21.645029: W tensorflow/core/framework/local_rendezvous.cc:404] Local rendezvous is aborting with status: OUT_OF_RANGE: End of sequence\n",
      "\t [[{{node IteratorGetNext}}]]\n",
      "2024-03-31 19:47:21.648125: W tensorflow/core/framework/local_rendezvous.cc:404] Local rendezvous is aborting with status: OUT_OF_RANGE: End of sequence\n",
      "\t [[{{node IteratorGetNext}}]]\n"
     ]
    },
    {
     "name": "stdout",
     "output_type": "stream",
     "text": [
      "129/129 - 32s - 251ms/step - auc_2: 0.9951 - loss: 0.0731 - val_auc_2: 0.9817 - val_loss: 0.1493\n",
      "Epoch 204/400\n",
      "129/129 - 0s - 60us/step - auc_2: 0.0000e+00 - loss: 0.0000e+00 - val_auc_2: 0.0000e+00 - val_loss: 0.0000e+00\n",
      "Epoch 205/400\n"
     ]
    },
    {
     "name": "stderr",
     "output_type": "stream",
     "text": [
      "2024-03-31 19:47:53.981326: W tensorflow/core/framework/local_rendezvous.cc:404] Local rendezvous is aborting with status: OUT_OF_RANGE: End of sequence\n",
      "\t [[{{node IteratorGetNext}}]]\n",
      "2024-03-31 19:47:53.984156: W tensorflow/core/framework/local_rendezvous.cc:404] Local rendezvous is aborting with status: OUT_OF_RANGE: End of sequence\n",
      "\t [[{{node IteratorGetNext}}]]\n"
     ]
    },
    {
     "name": "stdout",
     "output_type": "stream",
     "text": [
      "129/129 - 30s - 231ms/step - auc_2: 0.9959 - loss: 0.0637 - val_auc_2: 0.9831 - val_loss: 0.1432\n",
      "Epoch 206/400\n",
      "129/129 - 0s - 57us/step - auc_2: 0.0000e+00 - loss: 0.0000e+00 - val_auc_2: 0.0000e+00 - val_loss: 0.0000e+00\n",
      "Epoch 207/400\n"
     ]
    },
    {
     "name": "stderr",
     "output_type": "stream",
     "text": [
      "2024-03-31 19:48:23.784305: W tensorflow/core/framework/local_rendezvous.cc:404] Local rendezvous is aborting with status: OUT_OF_RANGE: End of sequence\n",
      "\t [[{{node IteratorGetNext}}]]\n",
      "2024-03-31 19:48:23.786839: W tensorflow/core/framework/local_rendezvous.cc:404] Local rendezvous is aborting with status: OUT_OF_RANGE: End of sequence\n",
      "\t [[{{node IteratorGetNext}}]]\n"
     ]
    },
    {
     "name": "stdout",
     "output_type": "stream",
     "text": [
      "129/129 - 30s - 233ms/step - auc_2: 0.9964 - loss: 0.0631 - val_auc_2: 0.9841 - val_loss: 0.1383\n",
      "Epoch 208/400\n",
      "129/129 - 0s - 57us/step - auc_2: 0.0000e+00 - loss: 0.0000e+00 - val_auc_2: 0.0000e+00 - val_loss: 0.0000e+00\n",
      "Epoch 209/400\n"
     ]
    },
    {
     "name": "stderr",
     "output_type": "stream",
     "text": [
      "2024-03-31 19:48:53.856703: W tensorflow/core/framework/local_rendezvous.cc:404] Local rendezvous is aborting with status: OUT_OF_RANGE: End of sequence\n",
      "\t [[{{node IteratorGetNext}}]]\n",
      "2024-03-31 19:48:53.859196: W tensorflow/core/framework/local_rendezvous.cc:404] Local rendezvous is aborting with status: OUT_OF_RANGE: End of sequence\n",
      "\t [[{{node IteratorGetNext}}]]\n"
     ]
    },
    {
     "name": "stdout",
     "output_type": "stream",
     "text": [
      "129/129 - 30s - 233ms/step - auc_2: 0.9958 - loss: 0.0642 - val_auc_2: 0.9848 - val_loss: 0.1408\n",
      "Epoch 210/400\n",
      "129/129 - 0s - 57us/step - auc_2: 0.0000e+00 - loss: 0.0000e+00 - val_auc_2: 0.0000e+00 - val_loss: 0.0000e+00\n",
      "Epoch 211/400\n"
     ]
    },
    {
     "name": "stderr",
     "output_type": "stream",
     "text": [
      "2024-03-31 19:49:23.937822: W tensorflow/core/framework/local_rendezvous.cc:404] Local rendezvous is aborting with status: OUT_OF_RANGE: End of sequence\n",
      "\t [[{{node IteratorGetNext}}]]\n",
      "2024-03-31 19:49:23.940425: W tensorflow/core/framework/local_rendezvous.cc:404] Local rendezvous is aborting with status: OUT_OF_RANGE: End of sequence\n",
      "\t [[{{node IteratorGetNext}}]]\n"
     ]
    },
    {
     "name": "stdout",
     "output_type": "stream",
     "text": [
      "129/129 - 31s - 238ms/step - auc_2: 0.9956 - loss: 0.0678 - val_auc_2: 0.9821 - val_loss: 0.1300\n",
      "Epoch 212/400\n",
      "129/129 - 0s - 57us/step - auc_2: 0.0000e+00 - loss: 0.0000e+00 - val_auc_2: 0.0000e+00 - val_loss: 0.0000e+00\n",
      "Epoch 213/400\n"
     ]
    },
    {
     "name": "stderr",
     "output_type": "stream",
     "text": [
      "2024-03-31 19:49:54.674703: W tensorflow/core/framework/local_rendezvous.cc:404] Local rendezvous is aborting with status: OUT_OF_RANGE: End of sequence\n",
      "\t [[{{node IteratorGetNext}}]]\n",
      "2024-03-31 19:49:54.677434: W tensorflow/core/framework/local_rendezvous.cc:404] Local rendezvous is aborting with status: OUT_OF_RANGE: End of sequence\n",
      "\t [[{{node IteratorGetNext}}]]\n"
     ]
    },
    {
     "name": "stdout",
     "output_type": "stream",
     "text": [
      "129/129 - 32s - 248ms/step - auc_2: 0.9958 - loss: 0.0649 - val_auc_2: 0.9837 - val_loss: 0.1420\n",
      "Epoch 214/400\n",
      "129/129 - 0s - 77us/step - auc_2: 0.0000e+00 - loss: 0.0000e+00 - val_auc_2: 0.0000e+00 - val_loss: 0.0000e+00\n",
      "Epoch 215/400\n"
     ]
    },
    {
     "name": "stderr",
     "output_type": "stream",
     "text": [
      "2024-03-31 19:50:26.634946: W tensorflow/core/framework/local_rendezvous.cc:404] Local rendezvous is aborting with status: OUT_OF_RANGE: End of sequence\n",
      "\t [[{{node IteratorGetNext}}]]\n",
      "2024-03-31 19:50:26.638379: W tensorflow/core/framework/local_rendezvous.cc:404] Local rendezvous is aborting with status: OUT_OF_RANGE: End of sequence\n",
      "\t [[{{node IteratorGetNext}}]]\n"
     ]
    },
    {
     "name": "stdout",
     "output_type": "stream",
     "text": [
      "129/129 - 30s - 233ms/step - auc_2: 0.9963 - loss: 0.0672 - val_auc_2: 0.9855 - val_loss: 0.1342\n",
      "Epoch 216/400\n",
      "129/129 - 0s - 62us/step - auc_2: 0.0000e+00 - loss: 0.0000e+00 - val_auc_2: 0.0000e+00 - val_loss: 0.0000e+00\n",
      "Epoch 217/400\n"
     ]
    },
    {
     "name": "stderr",
     "output_type": "stream",
     "text": [
      "2024-03-31 19:50:56.756267: W tensorflow/core/framework/local_rendezvous.cc:404] Local rendezvous is aborting with status: OUT_OF_RANGE: End of sequence\n",
      "\t [[{{node IteratorGetNext}}]]\n",
      "2024-03-31 19:50:56.759014: W tensorflow/core/framework/local_rendezvous.cc:404] Local rendezvous is aborting with status: OUT_OF_RANGE: End of sequence\n",
      "\t [[{{node IteratorGetNext}}]]\n"
     ]
    },
    {
     "name": "stdout",
     "output_type": "stream",
     "text": [
      "129/129 - 30s - 235ms/step - auc_2: 0.9964 - loss: 0.0633 - val_auc_2: 0.9812 - val_loss: 0.1447\n",
      "Epoch 218/400\n",
      "129/129 - 0s - 61us/step - auc_2: 0.0000e+00 - loss: 0.0000e+00 - val_auc_2: 0.0000e+00 - val_loss: 0.0000e+00\n",
      "Epoch 219/400\n"
     ]
    },
    {
     "name": "stderr",
     "output_type": "stream",
     "text": [
      "2024-03-31 19:51:27.091721: W tensorflow/core/framework/local_rendezvous.cc:404] Local rendezvous is aborting with status: OUT_OF_RANGE: End of sequence\n",
      "\t [[{{node IteratorGetNext}}]]\n",
      "2024-03-31 19:51:27.094721: W tensorflow/core/framework/local_rendezvous.cc:404] Local rendezvous is aborting with status: OUT_OF_RANGE: End of sequence\n",
      "\t [[{{node IteratorGetNext}}]]\n"
     ]
    },
    {
     "name": "stdout",
     "output_type": "stream",
     "text": [
      "129/129 - 33s - 256ms/step - auc_2: 0.9966 - loss: 0.0663 - val_auc_2: 0.9817 - val_loss: 0.1596\n",
      "Epoch 220/400\n",
      "129/129 - 0s - 94us/step - auc_2: 0.0000e+00 - loss: 0.0000e+00 - val_auc_2: 0.0000e+00 - val_loss: 0.0000e+00\n",
      "Epoch 221/400\n"
     ]
    },
    {
     "name": "stderr",
     "output_type": "stream",
     "text": [
      "2024-03-31 19:52:00.178420: W tensorflow/core/framework/local_rendezvous.cc:404] Local rendezvous is aborting with status: OUT_OF_RANGE: End of sequence\n",
      "\t [[{{node IteratorGetNext}}]]\n",
      "2024-03-31 19:52:00.182242: W tensorflow/core/framework/local_rendezvous.cc:404] Local rendezvous is aborting with status: OUT_OF_RANGE: End of sequence\n",
      "\t [[{{node IteratorGetNext}}]]\n"
     ]
    },
    {
     "name": "stdout",
     "output_type": "stream",
     "text": [
      "129/129 - 33s - 255ms/step - auc_2: 0.9962 - loss: 0.0635 - val_auc_2: 0.9847 - val_loss: 0.1323\n",
      "Epoch 222/400\n",
      "129/129 - 0s - 74us/step - auc_2: 0.0000e+00 - loss: 0.0000e+00 - val_auc_2: 0.0000e+00 - val_loss: 0.0000e+00\n",
      "Epoch 223/400\n"
     ]
    },
    {
     "name": "stderr",
     "output_type": "stream",
     "text": [
      "2024-03-31 19:52:33.025091: W tensorflow/core/framework/local_rendezvous.cc:404] Local rendezvous is aborting with status: OUT_OF_RANGE: End of sequence\n",
      "\t [[{{node IteratorGetNext}}]]\n",
      "2024-03-31 19:52:33.028529: W tensorflow/core/framework/local_rendezvous.cc:404] Local rendezvous is aborting with status: OUT_OF_RANGE: End of sequence\n",
      "\t [[{{node IteratorGetNext}}]]\n"
     ]
    },
    {
     "name": "stdout",
     "output_type": "stream",
     "text": [
      "129/129 - 33s - 257ms/step - auc_2: 0.9957 - loss: 0.0662 - val_auc_2: 0.9842 - val_loss: 0.1390\n",
      "Epoch 224/400\n",
      "129/129 - 0s - 73us/step - auc_2: 0.0000e+00 - loss: 0.0000e+00 - val_auc_2: 0.0000e+00 - val_loss: 0.0000e+00\n",
      "Epoch 225/400\n"
     ]
    },
    {
     "name": "stderr",
     "output_type": "stream",
     "text": [
      "2024-03-31 19:53:06.162665: W tensorflow/core/framework/local_rendezvous.cc:404] Local rendezvous is aborting with status: OUT_OF_RANGE: End of sequence\n",
      "\t [[{{node IteratorGetNext}}]]\n",
      "2024-03-31 19:53:06.166014: W tensorflow/core/framework/local_rendezvous.cc:404] Local rendezvous is aborting with status: OUT_OF_RANGE: End of sequence\n",
      "\t [[{{node IteratorGetNext}}]]\n"
     ]
    },
    {
     "name": "stdout",
     "output_type": "stream",
     "text": [
      "129/129 - 30s - 236ms/step - auc_2: 0.9963 - loss: 0.0657 - val_auc_2: 0.9790 - val_loss: 0.1386\n",
      "Epoch 226/400\n",
      "129/129 - 0s - 61us/step - auc_2: 0.0000e+00 - loss: 0.0000e+00 - val_auc_2: 0.0000e+00 - val_loss: 0.0000e+00\n",
      "Epoch 227/400\n"
     ]
    },
    {
     "name": "stderr",
     "output_type": "stream",
     "text": [
      "2024-03-31 19:53:36.638791: W tensorflow/core/framework/local_rendezvous.cc:404] Local rendezvous is aborting with status: OUT_OF_RANGE: End of sequence\n",
      "\t [[{{node IteratorGetNext}}]]\n",
      "2024-03-31 19:53:36.641581: W tensorflow/core/framework/local_rendezvous.cc:404] Local rendezvous is aborting with status: OUT_OF_RANGE: End of sequence\n",
      "\t [[{{node IteratorGetNext}}]]\n"
     ]
    },
    {
     "name": "stdout",
     "output_type": "stream",
     "text": [
      "129/129 - 33s - 259ms/step - auc_2: 0.9960 - loss: 0.0672 - val_auc_2: 0.9851 - val_loss: 0.1344\n",
      "Epoch 228/400\n",
      "129/129 - 0s - 73us/step - auc_2: 0.0000e+00 - loss: 0.0000e+00 - val_auc_2: 0.0000e+00 - val_loss: 0.0000e+00\n",
      "Epoch 229/400\n"
     ]
    },
    {
     "name": "stderr",
     "output_type": "stream",
     "text": [
      "2024-03-31 19:54:10.029867: W tensorflow/core/framework/local_rendezvous.cc:404] Local rendezvous is aborting with status: OUT_OF_RANGE: End of sequence\n",
      "\t [[{{node IteratorGetNext}}]]\n",
      "2024-03-31 19:54:10.032981: W tensorflow/core/framework/local_rendezvous.cc:404] Local rendezvous is aborting with status: OUT_OF_RANGE: End of sequence\n",
      "\t [[{{node IteratorGetNext}}]]\n"
     ]
    },
    {
     "name": "stdout",
     "output_type": "stream",
     "text": [
      "129/129 - 33s - 257ms/step - auc_2: 0.9967 - loss: 0.0600 - val_auc_2: 0.9677 - val_loss: 0.1822\n",
      "Epoch 230/400\n",
      "129/129 - 0s - 65us/step - auc_2: 0.0000e+00 - loss: 0.0000e+00 - val_auc_2: 0.0000e+00 - val_loss: 0.0000e+00\n",
      "Epoch 231/400\n"
     ]
    },
    {
     "name": "stderr",
     "output_type": "stream",
     "text": [
      "2024-03-31 19:54:43.211250: W tensorflow/core/framework/local_rendezvous.cc:404] Local rendezvous is aborting with status: OUT_OF_RANGE: End of sequence\n",
      "\t [[{{node IteratorGetNext}}]]\n",
      "2024-03-31 19:54:43.214083: W tensorflow/core/framework/local_rendezvous.cc:404] Local rendezvous is aborting with status: OUT_OF_RANGE: End of sequence\n",
      "\t [[{{node IteratorGetNext}}]]\n"
     ]
    },
    {
     "name": "stdout",
     "output_type": "stream",
     "text": [
      "129/129 - 31s - 241ms/step - auc_2: 0.9944 - loss: 0.0770 - val_auc_2: 0.9869 - val_loss: 0.1596\n",
      "Epoch 232/400\n",
      "129/129 - 0s - 59us/step - auc_2: 0.0000e+00 - loss: 0.0000e+00 - val_auc_2: 0.0000e+00 - val_loss: 0.0000e+00\n",
      "Epoch 233/400\n"
     ]
    },
    {
     "name": "stderr",
     "output_type": "stream",
     "text": [
      "2024-03-31 19:55:14.264114: W tensorflow/core/framework/local_rendezvous.cc:404] Local rendezvous is aborting with status: OUT_OF_RANGE: End of sequence\n",
      "\t [[{{node IteratorGetNext}}]]\n",
      "2024-03-31 19:55:14.266777: W tensorflow/core/framework/local_rendezvous.cc:404] Local rendezvous is aborting with status: OUT_OF_RANGE: End of sequence\n",
      "\t [[{{node IteratorGetNext}}]]\n"
     ]
    },
    {
     "name": "stdout",
     "output_type": "stream",
     "text": [
      "129/129 - 31s - 241ms/step - auc_2: 0.9960 - loss: 0.0673 - val_auc_2: 0.9833 - val_loss: 0.1304\n",
      "Epoch 234/400\n",
      "129/129 - 0s - 59us/step - auc_2: 0.0000e+00 - loss: 0.0000e+00 - val_auc_2: 0.0000e+00 - val_loss: 0.0000e+00\n",
      "Epoch 235/400\n"
     ]
    },
    {
     "name": "stderr",
     "output_type": "stream",
     "text": [
      "2024-03-31 19:55:45.375805: W tensorflow/core/framework/local_rendezvous.cc:404] Local rendezvous is aborting with status: OUT_OF_RANGE: End of sequence\n",
      "\t [[{{node IteratorGetNext}}]]\n",
      "2024-03-31 19:55:45.378485: W tensorflow/core/framework/local_rendezvous.cc:404] Local rendezvous is aborting with status: OUT_OF_RANGE: End of sequence\n",
      "\t [[{{node IteratorGetNext}}]]\n"
     ]
    },
    {
     "name": "stdout",
     "output_type": "stream",
     "text": [
      "129/129 - 31s - 239ms/step - auc_2: 0.9969 - loss: 0.0599 - val_auc_2: 0.9836 - val_loss: 0.1346\n",
      "Epoch 236/400\n",
      "129/129 - 0s - 62us/step - auc_2: 0.0000e+00 - loss: 0.0000e+00 - val_auc_2: 0.0000e+00 - val_loss: 0.0000e+00\n",
      "Epoch 237/400\n"
     ]
    },
    {
     "name": "stderr",
     "output_type": "stream",
     "text": [
      "2024-03-31 19:56:16.175635: W tensorflow/core/framework/local_rendezvous.cc:404] Local rendezvous is aborting with status: OUT_OF_RANGE: End of sequence\n",
      "\t [[{{node IteratorGetNext}}]]\n",
      "2024-03-31 19:56:16.178426: W tensorflow/core/framework/local_rendezvous.cc:404] Local rendezvous is aborting with status: OUT_OF_RANGE: End of sequence\n",
      "\t [[{{node IteratorGetNext}}]]\n"
     ]
    },
    {
     "name": "stdout",
     "output_type": "stream",
     "text": [
      "129/129 - 31s - 237ms/step - auc_2: 0.9968 - loss: 0.0613 - val_auc_2: 0.9878 - val_loss: 0.1296\n",
      "Epoch 238/400\n",
      "129/129 - 0s - 57us/step - auc_2: 0.0000e+00 - loss: 0.0000e+00 - val_auc_2: 0.0000e+00 - val_loss: 0.0000e+00\n",
      "Epoch 239/400\n"
     ]
    },
    {
     "name": "stderr",
     "output_type": "stream",
     "text": [
      "2024-03-31 19:56:46.738582: W tensorflow/core/framework/local_rendezvous.cc:404] Local rendezvous is aborting with status: OUT_OF_RANGE: End of sequence\n",
      "\t [[{{node IteratorGetNext}}]]\n",
      "2024-03-31 19:56:46.741145: W tensorflow/core/framework/local_rendezvous.cc:404] Local rendezvous is aborting with status: OUT_OF_RANGE: End of sequence\n",
      "\t [[{{node IteratorGetNext}}]]\n"
     ]
    },
    {
     "name": "stdout",
     "output_type": "stream",
     "text": [
      "129/129 - 31s - 238ms/step - auc_2: 0.9957 - loss: 0.0658 - val_auc_2: 0.9842 - val_loss: 0.1302\n",
      "Epoch 240/400\n",
      "129/129 - 0s - 81us/step - auc_2: 0.0000e+00 - loss: 0.0000e+00 - val_auc_2: 0.0000e+00 - val_loss: 0.0000e+00\n",
      "Epoch 241/400\n"
     ]
    },
    {
     "name": "stderr",
     "output_type": "stream",
     "text": [
      "2024-03-31 19:57:17.432614: W tensorflow/core/framework/local_rendezvous.cc:404] Local rendezvous is aborting with status: OUT_OF_RANGE: End of sequence\n",
      "\t [[{{node IteratorGetNext}}]]\n",
      "2024-03-31 19:57:17.437664: W tensorflow/core/framework/local_rendezvous.cc:404] Local rendezvous is aborting with status: OUT_OF_RANGE: End of sequence\n",
      "\t [[{{node IteratorGetNext}}]]\n"
     ]
    },
    {
     "name": "stdout",
     "output_type": "stream",
     "text": [
      "129/129 - 31s - 240ms/step - auc_2: 0.9967 - loss: 0.0596 - val_auc_2: 0.9884 - val_loss: 0.1148\n",
      "Epoch 242/400\n",
      "129/129 - 0s - 65us/step - auc_2: 0.0000e+00 - loss: 0.0000e+00 - val_auc_2: 0.0000e+00 - val_loss: 0.0000e+00\n",
      "Epoch 243/400\n"
     ]
    },
    {
     "name": "stderr",
     "output_type": "stream",
     "text": [
      "2024-03-31 19:57:48.431062: W tensorflow/core/framework/local_rendezvous.cc:404] Local rendezvous is aborting with status: OUT_OF_RANGE: End of sequence\n",
      "\t [[{{node IteratorGetNext}}]]\n",
      "2024-03-31 19:57:48.434167: W tensorflow/core/framework/local_rendezvous.cc:404] Local rendezvous is aborting with status: OUT_OF_RANGE: End of sequence\n",
      "\t [[{{node IteratorGetNext}}]]\n"
     ]
    },
    {
     "name": "stdout",
     "output_type": "stream",
     "text": [
      "129/129 - 33s - 255ms/step - auc_2: 0.9961 - loss: 0.0648 - val_auc_2: 0.9846 - val_loss: 0.1362\n",
      "Epoch 244/400\n",
      "129/129 - 0s - 81us/step - auc_2: 0.0000e+00 - loss: 0.0000e+00 - val_auc_2: 0.0000e+00 - val_loss: 0.0000e+00\n",
      "Epoch 245/400\n"
     ]
    },
    {
     "name": "stderr",
     "output_type": "stream",
     "text": [
      "2024-03-31 19:58:21.292040: W tensorflow/core/framework/local_rendezvous.cc:404] Local rendezvous is aborting with status: OUT_OF_RANGE: End of sequence\n",
      "\t [[{{node IteratorGetNext}}]]\n",
      "2024-03-31 19:58:21.296363: W tensorflow/core/framework/local_rendezvous.cc:404] Local rendezvous is aborting with status: OUT_OF_RANGE: End of sequence\n",
      "\t [[{{node IteratorGetNext}}]]\n"
     ]
    },
    {
     "name": "stdout",
     "output_type": "stream",
     "text": [
      "129/129 - 31s - 237ms/step - auc_2: 0.9973 - loss: 0.0553 - val_auc_2: 0.9782 - val_loss: 0.1588\n",
      "Epoch 246/400\n",
      "129/129 - 0s - 64us/step - auc_2: 0.0000e+00 - loss: 0.0000e+00 - val_auc_2: 0.0000e+00 - val_loss: 0.0000e+00\n",
      "Epoch 247/400\n"
     ]
    },
    {
     "name": "stderr",
     "output_type": "stream",
     "text": [
      "2024-03-31 19:58:51.818688: W tensorflow/core/framework/local_rendezvous.cc:404] Local rendezvous is aborting with status: OUT_OF_RANGE: End of sequence\n",
      "\t [[{{node IteratorGetNext}}]]\n",
      "2024-03-31 19:58:51.821677: W tensorflow/core/framework/local_rendezvous.cc:404] Local rendezvous is aborting with status: OUT_OF_RANGE: End of sequence\n",
      "\t [[{{node IteratorGetNext}}]]\n"
     ]
    },
    {
     "name": "stdout",
     "output_type": "stream",
     "text": [
      "129/129 - 30s - 235ms/step - auc_2: 0.9970 - loss: 0.0571 - val_auc_2: 0.9844 - val_loss: 0.1302\n",
      "Epoch 248/400\n",
      "129/129 - 0s - 58us/step - auc_2: 0.0000e+00 - loss: 0.0000e+00 - val_auc_2: 0.0000e+00 - val_loss: 0.0000e+00\n",
      "Epoch 249/400\n"
     ]
    },
    {
     "name": "stderr",
     "output_type": "stream",
     "text": [
      "2024-03-31 19:59:22.127621: W tensorflow/core/framework/local_rendezvous.cc:404] Local rendezvous is aborting with status: OUT_OF_RANGE: End of sequence\n",
      "\t [[{{node IteratorGetNext}}]]\n",
      "2024-03-31 19:59:22.130226: W tensorflow/core/framework/local_rendezvous.cc:404] Local rendezvous is aborting with status: OUT_OF_RANGE: End of sequence\n",
      "\t [[{{node IteratorGetNext}}]]\n"
     ]
    },
    {
     "name": "stdout",
     "output_type": "stream",
     "text": [
      "129/129 - 30s - 236ms/step - auc_2: 0.9973 - loss: 0.0583 - val_auc_2: 0.9831 - val_loss: 0.1562\n",
      "Epoch 250/400\n",
      "129/129 - 0s - 58us/step - auc_2: 0.0000e+00 - loss: 0.0000e+00 - val_auc_2: 0.0000e+00 - val_loss: 0.0000e+00\n",
      "Epoch 251/400\n"
     ]
    },
    {
     "name": "stderr",
     "output_type": "stream",
     "text": [
      "2024-03-31 19:59:52.571761: W tensorflow/core/framework/local_rendezvous.cc:404] Local rendezvous is aborting with status: OUT_OF_RANGE: End of sequence\n",
      "\t [[{{node IteratorGetNext}}]]\n",
      "2024-03-31 19:59:52.574310: W tensorflow/core/framework/local_rendezvous.cc:404] Local rendezvous is aborting with status: OUT_OF_RANGE: End of sequence\n",
      "\t [[{{node IteratorGetNext}}]]\n"
     ]
    },
    {
     "name": "stdout",
     "output_type": "stream",
     "text": [
      "129/129 - 30s - 235ms/step - auc_2: 0.9962 - loss: 0.0581 - val_auc_2: 0.9814 - val_loss: 0.1545\n",
      "Epoch 252/400\n",
      "129/129 - 0s - 56us/step - auc_2: 0.0000e+00 - loss: 0.0000e+00 - val_auc_2: 0.0000e+00 - val_loss: 0.0000e+00\n",
      "Epoch 253/400\n"
     ]
    },
    {
     "name": "stderr",
     "output_type": "stream",
     "text": [
      "2024-03-31 20:00:22.918052: W tensorflow/core/framework/local_rendezvous.cc:404] Local rendezvous is aborting with status: OUT_OF_RANGE: End of sequence\n",
      "\t [[{{node IteratorGetNext}}]]\n",
      "2024-03-31 20:00:22.920555: W tensorflow/core/framework/local_rendezvous.cc:404] Local rendezvous is aborting with status: OUT_OF_RANGE: End of sequence\n",
      "\t [[{{node IteratorGetNext}}]]\n"
     ]
    },
    {
     "name": "stdout",
     "output_type": "stream",
     "text": [
      "129/129 - 32s - 249ms/step - auc_2: 0.9968 - loss: 0.0584 - val_auc_2: 0.9880 - val_loss: 0.1338\n",
      "Epoch 254/400\n",
      "129/129 - 0s - 69us/step - auc_2: 0.0000e+00 - loss: 0.0000e+00 - val_auc_2: 0.0000e+00 - val_loss: 0.0000e+00\n",
      "Epoch 255/400\n"
     ]
    },
    {
     "name": "stderr",
     "output_type": "stream",
     "text": [
      "2024-03-31 20:00:55.002668: W tensorflow/core/framework/local_rendezvous.cc:404] Local rendezvous is aborting with status: OUT_OF_RANGE: End of sequence\n",
      "\t [[{{node IteratorGetNext}}]]\n",
      "2024-03-31 20:00:55.005884: W tensorflow/core/framework/local_rendezvous.cc:404] Local rendezvous is aborting with status: OUT_OF_RANGE: End of sequence\n",
      "\t [[{{node IteratorGetNext}}]]\n"
     ]
    },
    {
     "name": "stdout",
     "output_type": "stream",
     "text": [
      "129/129 - 31s - 240ms/step - auc_2: 0.9966 - loss: 0.0578 - val_auc_2: 0.9860 - val_loss: 0.1794\n",
      "Epoch 256/400\n",
      "129/129 - 0s - 61us/step - auc_2: 0.0000e+00 - loss: 0.0000e+00 - val_auc_2: 0.0000e+00 - val_loss: 0.0000e+00\n",
      "Epoch 257/400\n"
     ]
    },
    {
     "name": "stderr",
     "output_type": "stream",
     "text": [
      "2024-03-31 20:01:26.029820: W tensorflow/core/framework/local_rendezvous.cc:404] Local rendezvous is aborting with status: OUT_OF_RANGE: End of sequence\n",
      "\t [[{{node IteratorGetNext}}]]\n",
      "2024-03-31 20:01:26.032494: W tensorflow/core/framework/local_rendezvous.cc:404] Local rendezvous is aborting with status: OUT_OF_RANGE: End of sequence\n",
      "\t [[{{node IteratorGetNext}}]]\n"
     ]
    },
    {
     "name": "stdout",
     "output_type": "stream",
     "text": [
      "129/129 - 31s - 241ms/step - auc_2: 0.9966 - loss: 0.0602 - val_auc_2: 0.9842 - val_loss: 0.1858\n",
      "Epoch 258/400\n",
      "129/129 - 0s - 58us/step - auc_2: 0.0000e+00 - loss: 0.0000e+00 - val_auc_2: 0.0000e+00 - val_loss: 0.0000e+00\n",
      "Epoch 259/400\n"
     ]
    },
    {
     "name": "stderr",
     "output_type": "stream",
     "text": [
      "2024-03-31 20:01:57.115512: W tensorflow/core/framework/local_rendezvous.cc:404] Local rendezvous is aborting with status: OUT_OF_RANGE: End of sequence\n",
      "\t [[{{node IteratorGetNext}}]]\n",
      "2024-03-31 20:01:57.118178: W tensorflow/core/framework/local_rendezvous.cc:404] Local rendezvous is aborting with status: OUT_OF_RANGE: End of sequence\n",
      "\t [[{{node IteratorGetNext}}]]\n"
     ]
    },
    {
     "name": "stdout",
     "output_type": "stream",
     "text": [
      "129/129 - 30s - 236ms/step - auc_2: 0.9968 - loss: 0.0562 - val_auc_2: 0.9816 - val_loss: 0.1395\n",
      "Epoch 260/400\n",
      "129/129 - 0s - 59us/step - auc_2: 0.0000e+00 - loss: 0.0000e+00 - val_auc_2: 0.0000e+00 - val_loss: 0.0000e+00\n",
      "Epoch 261/400\n"
     ]
    },
    {
     "name": "stderr",
     "output_type": "stream",
     "text": [
      "2024-03-31 20:02:27.508813: W tensorflow/core/framework/local_rendezvous.cc:404] Local rendezvous is aborting with status: OUT_OF_RANGE: End of sequence\n",
      "\t [[{{node IteratorGetNext}}]]\n",
      "2024-03-31 20:02:27.511559: W tensorflow/core/framework/local_rendezvous.cc:404] Local rendezvous is aborting with status: OUT_OF_RANGE: End of sequence\n",
      "\t [[{{node IteratorGetNext}}]]\n"
     ]
    },
    {
     "name": "stdout",
     "output_type": "stream",
     "text": [
      "129/129 - 31s - 237ms/step - auc_2: 0.9956 - loss: 0.0651 - val_auc_2: 0.9892 - val_loss: 0.1306\n",
      "Epoch 262/400\n",
      "129/129 - 0s - 58us/step - auc_2: 0.0000e+00 - loss: 0.0000e+00 - val_auc_2: 0.0000e+00 - val_loss: 0.0000e+00\n",
      "Epoch 263/400\n"
     ]
    },
    {
     "name": "stderr",
     "output_type": "stream",
     "text": [
      "2024-03-31 20:02:58.120252: W tensorflow/core/framework/local_rendezvous.cc:404] Local rendezvous is aborting with status: OUT_OF_RANGE: End of sequence\n",
      "\t [[{{node IteratorGetNext}}]]\n",
      "2024-03-31 20:02:58.122732: W tensorflow/core/framework/local_rendezvous.cc:404] Local rendezvous is aborting with status: OUT_OF_RANGE: End of sequence\n",
      "\t [[{{node IteratorGetNext}}]]\n"
     ]
    },
    {
     "name": "stdout",
     "output_type": "stream",
     "text": [
      "129/129 - 33s - 259ms/step - auc_2: 0.9977 - loss: 0.0543 - val_auc_2: 0.9827 - val_loss: 0.1338\n",
      "Epoch 264/400\n",
      "129/129 - 0s - 82us/step - auc_2: 0.0000e+00 - loss: 0.0000e+00 - val_auc_2: 0.0000e+00 - val_loss: 0.0000e+00\n",
      "Epoch 265/400\n"
     ]
    },
    {
     "name": "stderr",
     "output_type": "stream",
     "text": [
      "2024-03-31 20:03:31.574808: W tensorflow/core/framework/local_rendezvous.cc:404] Local rendezvous is aborting with status: OUT_OF_RANGE: End of sequence\n",
      "\t [[{{node IteratorGetNext}}]]\n",
      "2024-03-31 20:03:31.578725: W tensorflow/core/framework/local_rendezvous.cc:404] Local rendezvous is aborting with status: OUT_OF_RANGE: End of sequence\n",
      "\t [[{{node IteratorGetNext}}]]\n"
     ]
    },
    {
     "name": "stdout",
     "output_type": "stream",
     "text": [
      "129/129 - 32s - 246ms/step - auc_2: 0.9965 - loss: 0.0588 - val_auc_2: 0.9823 - val_loss: 0.1340\n",
      "Epoch 266/400\n",
      "129/129 - 0s - 74us/step - auc_2: 0.0000e+00 - loss: 0.0000e+00 - val_auc_2: 0.0000e+00 - val_loss: 0.0000e+00\n",
      "Epoch 267/400\n"
     ]
    },
    {
     "name": "stderr",
     "output_type": "stream",
     "text": [
      "2024-03-31 20:04:03.334985: W tensorflow/core/framework/local_rendezvous.cc:404] Local rendezvous is aborting with status: OUT_OF_RANGE: End of sequence\n",
      "\t [[{{node IteratorGetNext}}]]\n",
      "2024-03-31 20:04:03.338456: W tensorflow/core/framework/local_rendezvous.cc:404] Local rendezvous is aborting with status: OUT_OF_RANGE: End of sequence\n",
      "\t [[{{node IteratorGetNext}}]]\n"
     ]
    },
    {
     "name": "stdout",
     "output_type": "stream",
     "text": [
      "129/129 - 32s - 246ms/step - auc_2: 0.9968 - loss: 0.0556 - val_auc_2: 0.9831 - val_loss: 0.1285\n",
      "Epoch 268/400\n",
      "129/129 - 0s - 65us/step - auc_2: 0.0000e+00 - loss: 0.0000e+00 - val_auc_2: 0.0000e+00 - val_loss: 0.0000e+00\n",
      "Epoch 269/400\n"
     ]
    },
    {
     "name": "stderr",
     "output_type": "stream",
     "text": [
      "2024-03-31 20:04:35.138274: W tensorflow/core/framework/local_rendezvous.cc:404] Local rendezvous is aborting with status: OUT_OF_RANGE: End of sequence\n",
      "\t [[{{node IteratorGetNext}}]]\n",
      "2024-03-31 20:04:35.141148: W tensorflow/core/framework/local_rendezvous.cc:404] Local rendezvous is aborting with status: OUT_OF_RANGE: End of sequence\n",
      "\t [[{{node IteratorGetNext}}]]\n"
     ]
    },
    {
     "name": "stdout",
     "output_type": "stream",
     "text": [
      "129/129 - 31s - 244ms/step - auc_2: 0.9980 - loss: 0.0506 - val_auc_2: 0.9789 - val_loss: 0.1543\n",
      "Epoch 270/400\n",
      "129/129 - 0s - 63us/step - auc_2: 0.0000e+00 - loss: 0.0000e+00 - val_auc_2: 0.0000e+00 - val_loss: 0.0000e+00\n",
      "Epoch 271/400\n"
     ]
    },
    {
     "name": "stderr",
     "output_type": "stream",
     "text": [
      "2024-03-31 20:05:06.567185: W tensorflow/core/framework/local_rendezvous.cc:404] Local rendezvous is aborting with status: OUT_OF_RANGE: End of sequence\n",
      "\t [[{{node IteratorGetNext}}]]\n",
      "2024-03-31 20:05:06.570024: W tensorflow/core/framework/local_rendezvous.cc:404] Local rendezvous is aborting with status: OUT_OF_RANGE: End of sequence\n",
      "\t [[{{node IteratorGetNext}}]]\n"
     ]
    },
    {
     "name": "stdout",
     "output_type": "stream",
     "text": [
      "129/129 - 32s - 244ms/step - auc_2: 0.9960 - loss: 0.0593 - val_auc_2: 0.9876 - val_loss: 0.1371\n",
      "Epoch 272/400\n",
      "129/129 - 0s - 84us/step - auc_2: 0.0000e+00 - loss: 0.0000e+00 - val_auc_2: 0.0000e+00 - val_loss: 0.0000e+00\n",
      "Epoch 273/400\n"
     ]
    },
    {
     "name": "stderr",
     "output_type": "stream",
     "text": [
      "2024-03-31 20:05:38.096793: W tensorflow/core/framework/local_rendezvous.cc:404] Local rendezvous is aborting with status: OUT_OF_RANGE: End of sequence\n",
      "\t [[{{node IteratorGetNext}}]]\n",
      "2024-03-31 20:05:38.100581: W tensorflow/core/framework/local_rendezvous.cc:404] Local rendezvous is aborting with status: OUT_OF_RANGE: End of sequence\n",
      "\t [[{{node IteratorGetNext}}]]\n"
     ]
    },
    {
     "name": "stdout",
     "output_type": "stream",
     "text": [
      "129/129 - 31s - 237ms/step - auc_2: 0.9976 - loss: 0.0540 - val_auc_2: 0.9871 - val_loss: 0.1281\n",
      "Epoch 274/400\n",
      "129/129 - 0s - 64us/step - auc_2: 0.0000e+00 - loss: 0.0000e+00 - val_auc_2: 0.0000e+00 - val_loss: 0.0000e+00\n",
      "Epoch 275/400\n"
     ]
    },
    {
     "name": "stderr",
     "output_type": "stream",
     "text": [
      "2024-03-31 20:06:08.672899: W tensorflow/core/framework/local_rendezvous.cc:404] Local rendezvous is aborting with status: OUT_OF_RANGE: End of sequence\n",
      "\t [[{{node IteratorGetNext}}]]\n",
      "2024-03-31 20:06:08.675864: W tensorflow/core/framework/local_rendezvous.cc:404] Local rendezvous is aborting with status: OUT_OF_RANGE: End of sequence\n",
      "\t [[{{node IteratorGetNext}}]]\n"
     ]
    },
    {
     "name": "stdout",
     "output_type": "stream",
     "text": [
      "129/129 - 32s - 250ms/step - auc_2: 0.9978 - loss: 0.0487 - val_auc_2: 0.9840 - val_loss: 0.1397\n",
      "Epoch 276/400\n",
      "129/129 - 0s - 298us/step - auc_2: 0.0000e+00 - loss: 0.0000e+00 - val_auc_2: 0.0000e+00 - val_loss: 0.0000e+00\n",
      "Epoch 277/400\n"
     ]
    },
    {
     "name": "stderr",
     "output_type": "stream",
     "text": [
      "2024-03-31 20:06:40.911576: W tensorflow/core/framework/local_rendezvous.cc:404] Local rendezvous is aborting with status: OUT_OF_RANGE: End of sequence\n",
      "\t [[{{node IteratorGetNext}}]]\n",
      "2024-03-31 20:06:40.919934: W tensorflow/core/framework/local_rendezvous.cc:404] Local rendezvous is aborting with status: OUT_OF_RANGE: End of sequence\n",
      "\t [[{{node IteratorGetNext}}]]\n"
     ]
    },
    {
     "name": "stdout",
     "output_type": "stream",
     "text": [
      "129/129 - 31s - 242ms/step - auc_2: 0.9973 - loss: 0.0491 - val_auc_2: 0.9853 - val_loss: 0.1474\n",
      "Epoch 278/400\n",
      "129/129 - 0s - 61us/step - auc_2: 0.0000e+00 - loss: 0.0000e+00 - val_auc_2: 0.0000e+00 - val_loss: 0.0000e+00\n",
      "Epoch 279/400\n"
     ]
    },
    {
     "name": "stderr",
     "output_type": "stream",
     "text": [
      "2024-03-31 20:07:12.179285: W tensorflow/core/framework/local_rendezvous.cc:404] Local rendezvous is aborting with status: OUT_OF_RANGE: End of sequence\n",
      "\t [[{{node IteratorGetNext}}]]\n",
      "2024-03-31 20:07:12.182062: W tensorflow/core/framework/local_rendezvous.cc:404] Local rendezvous is aborting with status: OUT_OF_RANGE: End of sequence\n",
      "\t [[{{node IteratorGetNext}}]]\n"
     ]
    },
    {
     "name": "stdout",
     "output_type": "stream",
     "text": [
      "129/129 - 31s - 242ms/step - auc_2: 0.9981 - loss: 0.0473 - val_auc_2: 0.9698 - val_loss: 0.1803\n",
      "Epoch 280/400\n",
      "129/129 - 0s - 61us/step - auc_2: 0.0000e+00 - loss: 0.0000e+00 - val_auc_2: 0.0000e+00 - val_loss: 0.0000e+00\n",
      "Epoch 281/400\n"
     ]
    },
    {
     "name": "stderr",
     "output_type": "stream",
     "text": [
      "2024-03-31 20:07:43.394374: W tensorflow/core/framework/local_rendezvous.cc:404] Local rendezvous is aborting with status: OUT_OF_RANGE: End of sequence\n",
      "\t [[{{node IteratorGetNext}}]]\n",
      "2024-03-31 20:07:43.397178: W tensorflow/core/framework/local_rendezvous.cc:404] Local rendezvous is aborting with status: OUT_OF_RANGE: End of sequence\n",
      "\t [[{{node IteratorGetNext}}]]\n"
     ]
    },
    {
     "name": "stdout",
     "output_type": "stream",
     "text": [
      "129/129 - 33s - 259ms/step - auc_2: 0.9973 - loss: 0.0530 - val_auc_2: 0.9854 - val_loss: 0.1342\n",
      "Epoch 282/400\n",
      "129/129 - 0s - 81us/step - auc_2: 0.0000e+00 - loss: 0.0000e+00 - val_auc_2: 0.0000e+00 - val_loss: 0.0000e+00\n",
      "Epoch 283/400\n"
     ]
    },
    {
     "name": "stderr",
     "output_type": "stream",
     "text": [
      "2024-03-31 20:08:16.880598: W tensorflow/core/framework/local_rendezvous.cc:404] Local rendezvous is aborting with status: OUT_OF_RANGE: End of sequence\n",
      "\t [[{{node IteratorGetNext}}]]\n",
      "2024-03-31 20:08:16.884114: W tensorflow/core/framework/local_rendezvous.cc:404] Local rendezvous is aborting with status: OUT_OF_RANGE: End of sequence\n",
      "\t [[{{node IteratorGetNext}}]]\n"
     ]
    },
    {
     "name": "stdout",
     "output_type": "stream",
     "text": [
      "129/129 - 31s - 241ms/step - auc_2: 0.9972 - loss: 0.0530 - val_auc_2: 0.9819 - val_loss: 0.1813\n",
      "Epoch 284/400\n",
      "129/129 - 0s - 75us/step - auc_2: 0.0000e+00 - loss: 0.0000e+00 - val_auc_2: 0.0000e+00 - val_loss: 0.0000e+00\n",
      "Epoch 285/400\n"
     ]
    },
    {
     "name": "stderr",
     "output_type": "stream",
     "text": [
      "2024-03-31 20:08:47.968948: W tensorflow/core/framework/local_rendezvous.cc:404] Local rendezvous is aborting with status: OUT_OF_RANGE: End of sequence\n",
      "\t [[{{node IteratorGetNext}}]]\n",
      "2024-03-31 20:08:47.972181: W tensorflow/core/framework/local_rendezvous.cc:404] Local rendezvous is aborting with status: OUT_OF_RANGE: End of sequence\n",
      "\t [[{{node IteratorGetNext}}]]\n"
     ]
    },
    {
     "name": "stdout",
     "output_type": "stream",
     "text": [
      "129/129 - 31s - 240ms/step - auc_2: 0.9978 - loss: 0.0488 - val_auc_2: 0.9857 - val_loss: 0.1458\n",
      "Epoch 286/400\n",
      "129/129 - 0s - 207us/step - auc_2: 0.0000e+00 - loss: 0.0000e+00 - val_auc_2: 0.0000e+00 - val_loss: 0.0000e+00\n",
      "Epoch 287/400\n"
     ]
    },
    {
     "name": "stderr",
     "output_type": "stream",
     "text": [
      "2024-03-31 20:09:18.986181: W tensorflow/core/framework/local_rendezvous.cc:404] Local rendezvous is aborting with status: OUT_OF_RANGE: End of sequence\n",
      "\t [[{{node IteratorGetNext}}]]\n",
      "2024-03-31 20:09:18.998376: W tensorflow/core/framework/local_rendezvous.cc:404] Local rendezvous is aborting with status: OUT_OF_RANGE: End of sequence\n",
      "\t [[{{node IteratorGetNext}}]]\n"
     ]
    },
    {
     "name": "stdout",
     "output_type": "stream",
     "text": [
      "129/129 - 31s - 243ms/step - auc_2: 0.9971 - loss: 0.0557 - val_auc_2: 0.9745 - val_loss: 0.1724\n",
      "Epoch 288/400\n",
      "129/129 - 0s - 94us/step - auc_2: 0.0000e+00 - loss: 0.0000e+00 - val_auc_2: 0.0000e+00 - val_loss: 0.0000e+00\n",
      "Epoch 289/400\n"
     ]
    },
    {
     "name": "stderr",
     "output_type": "stream",
     "text": [
      "2024-03-31 20:09:50.372026: W tensorflow/core/framework/local_rendezvous.cc:404] Local rendezvous is aborting with status: OUT_OF_RANGE: End of sequence\n",
      "\t [[{{node IteratorGetNext}}]]\n",
      "2024-03-31 20:09:50.375691: W tensorflow/core/framework/local_rendezvous.cc:404] Local rendezvous is aborting with status: OUT_OF_RANGE: End of sequence\n",
      "\t [[{{node IteratorGetNext}}]]\n"
     ]
    },
    {
     "name": "stdout",
     "output_type": "stream",
     "text": [
      "129/129 - 34s - 266ms/step - auc_2: 0.9970 - loss: 0.0539 - val_auc_2: 0.9841 - val_loss: 0.1414\n",
      "Epoch 290/400\n",
      "129/129 - 0s - 81us/step - auc_2: 0.0000e+00 - loss: 0.0000e+00 - val_auc_2: 0.0000e+00 - val_loss: 0.0000e+00\n",
      "Epoch 291/400\n"
     ]
    },
    {
     "name": "stderr",
     "output_type": "stream",
     "text": [
      "2024-03-31 20:10:24.686041: W tensorflow/core/framework/local_rendezvous.cc:404] Local rendezvous is aborting with status: OUT_OF_RANGE: End of sequence\n",
      "\t [[{{node IteratorGetNext}}]]\n",
      "2024-03-31 20:10:24.689747: W tensorflow/core/framework/local_rendezvous.cc:404] Local rendezvous is aborting with status: OUT_OF_RANGE: End of sequence\n",
      "\t [[{{node IteratorGetNext}}]]\n"
     ]
    },
    {
     "name": "stdout",
     "output_type": "stream",
     "text": [
      "129/129 - 32s - 247ms/step - auc_2: 0.9981 - loss: 0.0489 - val_auc_2: 0.9792 - val_loss: 0.1847\n",
      "Epoch 292/400\n",
      "129/129 - 0s - 70us/step - auc_2: 0.0000e+00 - loss: 0.0000e+00 - val_auc_2: 0.0000e+00 - val_loss: 0.0000e+00\n",
      "Epoch 293/400\n"
     ]
    },
    {
     "name": "stderr",
     "output_type": "stream",
     "text": [
      "2024-03-31 20:10:56.587283: W tensorflow/core/framework/local_rendezvous.cc:404] Local rendezvous is aborting with status: OUT_OF_RANGE: End of sequence\n",
      "\t [[{{node IteratorGetNext}}]]\n",
      "2024-03-31 20:10:56.590285: W tensorflow/core/framework/local_rendezvous.cc:404] Local rendezvous is aborting with status: OUT_OF_RANGE: End of sequence\n",
      "\t [[{{node IteratorGetNext}}]]\n"
     ]
    },
    {
     "name": "stdout",
     "output_type": "stream",
     "text": [
      "129/129 - 34s - 260ms/step - auc_2: 0.9970 - loss: 0.0564 - val_auc_2: 0.9817 - val_loss: 0.1754\n",
      "Epoch 294/400\n",
      "129/129 - 0s - 93us/step - auc_2: 0.0000e+00 - loss: 0.0000e+00 - val_auc_2: 0.0000e+00 - val_loss: 0.0000e+00\n",
      "Epoch 295/400\n"
     ]
    },
    {
     "name": "stderr",
     "output_type": "stream",
     "text": [
      "2024-03-31 20:11:30.191158: W tensorflow/core/framework/local_rendezvous.cc:404] Local rendezvous is aborting with status: OUT_OF_RANGE: End of sequence\n",
      "\t [[{{node IteratorGetNext}}]]\n",
      "2024-03-31 20:11:30.194949: W tensorflow/core/framework/local_rendezvous.cc:404] Local rendezvous is aborting with status: OUT_OF_RANGE: End of sequence\n",
      "\t [[{{node IteratorGetNext}}]]\n"
     ]
    },
    {
     "name": "stdout",
     "output_type": "stream",
     "text": [
      "129/129 - 32s - 247ms/step - auc_2: 0.9964 - loss: 0.0601 - val_auc_2: 0.9779 - val_loss: 0.1529\n",
      "Epoch 296/400\n",
      "129/129 - 0s - 75us/step - auc_2: 0.0000e+00 - loss: 0.0000e+00 - val_auc_2: 0.0000e+00 - val_loss: 0.0000e+00\n",
      "Epoch 297/400\n"
     ]
    },
    {
     "name": "stderr",
     "output_type": "stream",
     "text": [
      "2024-03-31 20:12:02.020329: W tensorflow/core/framework/local_rendezvous.cc:404] Local rendezvous is aborting with status: OUT_OF_RANGE: End of sequence\n",
      "\t [[{{node IteratorGetNext}}]]\n",
      "2024-03-31 20:12:02.023862: W tensorflow/core/framework/local_rendezvous.cc:404] Local rendezvous is aborting with status: OUT_OF_RANGE: End of sequence\n",
      "\t [[{{node IteratorGetNext}}]]\n"
     ]
    },
    {
     "name": "stdout",
     "output_type": "stream",
     "text": [
      "129/129 - 32s - 250ms/step - auc_2: 0.9957 - loss: 0.0642 - val_auc_2: 0.9801 - val_loss: 0.1460\n",
      "Epoch 298/400\n",
      "129/129 - 0s - 85us/step - auc_2: 0.0000e+00 - loss: 0.0000e+00 - val_auc_2: 0.0000e+00 - val_loss: 0.0000e+00\n",
      "Epoch 299/400\n"
     ]
    },
    {
     "name": "stderr",
     "output_type": "stream",
     "text": [
      "2024-03-31 20:12:34.278973: W tensorflow/core/framework/local_rendezvous.cc:404] Local rendezvous is aborting with status: OUT_OF_RANGE: End of sequence\n",
      "\t [[{{node IteratorGetNext}}]]\n",
      "2024-03-31 20:12:34.282544: W tensorflow/core/framework/local_rendezvous.cc:404] Local rendezvous is aborting with status: OUT_OF_RANGE: End of sequence\n",
      "\t [[{{node IteratorGetNext}}]]\n"
     ]
    },
    {
     "name": "stdout",
     "output_type": "stream",
     "text": [
      "129/129 - 32s - 250ms/step - auc_2: 0.9985 - loss: 0.0435 - val_auc_2: 0.9796 - val_loss: 0.1585\n",
      "Epoch 300/400\n",
      "129/129 - 0s - 64us/step - auc_2: 0.0000e+00 - loss: 0.0000e+00 - val_auc_2: 0.0000e+00 - val_loss: 0.0000e+00\n",
      "Epoch 301/400\n"
     ]
    },
    {
     "name": "stderr",
     "output_type": "stream",
     "text": [
      "2024-03-31 20:13:06.560401: W tensorflow/core/framework/local_rendezvous.cc:404] Local rendezvous is aborting with status: OUT_OF_RANGE: End of sequence\n",
      "\t [[{{node IteratorGetNext}}]]\n",
      "2024-03-31 20:13:06.563274: W tensorflow/core/framework/local_rendezvous.cc:404] Local rendezvous is aborting with status: OUT_OF_RANGE: End of sequence\n",
      "\t [[{{node IteratorGetNext}}]]\n"
     ]
    },
    {
     "name": "stdout",
     "output_type": "stream",
     "text": [
      "129/129 - 31s - 244ms/step - auc_2: 0.9980 - loss: 0.0481 - val_auc_2: 0.9712 - val_loss: 0.1697\n",
      "Epoch 302/400\n",
      "129/129 - 0s - 81us/step - auc_2: 0.0000e+00 - loss: 0.0000e+00 - val_auc_2: 0.0000e+00 - val_loss: 0.0000e+00\n",
      "Epoch 303/400\n"
     ]
    },
    {
     "name": "stderr",
     "output_type": "stream",
     "text": [
      "2024-03-31 20:13:38.067423: W tensorflow/core/framework/local_rendezvous.cc:404] Local rendezvous is aborting with status: OUT_OF_RANGE: End of sequence\n",
      "\t [[{{node IteratorGetNext}}]]\n",
      "2024-03-31 20:13:38.070872: W tensorflow/core/framework/local_rendezvous.cc:404] Local rendezvous is aborting with status: OUT_OF_RANGE: End of sequence\n",
      "\t [[{{node IteratorGetNext}}]]\n"
     ]
    },
    {
     "name": "stdout",
     "output_type": "stream",
     "text": [
      "129/129 - 31s - 241ms/step - auc_2: 0.9977 - loss: 0.0446 - val_auc_2: 0.9738 - val_loss: 0.1721\n",
      "Epoch 304/400\n",
      "129/129 - 0s - 94us/step - auc_2: 0.0000e+00 - loss: 0.0000e+00 - val_auc_2: 0.0000e+00 - val_loss: 0.0000e+00\n",
      "Epoch 305/400\n"
     ]
    },
    {
     "name": "stderr",
     "output_type": "stream",
     "text": [
      "2024-03-31 20:14:09.133174: W tensorflow/core/framework/local_rendezvous.cc:404] Local rendezvous is aborting with status: OUT_OF_RANGE: End of sequence\n",
      "\t [[{{node IteratorGetNext}}]]\n",
      "2024-03-31 20:14:09.138082: W tensorflow/core/framework/local_rendezvous.cc:404] Local rendezvous is aborting with status: OUT_OF_RANGE: End of sequence\n",
      "\t [[{{node IteratorGetNext}}]]\n"
     ]
    },
    {
     "name": "stdout",
     "output_type": "stream",
     "text": [
      "129/129 - 30s - 236ms/step - auc_2: 0.9973 - loss: 0.0496 - val_auc_2: 0.9712 - val_loss: 0.2340\n",
      "Epoch 306/400\n",
      "129/129 - 0s - 60us/step - auc_2: 0.0000e+00 - loss: 0.0000e+00 - val_auc_2: 0.0000e+00 - val_loss: 0.0000e+00\n",
      "Epoch 307/400\n"
     ]
    },
    {
     "name": "stderr",
     "output_type": "stream",
     "text": [
      "2024-03-31 20:14:39.596360: W tensorflow/core/framework/local_rendezvous.cc:404] Local rendezvous is aborting with status: OUT_OF_RANGE: End of sequence\n",
      "\t [[{{node IteratorGetNext}}]]\n",
      "2024-03-31 20:14:39.599026: W tensorflow/core/framework/local_rendezvous.cc:404] Local rendezvous is aborting with status: OUT_OF_RANGE: End of sequence\n",
      "\t [[{{node IteratorGetNext}}]]\n"
     ]
    },
    {
     "name": "stdout",
     "output_type": "stream",
     "text": [
      "129/129 - 30s - 229ms/step - auc_2: 0.9983 - loss: 0.0459 - val_auc_2: 0.9847 - val_loss: 0.1453\n",
      "Epoch 308/400\n",
      "129/129 - 0s - 77us/step - auc_2: 0.0000e+00 - loss: 0.0000e+00 - val_auc_2: 0.0000e+00 - val_loss: 0.0000e+00\n",
      "Epoch 309/400\n"
     ]
    },
    {
     "name": "stderr",
     "output_type": "stream",
     "text": [
      "2024-03-31 20:15:09.160127: W tensorflow/core/framework/local_rendezvous.cc:404] Local rendezvous is aborting with status: OUT_OF_RANGE: End of sequence\n",
      "\t [[{{node IteratorGetNext}}]]\n",
      "2024-03-31 20:15:09.163652: W tensorflow/core/framework/local_rendezvous.cc:404] Local rendezvous is aborting with status: OUT_OF_RANGE: End of sequence\n",
      "\t [[{{node IteratorGetNext}}]]\n"
     ]
    },
    {
     "name": "stdout",
     "output_type": "stream",
     "text": [
      "129/129 - 31s - 237ms/step - auc_2: 0.9981 - loss: 0.0447 - val_auc_2: 0.9803 - val_loss: 0.1775\n",
      "Epoch 310/400\n",
      "129/129 - 0s - 62us/step - auc_2: 0.0000e+00 - loss: 0.0000e+00 - val_auc_2: 0.0000e+00 - val_loss: 0.0000e+00\n",
      "Epoch 311/400\n"
     ]
    },
    {
     "name": "stderr",
     "output_type": "stream",
     "text": [
      "2024-03-31 20:15:39.787885: W tensorflow/core/framework/local_rendezvous.cc:404] Local rendezvous is aborting with status: OUT_OF_RANGE: End of sequence\n",
      "\t [[{{node IteratorGetNext}}]]\n",
      "2024-03-31 20:15:39.790665: W tensorflow/core/framework/local_rendezvous.cc:404] Local rendezvous is aborting with status: OUT_OF_RANGE: End of sequence\n",
      "\t [[{{node IteratorGetNext}}]]\n"
     ]
    },
    {
     "name": "stdout",
     "output_type": "stream",
     "text": [
      "129/129 - 32s - 244ms/step - auc_2: 0.9979 - loss: 0.0468 - val_auc_2: 0.9791 - val_loss: 0.1743\n",
      "Epoch 312/400\n",
      "129/129 - 0s - 94us/step - auc_2: 0.0000e+00 - loss: 0.0000e+00 - val_auc_2: 0.0000e+00 - val_loss: 0.0000e+00\n",
      "Epoch 313/400\n"
     ]
    },
    {
     "name": "stderr",
     "output_type": "stream",
     "text": [
      "2024-03-31 20:16:11.312897: W tensorflow/core/framework/local_rendezvous.cc:404] Local rendezvous is aborting with status: OUT_OF_RANGE: End of sequence\n",
      "\t [[{{node IteratorGetNext}}]]\n",
      "2024-03-31 20:16:11.316415: W tensorflow/core/framework/local_rendezvous.cc:404] Local rendezvous is aborting with status: OUT_OF_RANGE: End of sequence\n",
      "\t [[{{node IteratorGetNext}}]]\n"
     ]
    },
    {
     "name": "stdout",
     "output_type": "stream",
     "text": [
      "129/129 - 30s - 233ms/step - auc_2: 0.9974 - loss: 0.0513 - val_auc_2: 0.9827 - val_loss: 0.1876\n",
      "Epoch 314/400\n",
      "129/129 - 0s - 59us/step - auc_2: 0.0000e+00 - loss: 0.0000e+00 - val_auc_2: 0.0000e+00 - val_loss: 0.0000e+00\n",
      "Epoch 315/400\n"
     ]
    },
    {
     "name": "stderr",
     "output_type": "stream",
     "text": [
      "2024-03-31 20:16:41.334335: W tensorflow/core/framework/local_rendezvous.cc:404] Local rendezvous is aborting with status: OUT_OF_RANGE: End of sequence\n",
      "\t [[{{node IteratorGetNext}}]]\n",
      "2024-03-31 20:16:41.337043: W tensorflow/core/framework/local_rendezvous.cc:404] Local rendezvous is aborting with status: OUT_OF_RANGE: End of sequence\n",
      "\t [[{{node IteratorGetNext}}]]\n"
     ]
    },
    {
     "name": "stdout",
     "output_type": "stream",
     "text": [
      "129/129 - 30s - 236ms/step - auc_2: 0.9979 - loss: 0.0459 - val_auc_2: 0.9854 - val_loss: 0.1584\n",
      "Epoch 316/400\n",
      "129/129 - 0s - 76us/step - auc_2: 0.0000e+00 - loss: 0.0000e+00 - val_auc_2: 0.0000e+00 - val_loss: 0.0000e+00\n",
      "Epoch 317/400\n"
     ]
    },
    {
     "name": "stderr",
     "output_type": "stream",
     "text": [
      "2024-03-31 20:17:11.804788: W tensorflow/core/framework/local_rendezvous.cc:404] Local rendezvous is aborting with status: OUT_OF_RANGE: End of sequence\n",
      "\t [[{{node IteratorGetNext}}]]\n",
      "2024-03-31 20:17:11.808152: W tensorflow/core/framework/local_rendezvous.cc:404] Local rendezvous is aborting with status: OUT_OF_RANGE: End of sequence\n",
      "\t [[{{node IteratorGetNext}}]]\n"
     ]
    },
    {
     "name": "stdout",
     "output_type": "stream",
     "text": [
      "129/129 - 30s - 234ms/step - auc_2: 0.9987 - loss: 0.0410 - val_auc_2: 0.9791 - val_loss: 0.1587\n",
      "Epoch 318/400\n",
      "129/129 - 0s - 60us/step - auc_2: 0.0000e+00 - loss: 0.0000e+00 - val_auc_2: 0.0000e+00 - val_loss: 0.0000e+00\n",
      "Epoch 319/400\n"
     ]
    },
    {
     "name": "stderr",
     "output_type": "stream",
     "text": [
      "2024-03-31 20:17:41.952548: W tensorflow/core/framework/local_rendezvous.cc:404] Local rendezvous is aborting with status: OUT_OF_RANGE: End of sequence\n",
      "\t [[{{node IteratorGetNext}}]]\n",
      "2024-03-31 20:17:41.955297: W tensorflow/core/framework/local_rendezvous.cc:404] Local rendezvous is aborting with status: OUT_OF_RANGE: End of sequence\n",
      "\t [[{{node IteratorGetNext}}]]\n"
     ]
    },
    {
     "name": "stdout",
     "output_type": "stream",
     "text": [
      "129/129 - 30s - 233ms/step - auc_2: 0.9970 - loss: 0.0462 - val_auc_2: 0.9780 - val_loss: 0.1665\n",
      "Epoch 320/400\n",
      "129/129 - 0s - 79us/step - auc_2: 0.0000e+00 - loss: 0.0000e+00 - val_auc_2: 0.0000e+00 - val_loss: 0.0000e+00\n",
      "Epoch 321/400\n"
     ]
    },
    {
     "name": "stderr",
     "output_type": "stream",
     "text": [
      "2024-03-31 20:18:11.985152: W tensorflow/core/framework/local_rendezvous.cc:404] Local rendezvous is aborting with status: OUT_OF_RANGE: End of sequence\n",
      "\t [[{{node IteratorGetNext}}]]\n",
      "2024-03-31 20:18:11.988493: W tensorflow/core/framework/local_rendezvous.cc:404] Local rendezvous is aborting with status: OUT_OF_RANGE: End of sequence\n",
      "\t [[{{node IteratorGetNext}}]]\n"
     ]
    },
    {
     "name": "stdout",
     "output_type": "stream",
     "text": [
      "129/129 - 31s - 237ms/step - auc_2: 0.9971 - loss: 0.0518 - val_auc_2: 0.9737 - val_loss: 0.1700\n",
      "Epoch 322/400\n",
      "129/129 - 0s - 61us/step - auc_2: 0.0000e+00 - loss: 0.0000e+00 - val_auc_2: 0.0000e+00 - val_loss: 0.0000e+00\n",
      "Epoch 323/400\n"
     ]
    },
    {
     "name": "stderr",
     "output_type": "stream",
     "text": [
      "2024-03-31 20:18:42.547481: W tensorflow/core/framework/local_rendezvous.cc:404] Local rendezvous is aborting with status: OUT_OF_RANGE: End of sequence\n",
      "\t [[{{node IteratorGetNext}}]]\n",
      "2024-03-31 20:18:42.550373: W tensorflow/core/framework/local_rendezvous.cc:404] Local rendezvous is aborting with status: OUT_OF_RANGE: End of sequence\n",
      "\t [[{{node IteratorGetNext}}]]\n"
     ]
    },
    {
     "name": "stdout",
     "output_type": "stream",
     "text": [
      "129/129 - 31s - 237ms/step - auc_2: 0.9966 - loss: 0.0452 - val_auc_2: 0.9833 - val_loss: 0.1602\n",
      "Epoch 324/400\n",
      "129/129 - 0s - 69us/step - auc_2: 0.0000e+00 - loss: 0.0000e+00 - val_auc_2: 0.0000e+00 - val_loss: 0.0000e+00\n",
      "Epoch 325/400\n"
     ]
    },
    {
     "name": "stderr",
     "output_type": "stream",
     "text": [
      "2024-03-31 20:19:13.107129: W tensorflow/core/framework/local_rendezvous.cc:404] Local rendezvous is aborting with status: OUT_OF_RANGE: End of sequence\n",
      "\t [[{{node IteratorGetNext}}]]\n",
      "2024-03-31 20:19:13.110188: W tensorflow/core/framework/local_rendezvous.cc:404] Local rendezvous is aborting with status: OUT_OF_RANGE: End of sequence\n",
      "\t [[{{node IteratorGetNext}}]]\n"
     ]
    },
    {
     "name": "stdout",
     "output_type": "stream",
     "text": [
      "129/129 - 32s - 249ms/step - auc_2: 0.9985 - loss: 0.0422 - val_auc_2: 0.9788 - val_loss: 0.1699\n",
      "Epoch 326/400\n",
      "129/129 - 0s - 105us/step - auc_2: 0.0000e+00 - loss: 0.0000e+00 - val_auc_2: 0.0000e+00 - val_loss: 0.0000e+00\n",
      "Epoch 327/400\n"
     ]
    },
    {
     "name": "stderr",
     "output_type": "stream",
     "text": [
      "2024-03-31 20:19:45.230640: W tensorflow/core/framework/local_rendezvous.cc:404] Local rendezvous is aborting with status: OUT_OF_RANGE: End of sequence\n",
      "\t [[{{node IteratorGetNext}}]]\n",
      "2024-03-31 20:19:45.234731: W tensorflow/core/framework/local_rendezvous.cc:404] Local rendezvous is aborting with status: OUT_OF_RANGE: End of sequence\n",
      "\t [[{{node IteratorGetNext}}]]\n"
     ]
    },
    {
     "name": "stdout",
     "output_type": "stream",
     "text": [
      "129/129 - 31s - 239ms/step - auc_2: 0.9958 - loss: 0.0548 - val_auc_2: 0.9846 - val_loss: 0.1470\n",
      "Epoch 328/400\n",
      "129/129 - 0s - 80us/step - auc_2: 0.0000e+00 - loss: 0.0000e+00 - val_auc_2: 0.0000e+00 - val_loss: 0.0000e+00\n",
      "Epoch 329/400\n"
     ]
    },
    {
     "name": "stderr",
     "output_type": "stream",
     "text": [
      "2024-03-31 20:20:16.078888: W tensorflow/core/framework/local_rendezvous.cc:404] Local rendezvous is aborting with status: OUT_OF_RANGE: End of sequence\n",
      "\t [[{{node IteratorGetNext}}]]\n",
      "2024-03-31 20:20:16.082371: W tensorflow/core/framework/local_rendezvous.cc:404] Local rendezvous is aborting with status: OUT_OF_RANGE: End of sequence\n",
      "\t [[{{node IteratorGetNext}}]]\n"
     ]
    },
    {
     "name": "stdout",
     "output_type": "stream",
     "text": [
      "129/129 - 31s - 237ms/step - auc_2: 0.9981 - loss: 0.0439 - val_auc_2: 0.9812 - val_loss: 0.1495\n",
      "Epoch 330/400\n",
      "129/129 - 0s - 64us/step - auc_2: 0.0000e+00 - loss: 0.0000e+00 - val_auc_2: 0.0000e+00 - val_loss: 0.0000e+00\n",
      "Epoch 331/400\n"
     ]
    },
    {
     "name": "stderr",
     "output_type": "stream",
     "text": [
      "2024-03-31 20:20:46.639711: W tensorflow/core/framework/local_rendezvous.cc:404] Local rendezvous is aborting with status: OUT_OF_RANGE: End of sequence\n",
      "\t [[{{node IteratorGetNext}}]]\n",
      "2024-03-31 20:20:46.642551: W tensorflow/core/framework/local_rendezvous.cc:404] Local rendezvous is aborting with status: OUT_OF_RANGE: End of sequence\n",
      "\t [[{{node IteratorGetNext}}]]\n"
     ]
    },
    {
     "name": "stdout",
     "output_type": "stream",
     "text": [
      "129/129 - 31s - 243ms/step - auc_2: 0.9982 - loss: 0.0460 - val_auc_2: 0.9833 - val_loss: 0.1700\n",
      "Epoch 332/400\n",
      "129/129 - 0s - 106us/step - auc_2: 0.0000e+00 - loss: 0.0000e+00 - val_auc_2: 0.0000e+00 - val_loss: 0.0000e+00\n",
      "Epoch 333/400\n"
     ]
    },
    {
     "name": "stderr",
     "output_type": "stream",
     "text": [
      "2024-03-31 20:21:17.954645: W tensorflow/core/framework/local_rendezvous.cc:404] Local rendezvous is aborting with status: OUT_OF_RANGE: End of sequence\n",
      "\t [[{{node IteratorGetNext}}]]\n",
      "2024-03-31 20:21:17.958648: W tensorflow/core/framework/local_rendezvous.cc:404] Local rendezvous is aborting with status: OUT_OF_RANGE: End of sequence\n",
      "\t [[{{node IteratorGetNext}}]]\n"
     ]
    },
    {
     "name": "stdout",
     "output_type": "stream",
     "text": [
      "129/129 - 32s - 249ms/step - auc_2: 0.9983 - loss: 0.0448 - val_auc_2: 0.9839 - val_loss: 0.1817\n",
      "Epoch 334/400\n",
      "129/129 - 0s - 77us/step - auc_2: 0.0000e+00 - loss: 0.0000e+00 - val_auc_2: 0.0000e+00 - val_loss: 0.0000e+00\n",
      "Epoch 335/400\n"
     ]
    },
    {
     "name": "stderr",
     "output_type": "stream",
     "text": [
      "2024-03-31 20:21:50.127646: W tensorflow/core/framework/local_rendezvous.cc:404] Local rendezvous is aborting with status: OUT_OF_RANGE: End of sequence\n",
      "\t [[{{node IteratorGetNext}}]]\n",
      "2024-03-31 20:21:50.131008: W tensorflow/core/framework/local_rendezvous.cc:404] Local rendezvous is aborting with status: OUT_OF_RANGE: End of sequence\n",
      "\t [[{{node IteratorGetNext}}]]\n"
     ]
    },
    {
     "name": "stdout",
     "output_type": "stream",
     "text": [
      "129/129 - 32s - 251ms/step - auc_2: 0.9987 - loss: 0.0384 - val_auc_2: 0.9804 - val_loss: 0.1530\n",
      "Epoch 336/400\n",
      "129/129 - 0s - 104us/step - auc_2: 0.0000e+00 - loss: 0.0000e+00 - val_auc_2: 0.0000e+00 - val_loss: 0.0000e+00\n",
      "Epoch 337/400\n"
     ]
    },
    {
     "name": "stderr",
     "output_type": "stream",
     "text": [
      "2024-03-31 20:22:22.579368: W tensorflow/core/framework/local_rendezvous.cc:404] Local rendezvous is aborting with status: OUT_OF_RANGE: End of sequence\n",
      "\t [[{{node IteratorGetNext}}]]\n",
      "2024-03-31 20:22:22.583450: W tensorflow/core/framework/local_rendezvous.cc:404] Local rendezvous is aborting with status: OUT_OF_RANGE: End of sequence\n",
      "\t [[{{node IteratorGetNext}}]]\n"
     ]
    },
    {
     "name": "stdout",
     "output_type": "stream",
     "text": [
      "129/129 - 31s - 240ms/step - auc_2: 0.9989 - loss: 0.0375 - val_auc_2: 0.9789 - val_loss: 0.1573\n",
      "Epoch 338/400\n",
      "129/129 - 0s - 63us/step - auc_2: 0.0000e+00 - loss: 0.0000e+00 - val_auc_2: 0.0000e+00 - val_loss: 0.0000e+00\n",
      "Epoch 339/400\n"
     ]
    },
    {
     "name": "stderr",
     "output_type": "stream",
     "text": [
      "2024-03-31 20:22:53.563870: W tensorflow/core/framework/local_rendezvous.cc:404] Local rendezvous is aborting with status: OUT_OF_RANGE: End of sequence\n",
      "\t [[{{node IteratorGetNext}}]]\n",
      "2024-03-31 20:22:53.566715: W tensorflow/core/framework/local_rendezvous.cc:404] Local rendezvous is aborting with status: OUT_OF_RANGE: End of sequence\n",
      "\t [[{{node IteratorGetNext}}]]\n"
     ]
    },
    {
     "name": "stdout",
     "output_type": "stream",
     "text": [
      "129/129 - 31s - 244ms/step - auc_2: 0.9977 - loss: 0.0427 - val_auc_2: 0.9712 - val_loss: 0.1818\n",
      "Epoch 340/400\n",
      "129/129 - 0s - 75us/step - auc_2: 0.0000e+00 - loss: 0.0000e+00 - val_auc_2: 0.0000e+00 - val_loss: 0.0000e+00\n",
      "Epoch 341/400\n"
     ]
    },
    {
     "name": "stderr",
     "output_type": "stream",
     "text": [
      "2024-03-31 20:23:25.007561: W tensorflow/core/framework/local_rendezvous.cc:404] Local rendezvous is aborting with status: OUT_OF_RANGE: End of sequence\n",
      "\t [[{{node IteratorGetNext}}]]\n",
      "2024-03-31 20:23:25.011330: W tensorflow/core/framework/local_rendezvous.cc:404] Local rendezvous is aborting with status: OUT_OF_RANGE: End of sequence\n",
      "\t [[{{node IteratorGetNext}}]]\n"
     ]
    },
    {
     "name": "stdout",
     "output_type": "stream",
     "text": [
      "129/129 - 34s - 265ms/step - auc_2: 0.9981 - loss: 0.0448 - val_auc_2: 0.9818 - val_loss: 0.1416\n",
      "Epoch 342/400\n",
      "129/129 - 0s - 126us/step - auc_2: 0.0000e+00 - loss: 0.0000e+00 - val_auc_2: 0.0000e+00 - val_loss: 0.0000e+00\n",
      "Epoch 343/400\n"
     ]
    },
    {
     "name": "stderr",
     "output_type": "stream",
     "text": [
      "2024-03-31 20:23:59.194664: W tensorflow/core/framework/local_rendezvous.cc:404] Local rendezvous is aborting with status: OUT_OF_RANGE: End of sequence\n",
      "\t [[{{node IteratorGetNext}}]]\n",
      "2024-03-31 20:23:59.199208: W tensorflow/core/framework/local_rendezvous.cc:404] Local rendezvous is aborting with status: OUT_OF_RANGE: End of sequence\n",
      "\t [[{{node IteratorGetNext}}]]\n"
     ]
    },
    {
     "name": "stdout",
     "output_type": "stream",
     "text": [
      "129/129 - 35s - 269ms/step - auc_2: 0.9974 - loss: 0.0547 - val_auc_2: 0.9836 - val_loss: 0.1878\n",
      "Epoch 344/400\n",
      "129/129 - 0s - 85us/step - auc_2: 0.0000e+00 - loss: 0.0000e+00 - val_auc_2: 0.0000e+00 - val_loss: 0.0000e+00\n",
      "Epoch 345/400\n"
     ]
    },
    {
     "name": "stderr",
     "output_type": "stream",
     "text": [
      "2024-03-31 20:24:33.939388: W tensorflow/core/framework/local_rendezvous.cc:404] Local rendezvous is aborting with status: OUT_OF_RANGE: End of sequence\n",
      "\t [[{{node IteratorGetNext}}]]\n",
      "2024-03-31 20:24:33.943027: W tensorflow/core/framework/local_rendezvous.cc:404] Local rendezvous is aborting with status: OUT_OF_RANGE: End of sequence\n",
      "\t [[{{node IteratorGetNext}}]]\n"
     ]
    },
    {
     "name": "stdout",
     "output_type": "stream",
     "text": [
      "129/129 - 31s - 241ms/step - auc_2: 0.9974 - loss: 0.0485 - val_auc_2: 0.9847 - val_loss: 0.2131\n",
      "Epoch 346/400\n",
      "129/129 - 0s - 86us/step - auc_2: 0.0000e+00 - loss: 0.0000e+00 - val_auc_2: 0.0000e+00 - val_loss: 0.0000e+00\n",
      "Epoch 347/400\n"
     ]
    },
    {
     "name": "stderr",
     "output_type": "stream",
     "text": [
      "2024-03-31 20:25:05.025536: W tensorflow/core/framework/local_rendezvous.cc:404] Local rendezvous is aborting with status: OUT_OF_RANGE: End of sequence\n",
      "\t [[{{node IteratorGetNext}}]]\n",
      "2024-03-31 20:25:05.029701: W tensorflow/core/framework/local_rendezvous.cc:404] Local rendezvous is aborting with status: OUT_OF_RANGE: End of sequence\n",
      "\t [[{{node IteratorGetNext}}]]\n"
     ]
    },
    {
     "name": "stdout",
     "output_type": "stream",
     "text": [
      "129/129 - 31s - 239ms/step - auc_2: 0.9986 - loss: 0.0395 - val_auc_2: 0.9804 - val_loss: 0.1488\n",
      "Epoch 348/400\n",
      "129/129 - 0s - 65us/step - auc_2: 0.0000e+00 - loss: 0.0000e+00 - val_auc_2: 0.0000e+00 - val_loss: 0.0000e+00\n",
      "Epoch 349/400\n"
     ]
    },
    {
     "name": "stderr",
     "output_type": "stream",
     "text": [
      "2024-03-31 20:25:35.807308: W tensorflow/core/framework/local_rendezvous.cc:404] Local rendezvous is aborting with status: OUT_OF_RANGE: End of sequence\n",
      "\t [[{{node IteratorGetNext}}]]\n",
      "2024-03-31 20:25:35.810066: W tensorflow/core/framework/local_rendezvous.cc:404] Local rendezvous is aborting with status: OUT_OF_RANGE: End of sequence\n",
      "\t [[{{node IteratorGetNext}}]]\n"
     ]
    },
    {
     "name": "stdout",
     "output_type": "stream",
     "text": [
      "129/129 - 31s - 237ms/step - auc_2: 0.9972 - loss: 0.0438 - val_auc_2: 0.9783 - val_loss: 0.1556\n",
      "Epoch 350/400\n",
      "129/129 - 0s - 90us/step - auc_2: 0.0000e+00 - loss: 0.0000e+00 - val_auc_2: 0.0000e+00 - val_loss: 0.0000e+00\n",
      "Epoch 351/400\n"
     ]
    },
    {
     "name": "stderr",
     "output_type": "stream",
     "text": [
      "2024-03-31 20:26:06.414967: W tensorflow/core/framework/local_rendezvous.cc:404] Local rendezvous is aborting with status: OUT_OF_RANGE: End of sequence\n",
      "\t [[{{node IteratorGetNext}}]]\n",
      "2024-03-31 20:26:06.418727: W tensorflow/core/framework/local_rendezvous.cc:404] Local rendezvous is aborting with status: OUT_OF_RANGE: End of sequence\n",
      "\t [[{{node IteratorGetNext}}]]\n"
     ]
    },
    {
     "name": "stdout",
     "output_type": "stream",
     "text": [
      "129/129 - 31s - 243ms/step - auc_2: 0.9986 - loss: 0.0355 - val_auc_2: 0.9827 - val_loss: 0.1610\n",
      "Epoch 352/400\n",
      "129/129 - 0s - 89us/step - auc_2: 0.0000e+00 - loss: 0.0000e+00 - val_auc_2: 0.0000e+00 - val_loss: 0.0000e+00\n",
      "Epoch 353/400\n"
     ]
    },
    {
     "name": "stderr",
     "output_type": "stream",
     "text": [
      "2024-03-31 20:26:37.749862: W tensorflow/core/framework/local_rendezvous.cc:404] Local rendezvous is aborting with status: OUT_OF_RANGE: End of sequence\n",
      "\t [[{{node IteratorGetNext}}]]\n",
      "2024-03-31 20:26:37.753819: W tensorflow/core/framework/local_rendezvous.cc:404] Local rendezvous is aborting with status: OUT_OF_RANGE: End of sequence\n",
      "\t [[{{node IteratorGetNext}}]]\n"
     ]
    },
    {
     "name": "stdout",
     "output_type": "stream",
     "text": [
      "129/129 - 34s - 265ms/step - auc_2: 0.9987 - loss: 0.0410 - val_auc_2: 0.9870 - val_loss: 0.1318\n",
      "Epoch 354/400\n",
      "129/129 - 0s - 110us/step - auc_2: 0.0000e+00 - loss: 0.0000e+00 - val_auc_2: 0.0000e+00 - val_loss: 0.0000e+00\n",
      "Epoch 355/400\n"
     ]
    },
    {
     "name": "stderr",
     "output_type": "stream",
     "text": [
      "2024-03-31 20:27:11.970814: W tensorflow/core/framework/local_rendezvous.cc:404] Local rendezvous is aborting with status: OUT_OF_RANGE: End of sequence\n",
      "\t [[{{node IteratorGetNext}}]]\n",
      "2024-03-31 20:27:11.975889: W tensorflow/core/framework/local_rendezvous.cc:404] Local rendezvous is aborting with status: OUT_OF_RANGE: End of sequence\n",
      "\t [[{{node IteratorGetNext}}]]\n"
     ]
    },
    {
     "name": "stdout",
     "output_type": "stream",
     "text": [
      "129/129 - 34s - 263ms/step - auc_2: 0.9983 - loss: 0.0457 - val_auc_2: 0.9820 - val_loss: 0.1443\n",
      "Epoch 356/400\n",
      "129/129 - 0s - 63us/step - auc_2: 0.0000e+00 - loss: 0.0000e+00 - val_auc_2: 0.0000e+00 - val_loss: 0.0000e+00\n",
      "Epoch 357/400\n"
     ]
    },
    {
     "name": "stderr",
     "output_type": "stream",
     "text": [
      "2024-03-31 20:27:45.893374: W tensorflow/core/framework/local_rendezvous.cc:404] Local rendezvous is aborting with status: OUT_OF_RANGE: End of sequence\n",
      "\t [[{{node IteratorGetNext}}]]\n",
      "2024-03-31 20:27:45.896309: W tensorflow/core/framework/local_rendezvous.cc:404] Local rendezvous is aborting with status: OUT_OF_RANGE: End of sequence\n",
      "\t [[{{node IteratorGetNext}}]]\n"
     ]
    },
    {
     "name": "stdout",
     "output_type": "stream",
     "text": [
      "129/129 - 30s - 234ms/step - auc_2: 0.9985 - loss: 0.0420 - val_auc_2: 0.9724 - val_loss: 0.1845\n",
      "Epoch 358/400\n",
      "129/129 - 0s - 61us/step - auc_2: 0.0000e+00 - loss: 0.0000e+00 - val_auc_2: 0.0000e+00 - val_loss: 0.0000e+00\n",
      "Epoch 359/400\n"
     ]
    },
    {
     "name": "stderr",
     "output_type": "stream",
     "text": [
      "2024-03-31 20:28:16.140051: W tensorflow/core/framework/local_rendezvous.cc:404] Local rendezvous is aborting with status: OUT_OF_RANGE: End of sequence\n",
      "\t [[{{node IteratorGetNext}}]]\n",
      "2024-03-31 20:28:16.142811: W tensorflow/core/framework/local_rendezvous.cc:404] Local rendezvous is aborting with status: OUT_OF_RANGE: End of sequence\n",
      "\t [[{{node IteratorGetNext}}]]\n"
     ]
    },
    {
     "name": "stdout",
     "output_type": "stream",
     "text": [
      "129/129 - 30s - 236ms/step - auc_2: 0.9982 - loss: 0.0452 - val_auc_2: 0.9769 - val_loss: 0.1612\n",
      "Epoch 360/400\n",
      "129/129 - 0s - 59us/step - auc_2: 0.0000e+00 - loss: 0.0000e+00 - val_auc_2: 0.0000e+00 - val_loss: 0.0000e+00\n",
      "Epoch 361/400\n"
     ]
    },
    {
     "name": "stderr",
     "output_type": "stream",
     "text": [
      "2024-03-31 20:28:46.561847: W tensorflow/core/framework/local_rendezvous.cc:404] Local rendezvous is aborting with status: OUT_OF_RANGE: End of sequence\n",
      "\t [[{{node IteratorGetNext}}]]\n",
      "2024-03-31 20:28:46.564479: W tensorflow/core/framework/local_rendezvous.cc:404] Local rendezvous is aborting with status: OUT_OF_RANGE: End of sequence\n",
      "\t [[{{node IteratorGetNext}}]]\n"
     ]
    },
    {
     "name": "stdout",
     "output_type": "stream",
     "text": [
      "129/129 - 30s - 235ms/step - auc_2: 0.9988 - loss: 0.0393 - val_auc_2: 0.9788 - val_loss: 0.1594\n",
      "Epoch 362/400\n",
      "129/129 - 0s - 59us/step - auc_2: 0.0000e+00 - loss: 0.0000e+00 - val_auc_2: 0.0000e+00 - val_loss: 0.0000e+00\n",
      "Epoch 363/400\n"
     ]
    },
    {
     "name": "stderr",
     "output_type": "stream",
     "text": [
      "2024-03-31 20:29:16.889569: W tensorflow/core/framework/local_rendezvous.cc:404] Local rendezvous is aborting with status: OUT_OF_RANGE: End of sequence\n",
      "\t [[{{node IteratorGetNext}}]]\n",
      "2024-03-31 20:29:16.892176: W tensorflow/core/framework/local_rendezvous.cc:404] Local rendezvous is aborting with status: OUT_OF_RANGE: End of sequence\n",
      "\t [[{{node IteratorGetNext}}]]\n"
     ]
    },
    {
     "name": "stdout",
     "output_type": "stream",
     "text": [
      "129/129 - 30s - 235ms/step - auc_2: 0.9980 - loss: 0.0435 - val_auc_2: 0.9831 - val_loss: 0.1594\n",
      "Epoch 364/400\n",
      "129/129 - 0s - 62us/step - auc_2: 0.0000e+00 - loss: 0.0000e+00 - val_auc_2: 0.0000e+00 - val_loss: 0.0000e+00\n",
      "Epoch 365/400\n"
     ]
    },
    {
     "name": "stderr",
     "output_type": "stream",
     "text": [
      "2024-03-31 20:29:47.197129: W tensorflow/core/framework/local_rendezvous.cc:404] Local rendezvous is aborting with status: OUT_OF_RANGE: End of sequence\n",
      "\t [[{{node IteratorGetNext}}]]\n",
      "2024-03-31 20:29:47.200032: W tensorflow/core/framework/local_rendezvous.cc:404] Local rendezvous is aborting with status: OUT_OF_RANGE: End of sequence\n",
      "\t [[{{node IteratorGetNext}}]]\n"
     ]
    },
    {
     "name": "stdout",
     "output_type": "stream",
     "text": [
      "129/129 - 30s - 233ms/step - auc_2: 0.9985 - loss: 0.0378 - val_auc_2: 0.9813 - val_loss: 0.1484\n",
      "Epoch 366/400\n",
      "129/129 - 0s - 59us/step - auc_2: 0.0000e+00 - loss: 0.0000e+00 - val_auc_2: 0.0000e+00 - val_loss: 0.0000e+00\n",
      "Epoch 367/400\n"
     ]
    },
    {
     "name": "stderr",
     "output_type": "stream",
     "text": [
      "2024-03-31 20:30:17.303816: W tensorflow/core/framework/local_rendezvous.cc:404] Local rendezvous is aborting with status: OUT_OF_RANGE: End of sequence\n",
      "\t [[{{node IteratorGetNext}}]]\n",
      "2024-03-31 20:30:17.306343: W tensorflow/core/framework/local_rendezvous.cc:404] Local rendezvous is aborting with status: OUT_OF_RANGE: End of sequence\n",
      "\t [[{{node IteratorGetNext}}]]\n"
     ]
    },
    {
     "name": "stdout",
     "output_type": "stream",
     "text": [
      "129/129 - 30s - 235ms/step - auc_2: 0.9984 - loss: 0.0454 - val_auc_2: 0.9744 - val_loss: 0.1731\n",
      "Epoch 368/400\n",
      "129/129 - 0s - 67us/step - auc_2: 0.0000e+00 - loss: 0.0000e+00 - val_auc_2: 0.0000e+00 - val_loss: 0.0000e+00\n",
      "Epoch 369/400\n"
     ]
    },
    {
     "name": "stderr",
     "output_type": "stream",
     "text": [
      "2024-03-31 20:30:47.601762: W tensorflow/core/framework/local_rendezvous.cc:404] Local rendezvous is aborting with status: OUT_OF_RANGE: End of sequence\n",
      "\t [[{{node IteratorGetNext}}]]\n",
      "2024-03-31 20:30:47.605050: W tensorflow/core/framework/local_rendezvous.cc:404] Local rendezvous is aborting with status: OUT_OF_RANGE: End of sequence\n",
      "\t [[{{node IteratorGetNext}}]]\n"
     ]
    },
    {
     "name": "stdout",
     "output_type": "stream",
     "text": [
      "129/129 - 29s - 226ms/step - auc_2: 0.9984 - loss: 0.0400 - val_auc_2: 0.9804 - val_loss: 0.1358\n",
      "Epoch 370/400\n",
      "129/129 - 0s - 55us/step - auc_2: 0.0000e+00 - loss: 0.0000e+00 - val_auc_2: 0.0000e+00 - val_loss: 0.0000e+00\n",
      "Epoch 371/400\n"
     ]
    },
    {
     "name": "stderr",
     "output_type": "stream",
     "text": [
      "2024-03-31 20:31:16.767419: W tensorflow/core/framework/local_rendezvous.cc:404] Local rendezvous is aborting with status: OUT_OF_RANGE: End of sequence\n",
      "\t [[{{node IteratorGetNext}}]]\n",
      "2024-03-31 20:31:16.769851: W tensorflow/core/framework/local_rendezvous.cc:404] Local rendezvous is aborting with status: OUT_OF_RANGE: End of sequence\n",
      "\t [[{{node IteratorGetNext}}]]\n"
     ]
    },
    {
     "name": "stdout",
     "output_type": "stream",
     "text": [
      "129/129 - 30s - 231ms/step - auc_2: 0.9983 - loss: 0.0413 - val_auc_2: 0.9829 - val_loss: 0.2287\n",
      "Epoch 372/400\n",
      "129/129 - 0s - 62us/step - auc_2: 0.0000e+00 - loss: 0.0000e+00 - val_auc_2: 0.0000e+00 - val_loss: 0.0000e+00\n",
      "Epoch 373/400\n"
     ]
    },
    {
     "name": "stderr",
     "output_type": "stream",
     "text": [
      "2024-03-31 20:31:46.562012: W tensorflow/core/framework/local_rendezvous.cc:404] Local rendezvous is aborting with status: OUT_OF_RANGE: End of sequence\n",
      "\t [[{{node IteratorGetNext}}]]\n",
      "2024-03-31 20:31:46.564835: W tensorflow/core/framework/local_rendezvous.cc:404] Local rendezvous is aborting with status: OUT_OF_RANGE: End of sequence\n",
      "\t [[{{node IteratorGetNext}}]]\n"
     ]
    },
    {
     "name": "stdout",
     "output_type": "stream",
     "text": [
      "129/129 - 30s - 231ms/step - auc_2: 0.9973 - loss: 0.0500 - val_auc_2: 0.9732 - val_loss: 0.2308\n",
      "Epoch 374/400\n",
      "129/129 - 0s - 70us/step - auc_2: 0.0000e+00 - loss: 0.0000e+00 - val_auc_2: 0.0000e+00 - val_loss: 0.0000e+00\n",
      "Epoch 375/400\n"
     ]
    },
    {
     "name": "stderr",
     "output_type": "stream",
     "text": [
      "2024-03-31 20:32:16.382638: W tensorflow/core/framework/local_rendezvous.cc:404] Local rendezvous is aborting with status: OUT_OF_RANGE: End of sequence\n",
      "\t [[{{node IteratorGetNext}}]]\n",
      "2024-03-31 20:32:16.385748: W tensorflow/core/framework/local_rendezvous.cc:404] Local rendezvous is aborting with status: OUT_OF_RANGE: End of sequence\n",
      "\t [[{{node IteratorGetNext}}]]\n"
     ]
    },
    {
     "name": "stdout",
     "output_type": "stream",
     "text": [
      "129/129 - 30s - 233ms/step - auc_2: 0.9984 - loss: 0.0396 - val_auc_2: 0.9724 - val_loss: 0.1944\n",
      "Epoch 376/400\n",
      "129/129 - 0s - 57us/step - auc_2: 0.0000e+00 - loss: 0.0000e+00 - val_auc_2: 0.0000e+00 - val_loss: 0.0000e+00\n",
      "Epoch 377/400\n"
     ]
    },
    {
     "name": "stderr",
     "output_type": "stream",
     "text": [
      "2024-03-31 20:32:46.408202: W tensorflow/core/framework/local_rendezvous.cc:404] Local rendezvous is aborting with status: OUT_OF_RANGE: End of sequence\n",
      "\t [[{{node IteratorGetNext}}]]\n",
      "2024-03-31 20:32:46.410799: W tensorflow/core/framework/local_rendezvous.cc:404] Local rendezvous is aborting with status: OUT_OF_RANGE: End of sequence\n",
      "\t [[{{node IteratorGetNext}}]]\n"
     ]
    },
    {
     "name": "stdout",
     "output_type": "stream",
     "text": [
      "129/129 - 30s - 231ms/step - auc_2: 0.9982 - loss: 0.0406 - val_auc_2: 0.9881 - val_loss: 0.1286\n",
      "Epoch 378/400\n",
      "129/129 - 0s - 61us/step - auc_2: 0.0000e+00 - loss: 0.0000e+00 - val_auc_2: 0.0000e+00 - val_loss: 0.0000e+00\n",
      "Epoch 379/400\n"
     ]
    },
    {
     "name": "stderr",
     "output_type": "stream",
     "text": [
      "2024-03-31 20:33:16.206122: W tensorflow/core/framework/local_rendezvous.cc:404] Local rendezvous is aborting with status: OUT_OF_RANGE: End of sequence\n",
      "\t [[{{node IteratorGetNext}}]]\n",
      "2024-03-31 20:33:16.208661: W tensorflow/core/framework/local_rendezvous.cc:404] Local rendezvous is aborting with status: OUT_OF_RANGE: End of sequence\n",
      "\t [[{{node IteratorGetNext}}]]\n"
     ]
    },
    {
     "name": "stdout",
     "output_type": "stream",
     "text": [
      "129/129 - 30s - 231ms/step - auc_2: 0.9981 - loss: 0.0378 - val_auc_2: 0.9848 - val_loss: 0.1428\n",
      "Epoch 380/400\n",
      "129/129 - 0s - 89us/step - auc_2: 0.0000e+00 - loss: 0.0000e+00 - val_auc_2: 0.0000e+00 - val_loss: 0.0000e+00\n",
      "Epoch 381/400\n"
     ]
    },
    {
     "name": "stderr",
     "output_type": "stream",
     "text": [
      "2024-03-31 20:33:45.981462: W tensorflow/core/framework/local_rendezvous.cc:404] Local rendezvous is aborting with status: OUT_OF_RANGE: End of sequence\n",
      "\t [[{{node IteratorGetNext}}]]\n",
      "2024-03-31 20:33:45.984724: W tensorflow/core/framework/local_rendezvous.cc:404] Local rendezvous is aborting with status: OUT_OF_RANGE: End of sequence\n",
      "\t [[{{node IteratorGetNext}}]]\n"
     ]
    },
    {
     "name": "stdout",
     "output_type": "stream",
     "text": [
      "129/129 - 30s - 232ms/step - auc_2: 0.9990 - loss: 0.0329 - val_auc_2: 0.9789 - val_loss: 0.1672\n",
      "Epoch 382/400\n",
      "129/129 - 0s - 75us/step - auc_2: 0.0000e+00 - loss: 0.0000e+00 - val_auc_2: 0.0000e+00 - val_loss: 0.0000e+00\n",
      "Epoch 383/400\n"
     ]
    },
    {
     "name": "stderr",
     "output_type": "stream",
     "text": [
      "2024-03-31 20:34:15.969114: W tensorflow/core/framework/local_rendezvous.cc:404] Local rendezvous is aborting with status: OUT_OF_RANGE: End of sequence\n",
      "\t [[{{node IteratorGetNext}}]]\n",
      "2024-03-31 20:34:15.971886: W tensorflow/core/framework/local_rendezvous.cc:404] Local rendezvous is aborting with status: OUT_OF_RANGE: End of sequence\n",
      "\t [[{{node IteratorGetNext}}]]\n"
     ]
    },
    {
     "name": "stdout",
     "output_type": "stream",
     "text": [
      "129/129 - 30s - 231ms/step - auc_2: 0.9983 - loss: 0.0398 - val_auc_2: 0.9740 - val_loss: 0.1881\n",
      "Epoch 384/400\n",
      "129/129 - 0s - 62us/step - auc_2: 0.0000e+00 - loss: 0.0000e+00 - val_auc_2: 0.0000e+00 - val_loss: 0.0000e+00\n",
      "Epoch 385/400\n"
     ]
    },
    {
     "name": "stderr",
     "output_type": "stream",
     "text": [
      "2024-03-31 20:34:45.727530: W tensorflow/core/framework/local_rendezvous.cc:404] Local rendezvous is aborting with status: OUT_OF_RANGE: End of sequence\n",
      "\t [[{{node IteratorGetNext}}]]\n",
      "2024-03-31 20:34:45.730411: W tensorflow/core/framework/local_rendezvous.cc:404] Local rendezvous is aborting with status: OUT_OF_RANGE: End of sequence\n",
      "\t [[{{node IteratorGetNext}}]]\n"
     ]
    },
    {
     "name": "stdout",
     "output_type": "stream",
     "text": [
      "129/129 - 30s - 232ms/step - auc_2: 0.9978 - loss: 0.0360 - val_auc_2: 0.9841 - val_loss: 0.1454\n",
      "Epoch 386/400\n",
      "129/129 - 0s - 58us/step - auc_2: 0.0000e+00 - loss: 0.0000e+00 - val_auc_2: 0.0000e+00 - val_loss: 0.0000e+00\n",
      "Epoch 387/400\n"
     ]
    },
    {
     "name": "stderr",
     "output_type": "stream",
     "text": [
      "2024-03-31 20:35:15.643096: W tensorflow/core/framework/local_rendezvous.cc:404] Local rendezvous is aborting with status: OUT_OF_RANGE: End of sequence\n",
      "\t [[{{node IteratorGetNext}}]]\n",
      "2024-03-31 20:35:15.645720: W tensorflow/core/framework/local_rendezvous.cc:404] Local rendezvous is aborting with status: OUT_OF_RANGE: End of sequence\n",
      "\t [[{{node IteratorGetNext}}]]\n"
     ]
    },
    {
     "name": "stdout",
     "output_type": "stream",
     "text": [
      "129/129 - 30s - 230ms/step - auc_2: 0.9988 - loss: 0.0367 - val_auc_2: 0.9814 - val_loss: 0.1546\n",
      "Epoch 388/400\n",
      "129/129 - 0s - 76us/step - auc_2: 0.0000e+00 - loss: 0.0000e+00 - val_auc_2: 0.0000e+00 - val_loss: 0.0000e+00\n",
      "Epoch 389/400\n"
     ]
    },
    {
     "name": "stderr",
     "output_type": "stream",
     "text": [
      "2024-03-31 20:35:45.381376: W tensorflow/core/framework/local_rendezvous.cc:404] Local rendezvous is aborting with status: OUT_OF_RANGE: End of sequence\n",
      "\t [[{{node IteratorGetNext}}]]\n",
      "2024-03-31 20:35:45.384548: W tensorflow/core/framework/local_rendezvous.cc:404] Local rendezvous is aborting with status: OUT_OF_RANGE: End of sequence\n",
      "\t [[{{node IteratorGetNext}}]]\n"
     ]
    },
    {
     "name": "stdout",
     "output_type": "stream",
     "text": [
      "129/129 - 30s - 234ms/step - auc_2: 0.9993 - loss: 0.0316 - val_auc_2: 0.9771 - val_loss: 0.1754\n",
      "Epoch 390/400\n",
      "129/129 - 0s - 62us/step - auc_2: 0.0000e+00 - loss: 0.0000e+00 - val_auc_2: 0.0000e+00 - val_loss: 0.0000e+00\n",
      "Epoch 391/400\n"
     ]
    },
    {
     "name": "stderr",
     "output_type": "stream",
     "text": [
      "2024-03-31 20:36:15.570608: W tensorflow/core/framework/local_rendezvous.cc:404] Local rendezvous is aborting with status: OUT_OF_RANGE: End of sequence\n",
      "\t [[{{node IteratorGetNext}}]]\n",
      "2024-03-31 20:36:15.573348: W tensorflow/core/framework/local_rendezvous.cc:404] Local rendezvous is aborting with status: OUT_OF_RANGE: End of sequence\n",
      "\t [[{{node IteratorGetNext}}]]\n"
     ]
    },
    {
     "name": "stdout",
     "output_type": "stream",
     "text": [
      "129/129 - 30s - 233ms/step - auc_2: 0.9974 - loss: 0.0406 - val_auc_2: 0.9767 - val_loss: 0.1793\n",
      "Epoch 392/400\n",
      "129/129 - 0s - 67us/step - auc_2: 0.0000e+00 - loss: 0.0000e+00 - val_auc_2: 0.0000e+00 - val_loss: 0.0000e+00\n",
      "Epoch 393/400\n"
     ]
    },
    {
     "name": "stderr",
     "output_type": "stream",
     "text": [
      "2024-03-31 20:36:45.684694: W tensorflow/core/framework/local_rendezvous.cc:404] Local rendezvous is aborting with status: OUT_OF_RANGE: End of sequence\n",
      "\t [[{{node IteratorGetNext}}]]\n",
      "2024-03-31 20:36:45.687779: W tensorflow/core/framework/local_rendezvous.cc:404] Local rendezvous is aborting with status: OUT_OF_RANGE: End of sequence\n",
      "\t [[{{node IteratorGetNext}}]]\n"
     ]
    },
    {
     "name": "stdout",
     "output_type": "stream",
     "text": [
      "129/129 - 30s - 233ms/step - auc_2: 0.9981 - loss: 0.0366 - val_auc_2: 0.9845 - val_loss: 0.1740\n",
      "Epoch 394/400\n",
      "129/129 - 0s - 59us/step - auc_2: 0.0000e+00 - loss: 0.0000e+00 - val_auc_2: 0.0000e+00 - val_loss: 0.0000e+00\n",
      "Epoch 395/400\n"
     ]
    },
    {
     "name": "stderr",
     "output_type": "stream",
     "text": [
      "2024-03-31 20:37:15.735271: W tensorflow/core/framework/local_rendezvous.cc:404] Local rendezvous is aborting with status: OUT_OF_RANGE: End of sequence\n",
      "\t [[{{node IteratorGetNext}}]]\n",
      "2024-03-31 20:37:15.737893: W tensorflow/core/framework/local_rendezvous.cc:404] Local rendezvous is aborting with status: OUT_OF_RANGE: End of sequence\n",
      "\t [[{{node IteratorGetNext}}]]\n"
     ]
    },
    {
     "name": "stdout",
     "output_type": "stream",
     "text": [
      "129/129 - 30s - 234ms/step - auc_2: 0.9986 - loss: 0.0327 - val_auc_2: 0.9835 - val_loss: 0.1683\n",
      "Epoch 396/400\n",
      "129/129 - 0s - 60us/step - auc_2: 0.0000e+00 - loss: 0.0000e+00 - val_auc_2: 0.0000e+00 - val_loss: 0.0000e+00\n",
      "Epoch 397/400\n"
     ]
    },
    {
     "name": "stderr",
     "output_type": "stream",
     "text": [
      "2024-03-31 20:37:45.920865: W tensorflow/core/framework/local_rendezvous.cc:404] Local rendezvous is aborting with status: OUT_OF_RANGE: End of sequence\n",
      "\t [[{{node IteratorGetNext}}]]\n",
      "2024-03-31 20:37:45.923505: W tensorflow/core/framework/local_rendezvous.cc:404] Local rendezvous is aborting with status: OUT_OF_RANGE: End of sequence\n",
      "\t [[{{node IteratorGetNext}}]]\n"
     ]
    },
    {
     "name": "stdout",
     "output_type": "stream",
     "text": [
      "129/129 - 30s - 234ms/step - auc_2: 0.9991 - loss: 0.0314 - val_auc_2: 0.9834 - val_loss: 0.1386\n",
      "Epoch 398/400\n",
      "129/129 - 0s - 72us/step - auc_2: 0.0000e+00 - loss: 0.0000e+00 - val_auc_2: 0.0000e+00 - val_loss: 0.0000e+00\n",
      "Epoch 399/400\n"
     ]
    },
    {
     "name": "stderr",
     "output_type": "stream",
     "text": [
      "2024-03-31 20:38:16.146963: W tensorflow/core/framework/local_rendezvous.cc:404] Local rendezvous is aborting with status: OUT_OF_RANGE: End of sequence\n",
      "\t [[{{node IteratorGetNext}}]]\n",
      "2024-03-31 20:38:16.150064: W tensorflow/core/framework/local_rendezvous.cc:404] Local rendezvous is aborting with status: OUT_OF_RANGE: End of sequence\n",
      "\t [[{{node IteratorGetNext}}]]\n"
     ]
    },
    {
     "name": "stdout",
     "output_type": "stream",
     "text": [
      "129/129 - 31s - 238ms/step - auc_2: 0.9986 - loss: 0.0354 - val_auc_2: 0.9828 - val_loss: 0.1432\n",
      "Epoch 400/400\n",
      "129/129 - 0s - 60us/step - auc_2: 0.0000e+00 - loss: 0.0000e+00 - val_auc_2: 0.0000e+00 - val_loss: 0.0000e+00\n"
     ]
    },
    {
     "name": "stderr",
     "output_type": "stream",
     "text": [
      "2024-03-31 20:38:46.885765: W tensorflow/core/framework/local_rendezvous.cc:404] Local rendezvous is aborting with status: OUT_OF_RANGE: End of sequence\n",
      "\t [[{{node IteratorGetNext}}]]\n",
      "2024-03-31 20:38:46.888440: W tensorflow/core/framework/local_rendezvous.cc:404] Local rendezvous is aborting with status: OUT_OF_RANGE: End of sequence\n",
      "\t [[{{node IteratorGetNext}}]]\n"
     ]
    }
   ],
   "source": [
    "#Model 7(c): Conv2D x 3 + 128 dense units + (batch_size = 64) + (kernel = 5) (400 epochs)\n",
    "hyper_feature_maps = 64\n",
    "cnn = Sequential()\n",
    "cnn.add(InputLayer(shape=(hyper_dimension, hyper_dimension, hyper_channels)))\n",
    "\n",
    "cnn.add(Conv2D(filters=hyper_feature_maps, kernel_size=5, activation='relu'))\n",
    "cnn.add(MaxPooling2D(pool_size=(2,2)))\n",
    "\n",
    "cnn.add(Conv2D(filters=hyper_feature_maps, kernel_size=5, activation='relu'))\n",
    "cnn.add(MaxPooling2D(pool_size=(2,2)))\n",
    "\n",
    "cnn.add(Conv2D(filters=hyper_feature_maps, kernel_size=5, activation='relu'))\n",
    "cnn.add(MaxPooling2D(pool_size=(2,2)))\n",
    "\n",
    "cnn.add(Flatten())\n",
    "\n",
    "cnn.add(Dense(activation='relu', units=128))\n",
    "cnn.add(Dense(activation='sigmoid', units=1))\n",
    "\n",
    "cnn.compile(optimizer= 'adam', loss='binary_crossentropy', metrics=[AUC()])\n",
    "cnn_model = cnn.fit(train_generator, \n",
    "                              steps_per_epoch = len(train_generator), \n",
    "                              epochs =400, \n",
    "                              validation_data = val_generator,\n",
    "                              validation_steps = len(val_generator), \n",
    "                              verbose=2)"
   ]
  },
  {
   "cell_type": "code",
   "execution_count": 11,
   "id": "57c5c86a",
   "metadata": {},
   "outputs": [
    {
     "name": "stdout",
     "output_type": "stream",
     "text": [
      "\u001b[1m28/28\u001b[0m \u001b[32m━━━━━━━━━━━━━━━━━━━━\u001b[0m\u001b[37m\u001b[0m \u001b[1m3s\u001b[0m 103ms/step\n",
      "[Summary Statistics]\n",
      "Accuracy = 93.15% | Precision = 92.77% | Recall = 98.28% | Specificity = 79.24% | F1 Score = 95.45%\n"
     ]
    },
    {
     "data": {
      "image/png": "[encoded data removed]",
      "text/plain": [
       "<Figure size 1300x1000 with 5 Axes>"
      ]
     },
     "metadata": {},
     "output_type": "display_data"
    }
   ],
   "source": [
    "create_charts(cnn, cnn_model)"
   ]
  },
  {
   "cell_type": "code",
   "execution_count": null,
   "id": "ae9ace56",
   "metadata": {},
   "outputs": [],
   "source": []
  }
 ],
 "metadata": {
  "kernelspec": {
   "display_name": "Python 3 (ipykernel)",
   "language": "python",
   "name": "python3"
  },
  "language_info": {
   "codemirror_mode": {
    "name": "ipython",
    "version": 3
   },
   "file_extension": ".py",
   "mimetype": "text/x-python",
   "name": "python",
   "nbconvert_exporter": "python",
   "pygments_lexer": "ipython3",
   "version": "3.11.4"
  }
 },
 "nbformat": 4,
 "nbformat_minor": 5
}
